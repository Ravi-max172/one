{
 "cells": [
  {
   "cell_type": "code",
   "execution_count": 1,
   "id": "a1e81b46-8910-41c1-8391-3020db938ca0",
   "metadata": {},
   "outputs": [],
   "source": [
    "import numpy  as np \n"
   ]
  },
  {
   "cell_type": "code",
   "execution_count": 2,
   "id": "9655eabf-b485-4315-ac8e-6323ea13bfa7",
   "metadata": {},
   "outputs": [
    {
     "name": "stdout",
     "output_type": "stream",
     "text": [
      "1.26.4\n"
     ]
    },
    {
     "data": {
      "text/plain": [
       "<function numpy.__config__.show(mode='stdout')>"
      ]
     },
     "execution_count": 2,
     "metadata": {},
     "output_type": "execute_result"
    }
   ],
   "source": [
    "print(np.__version__)\n",
    "np.show_config"
   ]
  },
  {
   "cell_type": "code",
   "execution_count": 3,
   "id": "b261212b-0062-4a57-b84a-9e7cd196167a",
   "metadata": {},
   "outputs": [],
   "source": [
    "## 3. Create a null vector of size 10 (★☆☆)"
   ]
  },
  {
   "cell_type": "code",
   "execution_count": 4,
   "id": "ad997133-8ad5-472b-ae19-1d520bc39aca",
   "metadata": {},
   "outputs": [
    {
     "name": "stdout",
     "output_type": "stream",
     "text": [
      "[[0. 0. 0. 0. 0.]\n",
      " [0. 0. 0. 0. 0.]]\n"
     ]
    }
   ],
   "source": [
    "arrays=np.zeros(10).reshape(2,5)\n",
    "print(arrays)"
   ]
  },
  {
   "cell_type": "code",
   "execution_count": 5,
   "id": "6c475df6-bd62-49ec-b1d8-7a1cbe2c4458",
   "metadata": {},
   "outputs": [],
   "source": [
    "#### 4. How to find the memory size of any array (★☆☆)"
   ]
  },
  {
   "cell_type": "code",
   "execution_count": 6,
   "id": "76ed5df1-143c-4ea8-9624-0a386055f924",
   "metadata": {},
   "outputs": [
    {
     "name": "stdout",
     "output_type": "stream",
     "text": [
      "800 bytes\n"
     ]
    }
   ],
   "source": [
    "Z = np.zeros((10,10))\n",
    "print(\"%d bytes\" % (Z.size * Z.itemsize))\n",
    "\n"
   ]
  },
  {
   "cell_type": "code",
   "execution_count": 7,
   "id": "dd7df216-55b1-420f-837a-820d64f84fa0",
   "metadata": {},
   "outputs": [],
   "source": [
    "#### 5. How to get the documentation of the numpy add function from the command line? (★☆☆)\n"
   ]
  },
  {
   "cell_type": "code",
   "execution_count": 8,
   "id": "907c4dc6-7693-4301-b5e3-440cc1a69b88",
   "metadata": {},
   "outputs": [],
   "source": [
    "#### 6. Create a null vector of size 10 but the fifth value which is 1 (★☆☆)\n"
   ]
  },
  {
   "cell_type": "code",
   "execution_count": 9,
   "id": "bab4a4ff-29b1-452d-b5c8-f2e15a901f3b",
   "metadata": {},
   "outputs": [
    {
     "name": "stdout",
     "output_type": "stream",
     "text": [
      "[0. 0. 0. 0. 1. 0. 0. 0. 0. 0.]\n"
     ]
    }
   ],
   "source": [
    "my_arr=np.zeros(10)\n",
    "my_arr[4]=1\n",
    "print(my_arr)"
   ]
  },
  {
   "cell_type": "code",
   "execution_count": 10,
   "id": "82788a2a-a979-41d0-97c6-861524c1998d",
   "metadata": {},
   "outputs": [],
   "source": [
    "#### 7. Create a vector with values ranging from 10 to 49 (★☆☆)"
   ]
  },
  {
   "cell_type": "code",
   "execution_count": 11,
   "id": "9b4826ab-3bfa-4486-a733-b8d07015b3fe",
   "metadata": {},
   "outputs": [
    {
     "name": "stdout",
     "output_type": "stream",
     "text": [
      "[10 11 12 13 14 15 16 17 18 19 20 21 22 23 24 25 26 27 28 29 30 31 32 33\n",
      " 34 35 36 37 38 39 40 41 42 43 44 45 46 47 48 49]\n"
     ]
    }
   ],
   "source": [
    "A=np.arange(10,50)\n",
    "print(A)"
   ]
  },
  {
   "cell_type": "code",
   "execution_count": 12,
   "id": "6c3504bc-a740-4e67-b7ed-e778e4cc9824",
   "metadata": {},
   "outputs": [],
   "source": [
    "#### 8. Reverse a vector (first element becomes last) (★☆☆)"
   ]
  },
  {
   "cell_type": "code",
   "execution_count": 13,
   "id": "4be0c298-703f-4cfb-8b5c-c5857be7ec91",
   "metadata": {},
   "outputs": [
    {
     "name": "stdout",
     "output_type": "stream",
     "text": [
      "[49 48 47 46 45 44 43 42 41 40 39 38 37 36 35 34 33 32 31 30 29 28 27 26\n",
      " 25 24 23 22 21 20 19 18 17 16 15 14 13 12 11 10]\n"
     ]
    }
   ],
   "source": [
    "A=np.arange(10,50)\n",
    "b=A[::-1]\n",
    "print(b)"
   ]
  },
  {
   "cell_type": "code",
   "execution_count": 14,
   "id": "a3d0a73b-2eca-4a5f-b811-c8c4f970d109",
   "metadata": {},
   "outputs": [],
   "source": [
    "#### 9. Create a 3x3 matrix with values ranging from 0 to 8 (★☆☆)"
   ]
  },
  {
   "cell_type": "code",
   "execution_count": 15,
   "id": "34774c49-a0cf-4a7a-9c1a-147eb801ce31",
   "metadata": {},
   "outputs": [
    {
     "name": "stdout",
     "output_type": "stream",
     "text": [
      "[[0 1 2]\n",
      " [3 4 5]\n",
      " [6 7 8]]\n"
     ]
    }
   ],
   "source": [
    "A=np.arange(9).reshape(3,3)\n",
    "print(A)"
   ]
  },
  {
   "cell_type": "code",
   "execution_count": 16,
   "id": "4f439f40-d555-4fa6-9716-043c3ba9a5e1",
   "metadata": {},
   "outputs": [],
   "source": [
    "#### 10. Find indices of non-zero elements from [1,2,0,0,4,0] (★☆☆)\n",
    "\n"
   ]
  },
  {
   "cell_type": "code",
   "execution_count": 17,
   "id": "17fd8338-45da-475a-b340-419e42c1cc8e",
   "metadata": {},
   "outputs": [
    {
     "name": "stdout",
     "output_type": "stream",
     "text": [
      "(array([0, 1, 4], dtype=int64),)\n"
     ]
    }
   ],
   "source": [
    "npz=np.nonzero([1,2,0,0,4,0])\n",
    "print(npz)"
   ]
  },
  {
   "cell_type": "code",
   "execution_count": 18,
   "id": "4203878f-1ca2-42f8-a635-292fb676a8bd",
   "metadata": {},
   "outputs": [],
   "source": [
    "#### 11. Create a 3x3 identity matrix (★☆☆)"
   ]
  },
  {
   "cell_type": "code",
   "execution_count": 19,
   "id": "3f3c6d6c-54f8-45f5-8e64-5c02f8a81425",
   "metadata": {},
   "outputs": [
    {
     "name": "stdout",
     "output_type": "stream",
     "text": [
      "[[1. 0. 0.]\n",
      " [0. 1. 0.]\n",
      " [0. 0. 1.]]\n"
     ]
    }
   ],
   "source": [
    "A=np.eye(3)\n",
    "print(A)"
   ]
  },
  {
   "cell_type": "code",
   "execution_count": 20,
   "id": "1d22097e-a79c-4944-a7c0-517ce0fd54a0",
   "metadata": {},
   "outputs": [],
   "source": [
    "#### 12. Create a 3x3x3 array with random values (★☆☆)\n"
   ]
  },
  {
   "cell_type": "code",
   "execution_count": 21,
   "id": "f9c90d0e-df31-4cdb-baa0-07b729b9feb7",
   "metadata": {},
   "outputs": [
    {
     "name": "stdout",
     "output_type": "stream",
     "text": [
      "[[[0.97675389 0.17798962 0.9038514 ]\n",
      "  [0.25228512 0.5774304  0.30969432]\n",
      "  [0.19390944 0.58757943 0.09323202]]\n",
      "\n",
      " [[0.01394128 0.29732954 0.25785164]\n",
      "  [0.07777141 0.21971572 0.8546961 ]\n",
      "  [0.24163426 0.74961052 0.42325994]]\n",
      "\n",
      " [[0.28019177 0.60893314 0.40529445]\n",
      "  [0.05050591 0.70656092 0.90864162]\n",
      "  [0.85604738 0.4833392  0.48135124]]]\n"
     ]
    }
   ],
   "source": [
    "randoms=np.random.random((3,3,3))\n",
    "print(randoms)"
   ]
  },
  {
   "cell_type": "code",
   "execution_count": 22,
   "id": "794f2a59-f432-43c8-ab98-bce4133896b0",
   "metadata": {},
   "outputs": [],
   "source": [
    "#### 13. Create a 10x10 array with random values and find the minimum and maximum values (★☆☆)"
   ]
  },
  {
   "cell_type": "code",
   "execution_count": 23,
   "id": "fc4857da-b577-41f3-8cd2-a24e9b03291f",
   "metadata": {},
   "outputs": [
    {
     "name": "stdout",
     "output_type": "stream",
     "text": [
      "0.9991915841200462 and 0.009684242455498482\n"
     ]
    }
   ],
   "source": [
    "create=np.random.random((10,10))\n",
    "createmax,createmin=np.max(create),np.min(create)\n",
    "print(f\"{createmax} and {createmin}\")"
   ]
  },
  {
   "cell_type": "code",
   "execution_count": 24,
   "id": "3882df35-4ab9-479e-9ec0-e59f1159be5a",
   "metadata": {},
   "outputs": [],
   "source": [
    "#### 14. Create a random vector of size 30 and find the mean value (★☆☆)"
   ]
  },
  {
   "cell_type": "code",
   "execution_count": 25,
   "id": "3a37bb1f-b0fa-40b0-bc55-a612cc0dbd05",
   "metadata": {},
   "outputs": [
    {
     "name": "stdout",
     "output_type": "stream",
     "text": [
      "0.44070339128119645\n"
     ]
    }
   ],
   "source": [
    "create =np.random.random(30)\n",
    "mean_=np.mean(create)\n",
    "print(mean_)"
   ]
  },
  {
   "cell_type": "code",
   "execution_count": 26,
   "id": "6674b521-297b-4f70-b9a1-9a95ee3c4b82",
   "metadata": {},
   "outputs": [],
   "source": [
    "#### 15. Create a 2d array with 1 on the border and 0 inside (★☆☆)"
   ]
  },
  {
   "cell_type": "code",
   "execution_count": 27,
   "id": "03f14038-223a-4702-9082-a2377fea19e1",
   "metadata": {},
   "outputs": [
    {
     "name": "stdout",
     "output_type": "stream",
     "text": [
      "[[1. 1. 1. 1. 1. 1. 1. 1. 1. 1.]\n",
      " [1. 0. 0. 0. 0. 0. 0. 0. 0. 1.]\n",
      " [1. 0. 0. 0. 0. 0. 0. 0. 0. 1.]\n",
      " [1. 0. 0. 0. 0. 0. 0. 0. 0. 1.]\n",
      " [1. 0. 0. 0. 0. 0. 0. 0. 0. 1.]\n",
      " [1. 0. 0. 0. 0. 0. 0. 0. 0. 1.]\n",
      " [1. 0. 0. 0. 0. 0. 0. 0. 0. 1.]\n",
      " [1. 0. 0. 0. 0. 0. 0. 0. 0. 1.]\n",
      " [1. 0. 0. 0. 0. 0. 0. 0. 0. 1.]\n",
      " [1. 1. 1. 1. 1. 1. 1. 1. 1. 1.]]\n"
     ]
    }
   ],
   "source": [
    "create = np.ones((10,10))\n",
    "create[1:-1,1:-1]=0\n",
    "print(create)"
   ]
  },
  {
   "cell_type": "code",
   "execution_count": 28,
   "id": "895cbe28-2ac0-4c80-a454-d8597980007d",
   "metadata": {},
   "outputs": [],
   "source": [
    "### 16. How to add a border (filled with 0's) around an existing array? (★☆☆)"
   ]
  },
  {
   "cell_type": "code",
   "execution_count": 29,
   "id": "70ec0b7b-5db9-495a-ae2f-8505458095c0",
   "metadata": {},
   "outputs": [
    {
     "name": "stdout",
     "output_type": "stream",
     "text": [
      "[[ 0  0  0  0  0  0  0]\n",
      " [ 0  1  2  3  4  5  0]\n",
      " [ 0  6  7  8  9 10  0]\n",
      " [ 0 11 12 13 14 15  0]\n",
      " [ 0 16 17 18 19 20  0]\n",
      " [ 0 21 22 23 24 25  0]\n",
      " [ 0  0  0  0  0  0  0]]\n"
     ]
    }
   ],
   "source": [
    "A=np.arange(1,26).reshape(5,5)\n",
    "B=np.pad(A,pad_width=1,mode=\"constant\",constant_values=0)# pad is used for border\n",
    "print(B)"
   ]
  },
  {
   "cell_type": "code",
   "execution_count": 30,
   "id": "1a6c7276-5950-4d77-91c7-92e1ee9e194e",
   "metadata": {},
   "outputs": [],
   "source": [
    "#### 18. Create a 5x5 matrix with values 1,2,3,4 just below the diagonal (★☆☆)"
   ]
  },
  {
   "cell_type": "code",
   "execution_count": 31,
   "id": "6f826485-050d-4f0a-9263-44223bdd3636",
   "metadata": {},
   "outputs": [
    {
     "name": "stdout",
     "output_type": "stream",
     "text": [
      "[[0 0 0 0 0]\n",
      " [1 0 0 0 0]\n",
      " [0 2 0 0 0]\n",
      " [0 0 3 0 0]\n",
      " [0 0 0 4 0]]\n"
     ]
    }
   ],
   "source": [
    "Z = np.diag(1+np.arange(4),k=-1)\n",
    "print(Z)"
   ]
  },
  {
   "cell_type": "code",
   "execution_count": 32,
   "id": "dd85cbb5-befe-4c6d-8442-7f912a0ed983",
   "metadata": {},
   "outputs": [],
   "source": [
    "#### 19. Create a 8x8 matrix and fill it with a checkerboard pattern (★☆☆)\n"
   ]
  },
  {
   "cell_type": "code",
   "execution_count": 33,
   "id": "a39b8924-04b9-4d3f-9c82-1e6310a6106a",
   "metadata": {},
   "outputs": [
    {
     "name": "stdout",
     "output_type": "stream",
     "text": [
      "[[0 1 0 1 0 1 0 1]\n",
      " [1 0 1 0 1 0 1 0]\n",
      " [0 1 0 1 0 1 0 1]\n",
      " [1 0 1 0 1 0 1 0]\n",
      " [0 1 0 1 0 1 0 1]\n",
      " [1 0 1 0 1 0 1 0]\n",
      " [0 1 0 1 0 1 0 1]\n",
      " [1 0 1 0 1 0 1 0]]\n"
     ]
    }
   ],
   "source": [
    "Z = np.tile( np.array([[0,1],[1,0]]), (4,4))\n",
    "print(Z)"
   ]
  },
  {
   "cell_type": "code",
   "execution_count": 34,
   "id": "a07a1133-afa8-4847-a8fb-5c8cf3eabfe0",
   "metadata": {},
   "outputs": [],
   "source": [
    "#### 20. Consider a (6,7,8) shape array, what is the index (x,y,z) of the 100th element? (★☆☆)"
   ]
  },
  {
   "cell_type": "code",
   "execution_count": 35,
   "id": "e00eb22d-38d1-4a83-9364-01363aa70460",
   "metadata": {},
   "outputs": [
    {
     "name": "stdout",
     "output_type": "stream",
     "text": [
      "(1, 5, 3)\n"
     ]
    }
   ],
   "source": [
    "print(np.unravel_index(99,(6,7,8)))"
   ]
  }
 ],
 "metadata": {
  "kernelspec": {
   "display_name": "Python 3 (ipykernel)",
   "language": "python",
   "name": "python3"
  },
  "language_info": {
   "codemirror_mode": {
    "name": "ipython",
    "version": 3
   },
   "file_extension": ".py",
   "mimetype": "text/x-python",
   "name": "python",
   "nbconvert_exporter": "python",
   "pygments_lexer": "ipython3",
   "version": "3.11.7"
  }
 },
 "nbformat": 4,
 "nbformat_minor": 5
}
