{
 "cells": [
  {
   "cell_type": "code",
   "execution_count": 1,
   "id": "31f70549-ed75-480a-8571-9472b61b08b8",
   "metadata": {},
   "outputs": [],
   "source": [
    "import numpy as np \n"
   ]
  },
  {
   "cell_type": "code",
   "execution_count": 2,
   "id": "ae4edae6-34a8-4882-8fae-b0a78e832b44",
   "metadata": {},
   "outputs": [
    {
     "name": "stdout",
     "output_type": "stream",
     "text": [
      "[[7 7]\n",
      " [7 7]]\n"
     ]
    }
   ],
   "source": [
    "a=np.full((2,2),7)\n",
    "print(a)"
   ]
  },
  {
   "cell_type": "code",
   "execution_count": 3,
   "id": "4701f920-e1d6-45ee-bee3-f7a49f416746",
   "metadata": {},
   "outputs": [
    {
     "name": "stdout",
     "output_type": "stream",
     "text": [
      "[[0.00916387 0.22568505]\n",
      " [0.67047296 0.95220322]]\n"
     ]
    }
   ],
   "source": [
    "new=np.random.random((2,2))\n",
    "print(new)"
   ]
  },
  {
   "cell_type": "code",
   "execution_count": 4,
   "id": "0e755727-7988-46c1-927e-9a78a107409b",
   "metadata": {},
   "outputs": [
    {
     "name": "stdout",
     "output_type": "stream",
     "text": [
      "[72 58 61 84  9 86 36 47 43 41]\n"
     ]
    }
   ],
   "source": [
    "new1=np.random.randint(1,100,10)\n",
    "print(new1)"
   ]
  },
  {
   "cell_type": "code",
   "execution_count": 5,
   "id": "7db46df7-ef7c-43a0-8f5f-c666d112d009",
   "metadata": {},
   "outputs": [
    {
     "name": "stdout",
     "output_type": "stream",
     "text": [
      "[1 2 3 4]\n"
     ]
    }
   ],
   "source": [
    "lists=[1,2,3,4]\n",
    "arr=np.array(lists)\n",
    "print(arr) "
   ]
  },
  {
   "cell_type": "code",
   "execution_count": 6,
   "id": "659fbdeb-e94b-4bd6-a7dc-b3877d1f1cc3",
   "metadata": {},
   "outputs": [
    {
     "name": "stdout",
     "output_type": "stream",
     "text": [
      "[1 2 3 4]\n"
     ]
    }
   ],
   "source": [
    "tup=(1,2,3,4)\n",
    "myarr=np.asarray(tup) \n",
    "print(myarr) "
   ]
  },
  {
   "cell_type": "code",
   "execution_count": 7,
   "id": "3f631e11-b2aa-4894-aebb-a6806d0bf81d",
   "metadata": {},
   "outputs": [
    {
     "name": "stdout",
     "output_type": "stream",
     "text": [
      "[[1 2 3]\n",
      " [2 3 4]]\n"
     ]
    }
   ],
   "source": [
    "list_tup=[(1,2,3) ,(2,3,4)]\n",
    "print(np.asarray(list_tup))"
   ]
  },
  {
   "cell_type": "code",
   "execution_count": 8,
   "id": "68338b7a-7935-45fa-bfc3-80327991f28c",
   "metadata": {},
   "outputs": [
    {
     "name": "stdout",
     "output_type": "stream",
     "text": [
      "[[1 2]\n",
      " [3 1]\n",
      " [2 3]]\n",
      "(3, 2)\n"
     ]
    }
   ],
   "source": [
    "new_array=np.asarray([[1,2,3],[1,2,3]]).reshape(3,2)\n",
    "print(new_array)\n",
    "print(new_array.shape)\n"
   ]
  },
  {
   "cell_type": "code",
   "execution_count": 9,
   "id": "e31e8ed0-7dd7-4bf1-ae96-aed5e35bf222",
   "metadata": {},
   "outputs": [
    {
     "name": "stdout",
     "output_type": "stream",
     "text": [
      "2\n"
     ]
    }
   ],
   "source": [
    "new_array1=np.asarray([[1,2,3],[1,2,3]])\n",
    "print(len(new_array1))"
   ]
  },
  {
   "cell_type": "code",
   "execution_count": 10,
   "id": "7fb12cf4-6497-44a5-91fa-b06870a53df0",
   "metadata": {},
   "outputs": [
    {
     "name": "stdout",
     "output_type": "stream",
     "text": [
      "8\n"
     ]
    }
   ],
   "source": [
    "new=np.array([[1,2,3,5],[4,5,8,4]],dtype=np.int64)\n",
    "print(new.itemsize)"
   ]
  },
  {
   "cell_type": "code",
   "execution_count": 11,
   "id": "424fb084-49a1-4ac0-8250-d411c971eb21",
   "metadata": {},
   "outputs": [
    {
     "name": "stdout",
     "output_type": "stream",
     "text": [
      "[[[[[[[[[[1 2 3 4]]]]]]]]]]\n",
      "10\n"
     ]
    }
   ],
   "source": [
    "new=np.array([1,2,3,4],ndmin=10)\n",
    "print(new)\n",
    "print(new.ndim)"
   ]
  },
  {
   "cell_type": "code",
   "execution_count": 12,
   "id": "3b97a543-6fa6-4d16-9ce7-68314fe8c33d",
   "metadata": {},
   "outputs": [
    {
     "name": "stdout",
     "output_type": "stream",
     "text": [
      "32\n"
     ]
    }
   ],
   "source": [
    "new=np.array([[1,2,3,5],[4,5,8,4]],dtype=np.int32)\n",
    "print(new.nbytes)"
   ]
  },
  {
   "cell_type": "code",
   "execution_count": 13,
   "id": "8a7c6b3c-be63-40c9-b1a0-cd4b18340a3a",
   "metadata": {},
   "outputs": [
    {
     "name": "stdout",
     "output_type": "stream",
     "text": [
      "[2 4 6 8]\n"
     ]
    }
   ],
   "source": [
    "myarr=np.arange(1,10)\n",
    "print(myarr[1:8:2])"
   ]
  },
  {
   "cell_type": "code",
   "execution_count": 14,
   "id": "17e4a005-d795-4c78-92fd-5998ca46f1e8",
   "metadata": {},
   "outputs": [
    {
     "name": "stdout",
     "output_type": "stream",
     "text": [
      "[1 2 3 4 5 6 7 8 9]\n",
      "[2 3 6]\n"
     ]
    }
   ],
   "source": [
    "new_array=np.arange(1,10)\n",
    "print(new_array) \n",
    "print(np.take(new_array,[1,2,5]))\n"
   ]
  },
  {
   "cell_type": "code",
   "execution_count": 15,
   "id": "48895a75-0ce3-4fea-85fe-f09077b4dfff",
   "metadata": {},
   "outputs": [
    {
     "name": "stdout",
     "output_type": "stream",
     "text": [
      "(3, 3)\n"
     ]
    }
   ],
   "source": [
    "arr = np.array([[1,2,3],[3,4,5],[4,5,6]])\n",
    "print(arr.shape)"
   ]
  },
  {
   "cell_type": "code",
   "execution_count": 16,
   "id": "25c374c4-7c71-453e-a172-5f9831cb5f17",
   "metadata": {},
   "outputs": [
    {
     "name": "stdout",
     "output_type": "stream",
     "text": [
      "[[2 3]\n",
      " [4 5]]\n"
     ]
    }
   ],
   "source": [
    "arr1 = np.array([[1,2,3],[3,4,5],[4,5,6]])\n",
    "print(arr1[0:2,1:3])\n"
   ]
  },
  {
   "cell_type": "code",
   "execution_count": 17,
   "id": "af4ace74-3d67-4a0e-ae04-db623ae2e458",
   "metadata": {},
   "outputs": [
    {
     "name": "stdout",
     "output_type": "stream",
     "text": [
      "[4 5]\n"
     ]
    }
   ],
   "source": [
    "arr2=np.array([[[1,2,3],[1,2,3]],[[1,2,3],[4,5,6]]])\n",
    "print(arr2[1,1,0:2])\n",
    "\n"
   ]
  },
  {
   "cell_type": "code",
   "execution_count": 18,
   "id": "f5849d50-4ec2-4839-a455-62c93e13e2ba",
   "metadata": {},
   "outputs": [
    {
     "name": "stdout",
     "output_type": "stream",
     "text": [
      "[[1 2 3]\n",
      " [4 5 6]]\n",
      "\n",
      "[[1 4]\n",
      " [2 5]\n",
      " [3 6]]\n"
     ]
    }
   ],
   "source": [
    "arr1=np.array([1,2,3]) \n",
    "arr2=np.array([4,5,6]) \n",
    "arr_stack=np.stack((arr1,arr2),axis=0)\n",
    "print(arr_stack ) \n",
    "print( )\n",
    "arr_stack=np.stack((arr1,arr2),axis=1)\n",
    "print(arr_stack ) "
   ]
  },
  {
   "cell_type": "code",
   "execution_count": 19,
   "id": "6a15a248-911b-434a-88dd-0324d00650d0",
   "metadata": {},
   "outputs": [
    {
     "name": "stdout",
     "output_type": "stream",
     "text": [
      "[[1 7 8]\n",
      " [8 2 0]]\n",
      "\n",
      "[[8 2 0]\n",
      " [5 5 7]]\n",
      "\n",
      "[[1 7 8]\n",
      " [8 2 0]\n",
      " [8 2 0]\n",
      " [5 5 7]]\n"
     ]
    }
   ],
   "source": [
    "arr3=np.random.randint(10, size=(2,3))\n",
    "arr4=np.random.randint(10, size=(2,3))\n",
    "arr_stack1=np.vstack((arr3,arr4))\n",
    "print(arr3)\n",
    "print() \n",
    "print(arr4)\n",
    "print()\n",
    "print(arr_stack1)"
   ]
  },
  {
   "cell_type": "code",
   "execution_count": 20,
   "id": "7d93aa7a-216c-4c7b-9bb7-b363b6ae1078",
   "metadata": {},
   "outputs": [
    {
     "name": "stdout",
     "output_type": "stream",
     "text": [
      "[1 2 3 4 5 6 7 8]\n",
      "\n",
      "[array([1, 2, 3]), array([4, 5, 6]), array([7, 8])]\n"
     ]
    }
   ],
   "source": [
    "a=np.arange(1,9)\n",
    "print(a) \n",
    "print()\n",
    "split_array=np.array_split(a,3)\n",
    "print(split_array)"
   ]
  },
  {
   "cell_type": "code",
   "execution_count": 21,
   "id": "85388f31-5fe2-44a7-848d-56384d0a707f",
   "metadata": {},
   "outputs": [
    {
     "data": {
      "text/plain": [
       "[array([[ 0,  1],\n",
       "        [ 4,  5],\n",
       "        [ 8,  9],\n",
       "        [12, 13]]),\n",
       " array([[ 2,  3],\n",
       "        [ 6,  7],\n",
       "        [10, 11],\n",
       "        [14, 15]])]"
      ]
     },
     "execution_count": 21,
     "metadata": {},
     "output_type": "execute_result"
    }
   ],
   "source": [
    "x = np.arange(16).reshape(4,4)\n",
    "np.hsplit(x, 2)"
   ]
  },
  {
   "cell_type": "code",
   "execution_count": 22,
   "id": "138040a9-d9d0-4ff6-96fd-c449776883a3",
   "metadata": {},
   "outputs": [
    {
     "name": "stdout",
     "output_type": "stream",
     "text": [
      "[[0 1 2]\n",
      " [3 4 5]]\n",
      "[[0 1 2]\n",
      " [3 5 7]]\n"
     ]
    }
   ],
   "source": [
    "x = np.arange(6).reshape(2,3)\n",
    "print(x) \n",
    "y=x.cumsum(axis=0)\n",
    "print(y)"
   ]
  },
  {
   "cell_type": "code",
   "execution_count": 23,
   "id": "5392a3a5-1bc9-4ce8-b683-97274a0e665a",
   "metadata": {},
   "outputs": [
    {
     "name": "stdout",
     "output_type": "stream",
     "text": [
      "96\n"
     ]
    }
   ],
   "source": [
    "arr=np.array([[62, 96, 50],\n",
    "       [87, 26, 42]])\n",
    "\n",
    "print(arr.max())"
   ]
  },
  {
   "cell_type": "code",
   "execution_count": 24,
   "id": "11385335-3622-44c6-925d-a3debc9a4fd2",
   "metadata": {},
   "outputs": [
    {
     "name": "stdout",
     "output_type": "stream",
     "text": [
      "[1 0 1 2]\n"
     ]
    }
   ],
   "source": [
    "a=np.array([1,0,-1,2])\n",
    "print(np.absolute(a))"
   ]
  },
  {
   "cell_type": "code",
   "execution_count": 25,
   "id": "ff21d759-6f23-4db9-80bb-4704245e9bb6",
   "metadata": {},
   "outputs": [
    {
     "name": "stdout",
     "output_type": "stream",
     "text": [
      "[  1   4  27 256]\n"
     ]
    }
   ],
   "source": [
    "a=np.array([1,2,3,4])\n",
    "b=np.array([1,2,3,4])\n",
    "power=np.power(a,b)\n",
    "print(power) "
   ]
  },
  {
   "cell_type": "code",
   "execution_count": 26,
   "id": "62eb6d98-97b4-44f6-a46c-22e65d1220c1",
   "metadata": {},
   "outputs": [
    {
     "name": "stdout",
     "output_type": "stream",
     "text": [
      "[1.         1.41421356 1.73205081 2.        ]\n",
      "[1.         1.25992105 1.44224957 1.58740105]\n"
     ]
    }
   ],
   "source": [
    "square_root=np.sqrt(a)\n",
    "print(square_root)\n",
    "print(np.cbrt(b))"
   ]
  },
  {
   "cell_type": "code",
   "execution_count": 27,
   "id": "a847b47c-5c95-4cf5-92a1-0053aeb64b66",
   "metadata": {},
   "outputs": [
    {
     "name": "stdout",
     "output_type": "stream",
     "text": [
      "[0.         0.30103    0.47712125 0.60205999]\n"
     ]
    }
   ],
   "source": [
    "arr_3 = np.array([1, 2, 3, 4])\n",
    "print(np.log10(a))"
   ]
  },
  {
   "cell_type": "code",
   "execution_count": 28,
   "id": "15bfe8a4-5ba6-4c68-a473-9d43db3b5038",
   "metadata": {},
   "outputs": [
    {
     "name": "stdout",
     "output_type": "stream",
     "text": [
      "[1. 2. 6.]\n"
     ]
    }
   ],
   "source": [
    "a=np.asarray([1.2,2.5,6.95])\n",
    "print(np.floor(a))"
   ]
  },
  {
   "cell_type": "code",
   "execution_count": 29,
   "id": "33402e35-57b7-4a0b-838e-8e658202458f",
   "metadata": {},
   "outputs": [
    {
     "name": "stdout",
     "output_type": "stream",
     "text": [
      "190\n"
     ]
    }
   ],
   "source": [
    "sum=0\n",
    "for i in range(1,20):\n",
    "    sum+=i\n",
    "print(sum) "
   ]
  },
  {
   "cell_type": "code",
   "execution_count": 30,
   "id": "ac8c8e6a-a61b-455f-92b2-f4dbcefc825b",
   "metadata": {},
   "outputs": [
    {
     "name": "stdout",
     "output_type": "stream",
     "text": [
      "19\n"
     ]
    }
   ],
   "source": [
    "print(len(range(1,20)))"
   ]
  },
  {
   "cell_type": "code",
   "execution_count": 31,
   "id": "b8b00eaf-f717-45fd-aab6-7484d8142d03",
   "metadata": {},
   "outputs": [],
   "source": [
    "#search,Searhsorted,Sort array, filter\n"
   ]
  },
  {
   "cell_type": "code",
   "execution_count": 65,
   "id": "47aef3f1-c130-400a-9ca6-261c3b10b5de",
   "metadata": {},
   "outputs": [
    {
     "name": "stdout",
     "output_type": "stream",
     "text": [
      "(array([ 1, 10], dtype=int64),)\n"
     ]
    }
   ],
   "source": [
    "var=np.array([1,2,3,4,5,62,3,4,5,61,2,3,4])\n",
    "x=np.where(var==2)\n",
    "print(x)"
   ]
  },
  {
   "cell_type": "code",
   "execution_count": 71,
   "id": "aeb9c62d-8eb3-4d86-bcea-4273c25cf268",
   "metadata": {},
   "outputs": [
    {
     "name": "stdout",
     "output_type": "stream",
     "text": [
      "3\n"
     ]
    }
   ],
   "source": [
    "var1=np.array([1,2,3,5,6,7,3])\n",
    "x1=np.searchsorted(var1,4)\n",
    "print(x1)"
   ]
  },
  {
   "cell_type": "code",
   "execution_count": 75,
   "id": "b5a174ac-bcc7-4501-b00a-83a711db40f4",
   "metadata": {},
   "outputs": [
    {
     "name": "stdout",
     "output_type": "stream",
     "text": [
      "[1 2 3 4 5 6]\n"
     ]
    }
   ],
   "source": [
    "var2=np.asarray([1,3,2,4,6,5])\n",
    "sorts=np.sort(var2)\n",
    "print(sorts)"
   ]
  },
  {
   "cell_type": "code",
   "execution_count": 79,
   "id": "76fbd4c7-833b-463a-9969-f30dad5b7a91",
   "metadata": {},
   "outputs": [
    {
     "name": "stdout",
     "output_type": "stream",
     "text": [
      "['a' 'b' 'c' 'e' 'k']\n"
     ]
    }
   ],
   "source": [
    "var3=np.array([\"a\",\"c\",\"b\",\"k\",\"e\"])\n",
    "sorts1=np.sort(var3)\n",
    "print(sorts1)"
   ]
  },
  {
   "cell_type": "code",
   "execution_count": 83,
   "id": "29087d7e-abd3-4ee0-942f-879e56502997",
   "metadata": {},
   "outputs": [
    {
     "name": "stdout",
     "output_type": "stream",
     "text": [
      "[1 3 6]\n"
     ]
    }
   ],
   "source": [
    "var22=np.asarray([1,3,2,4,6,5])\n",
    "f=[True,True,False,False,True,False]\n",
    "filt=var22[f]\n",
    "print(filt)"
   ]
  },
  {
   "cell_type": "code",
   "execution_count": 85,
   "id": "e5b87db8-773e-462f-8862-b96d919fe47f",
   "metadata": {},
   "outputs": [],
   "source": [
    "#shuffle , Unique , resize , Flatten , Ravel \n"
   ]
  },
  {
   "cell_type": "code",
   "execution_count": 93,
   "id": "b972ea5c-dbe3-459c-a9aa-76ae67936204",
   "metadata": {},
   "outputs": [
    {
     "name": "stdout",
     "output_type": "stream",
     "text": [
      "[1 5 2 6 4 3 7]\n"
     ]
    }
   ],
   "source": [
    "var1=np.array([1,2,3,4,5,6,7])\n",
    "shuffled=np.random.shuffle(var1)\n",
    "print(var1)"
   ]
  },
  {
   "cell_type": "code",
   "execution_count": 105,
   "id": "b00235cb-183d-48a9-85ef-5bab2352d2e4",
   "metadata": {},
   "outputs": [
    {
     "name": "stdout",
     "output_type": "stream",
     "text": [
      "(array([1, 2, 3, 4, 5, 6, 7]), array([0, 1, 2, 4, 5, 8, 9], dtype=int64), array([1, 2, 1, 2, 2, 2, 2], dtype=int64))\n"
     ]
    }
   ],
   "source": [
    "var2=np.array([1,2,3,2,4,5,4,5,6,7,6,7])\n",
    "ret = np.unique(var2,return_index=True,return_counts=True)\n",
    "print(ret) "
   ]
  },
  {
   "cell_type": "code",
   "execution_count": 113,
   "id": "cbb78da2-1a30-4750-ae62-1b407629ae94",
   "metadata": {},
   "outputs": [
    {
     "name": "stdout",
     "output_type": "stream",
     "text": [
      "[1 2 3 4 5 6 7 8 9]\n",
      "\n",
      "[[1 2 3]\n",
      " [4 5 6]\n",
      " [7 8 9]]\n"
     ]
    }
   ],
   "source": [
    "var3=np.arange(1,10)\n",
    "print(var3)\n",
    "print() \n",
    "new=np.resize(var3,(3,3))\n",
    "print(new)"
   ]
  },
  {
   "cell_type": "code",
   "execution_count": 125,
   "id": "b3ec5f78-9f88-44a3-90c2-685d8dd91da4",
   "metadata": {},
   "outputs": [
    {
     "name": "stdout",
     "output_type": "stream",
     "text": [
      "[[1 2 3]\n",
      " [4 5 6]\n",
      " [7 8 9]]\n",
      "\n",
      "[1 2 3 4 5 6 7 8 9]\n"
     ]
    }
   ],
   "source": [
    "#flatten (c ,f, a ,k)  \n",
    "print(new) \n",
    "print() \n",
    "print(new.flatten(order=\"C\")) "
   ]
  },
  {
   "cell_type": "code",
   "execution_count": 131,
   "id": "0dbf5f01-5da8-4099-94fe-3efab5bea217",
   "metadata": {},
   "outputs": [
    {
     "name": "stdout",
     "output_type": "stream",
     "text": [
      "[[1 2 3]\n",
      " [4 5 6]\n",
      " [7 8 9]]\n",
      "\n",
      "[1 4 7 2 5 8 3 6 9]\n"
     ]
    }
   ],
   "source": [
    "#flatten (c ,f, a ,k)  \n",
    "print(new) \n",
    "print() \n",
    "print(new.ravel(order=\"F\")) "
   ]
  },
  {
   "cell_type": "code",
   "execution_count": 133,
   "id": "ff7646bd-8321-4365-9ae2-3e7d2f318036",
   "metadata": {},
   "outputs": [],
   "source": [
    "#insert , # Delete\n"
   ]
  },
  {
   "cell_type": "code",
   "execution_count": 139,
   "id": "085403b8-ccaf-42b5-96da-02f14726754f",
   "metadata": {},
   "outputs": [
    {
     "name": "stdout",
     "output_type": "stream",
     "text": [
      "[ 1  2  3 40  4  5  6 40  7]\n"
     ]
    }
   ],
   "source": [
    "v=np.array([1,2,3,4,5,6,7])\n",
    "v1=np.array([[1,2,3,4],[5,6,7,8]])\n",
    "ins=np.insert(v,(3,6),40)\n",
    "print(ins) "
   ]
  },
  {
   "cell_type": "code",
   "execution_count": 155,
   "id": "01527c8a-54c3-4f76-832c-49002405883f",
   "metadata": {},
   "outputs": [
    {
     "name": "stdout",
     "output_type": "stream",
     "text": [
      "[[1 2 6 3 4]\n",
      " [5 6 7 7 8]]\n"
     ]
    }
   ],
   "source": [
    "isn=np. insert(v1,2,[6,7],axis=1)\n",
    "print(isn)"
   ]
  },
  {
   "cell_type": "code",
   "execution_count": 159,
   "id": "c88efbff-d15b-4109-926b-f188cf95cc6e",
   "metadata": {},
   "outputs": [
    {
     "name": "stdout",
     "output_type": "stream",
     "text": [
      "[1 2 3 4 5 6 7 6]\n"
     ]
    }
   ],
   "source": [
    "#append\n",
    "v2=np.append(v,6)\n",
    "print(v2)"
   ]
  },
  {
   "cell_type": "code",
   "execution_count": 189,
   "id": "0939989a-9071-41e2-a58a-9f524d185ca8",
   "metadata": {},
   "outputs": [
    {
     "name": "stdout",
     "output_type": "stream",
     "text": [
      "[[ 1  2  3  4]\n",
      " [ 5  6  7  8]\n",
      " [67  8  9 10]]\n"
     ]
    }
   ],
   "source": [
    "v3=np.append(v1,[[67,8,9,10]],axis=0)\n",
    "print(v3)"
   ]
  },
  {
   "cell_type": "code",
   "execution_count": 197,
   "id": "8e14f5bb-9d8c-4f7d-970a-556f3be22cdd",
   "metadata": {},
   "outputs": [
    {
     "name": "stdout",
     "output_type": "stream",
     "text": [
      "[1 2 4]\n"
     ]
    }
   ],
   "source": [
    "var=np.array([1,2,4,45])\n",
    "var1=np.delete(var,3)\n",
    "print(var1)"
   ]
  },
  {
   "cell_type": "code",
   "execution_count": 217,
   "id": "76336cf0-bcbe-4fc2-9096-eaf2a1540a2f",
   "metadata": {},
   "outputs": [
    {
     "name": "stdout",
     "output_type": "stream",
     "text": [
      "[[1 4 5]\n",
      " [1 3 4]]\n"
     ]
    }
   ],
   "source": [
    "var1=np.array([[1,2,4,5],[1,2,3,4]])\n",
    "var12=np.delete(var1,1,axis=1)\n",
    "print(var12)"
   ]
  },
  {
   "cell_type": "code",
   "execution_count": 219,
   "id": "09851b7e-80de-481f-b22c-ec2e814b6d25",
   "metadata": {},
   "outputs": [
    {
     "name": "stdout",
     "output_type": "stream",
     "text": [
      "Original array:\n",
      "[[1 2 4]\n",
      " [5 6 7]]\n",
      "Array after deletion:\n",
      "[[1 4]\n",
      " [5 7]]\n"
     ]
    }
   ],
   "source": [
    "\n",
    "var1 = np.array([[1, 2, 4], [5, 6, 7]])\n",
    "print(\"Original array:\")\n",
    "print(var1)\n",
    "\n",
    "# Delete elements from the 2D array, specifying axis if necessary\n",
    "var12 = np.delete(var1, 1, axis=1)  # Deletes the second column\n",
    "print(\"Array after deletion:\")\n",
    "print(var12)\n"
   ]
  },
  {
   "cell_type": "markdown",
   "id": "f4762f32-cc03-4614-ad13-173d1b2b36f6",
   "metadata": {},
   "source": [
    "**Matrix in Num** "
   ]
  },
  {
   "cell_type": "code",
   "execution_count": 223,
   "id": "eb0145a2-8f67-4929-a105-d3a0340c561c",
   "metadata": {},
   "outputs": [
    {
     "name": "stdout",
     "output_type": "stream",
     "text": [
      "[[1 2 3 4]\n",
      " [5 6 7 8]]\n"
     ]
    }
   ],
   "source": [
    "new_var=np.matrix([[1,2,3,4],[5,6,7,8]])\n",
    "print(new_var)"
   ]
  },
  {
   "cell_type": "code",
   "execution_count": 227,
   "id": "c59c5f3e-6ffb-4b50-9f46-3aadf7de10c7",
   "metadata": {},
   "outputs": [
    {
     "name": "stdout",
     "output_type": "stream",
     "text": [
      "[[1 5]\n",
      " [2 6]\n",
      " [3 7]\n",
      " [4 8]]\n"
     ]
    }
   ],
   "source": [
    "tran=np.transpose(new_var)\n",
    "print(tran)"
   ]
  },
  {
   "cell_type": "code",
   "execution_count": 237,
   "id": "eb59bd39-fd46-4233-9267-4f8abd8c3ec5",
   "metadata": {},
   "outputs": [
    {
     "name": "stdout",
     "output_type": "stream",
     "text": [
      "[[1 2 3 4]\n",
      " [5 6 7 8]]\n"
     ]
    }
   ],
   "source": [
    "swap=np.swapaxes(tran,0,1)\n",
    "print(swap) "
   ]
  },
  {
   "cell_type": "code",
   "execution_count": 243,
   "id": "0431d828-1ff8-4139-a0fe-e1da847d7cba",
   "metadata": {},
   "outputs": [
    {
     "name": "stdout",
     "output_type": "stream",
     "text": [
      "[[-2.   1. ]\n",
      " [ 1.5 -0.5]]\n"
     ]
    }
   ],
   "source": [
    "#inverse\n",
    "print(np.linalg.inv([[1,2],[3,4]])) \n"
   ]
  },
  {
   "cell_type": "code",
   "execution_count": 249,
   "id": "0958fc9f-bc39-434b-914b-5ee9d8160a0b",
   "metadata": {},
   "outputs": [
    {
     "name": "stdout",
     "output_type": "stream",
     "text": [
      "[[ 9 12]\n",
      " [24 33]]\n"
     ]
    }
   ],
   "source": [
    "#power , n==0(identity matrix) if n>1(power) if n<1 inverse*power \n",
    "a=np.matrix([[1,2],[4,5]])\n",
    "print(np.linalg.matrix_power(a,2))"
   ]
  },
  {
   "cell_type": "code",
   "execution_count": 251,
   "id": "e27efc24-cefa-493c-9b2f-23722ca50aaa",
   "metadata": {},
   "outputs": [
    {
     "name": "stdout",
     "output_type": "stream",
     "text": [
      "-2.9999999999999996\n"
     ]
    }
   ],
   "source": [
    "#determinate\n",
    "b=np.linalg.det(a)\n",
    "print(b) "
   ]
  }
 ],
 "metadata": {
  "kernelspec": {
   "display_name": "Python 3 (ipykernel)",
   "language": "python",
   "name": "python3"
  },
  "language_info": {
   "codemirror_mode": {
    "name": "ipython",
    "version": 3
   },
   "file_extension": ".py",
   "mimetype": "text/x-python",
   "name": "python",
   "nbconvert_exporter": "python",
   "pygments_lexer": "ipython3",
   "version": "3.11.7"
  }
 },
 "nbformat": 4,
 "nbformat_minor": 5
}
