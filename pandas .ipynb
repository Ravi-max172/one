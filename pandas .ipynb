{
 "cells": [
  {
   "cell_type": "code",
   "execution_count": 1,
   "id": "4667dc4b-e801-4bee-ba68-4d54b1a86c8f",
   "metadata": {},
   "outputs": [],
   "source": [
    "import pandas as pd\n",
    "import numpy as np "
   ]
  },
  {
   "cell_type": "code",
   "execution_count": 2,
   "id": "b33d223c-d59a-4665-b4e9-f421e438429b",
   "metadata": {},
   "outputs": [
    {
     "name": "stdout",
     "output_type": "stream",
     "text": [
      "0    1\n",
      "1    2\n",
      "2    3\n",
      "3    4\n",
      "4    6\n",
      "dtype: int64\n"
     ]
    }
   ],
   "source": [
    "#creating a Series\n",
    "a=[1,2,3,4,6]\n",
    "var=pd.Series(a)\n",
    "print(var) "
   ]
  },
  {
   "cell_type": "code",
   "execution_count": 3,
   "id": "eda5590a-9490-4229-b45f-28a990fbde68",
   "metadata": {},
   "outputs": [
    {
     "name": "stdout",
     "output_type": "stream",
     "text": [
      "4\n"
     ]
    }
   ],
   "source": [
    "#Printing a sepcific Value\n",
    "print(var[3])\n"
   ]
  },
  {
   "cell_type": "code",
   "execution_count": 4,
   "id": "69fc5226-3bd7-420d-8358-425577a2d951",
   "metadata": {},
   "outputs": [
    {
     "name": "stdout",
     "output_type": "stream",
     "text": [
      "A    1\n",
      "B    2\n",
      "C    3\n",
      "d    4\n",
      "E    6\n",
      "dtype: int64\n"
     ]
    }
   ],
   "source": [
    "#corresponding a indexs as index with var1\n",
    "indexs = [\"A\", \"B\", \"C\", \"d\",\"E\"]\n",
    "var1=pd.Series(a,index=indexs)\n",
    "print(var1) "
   ]
  },
  {
   "cell_type": "code",
   "execution_count": 5,
   "id": "cbb1d52b-c15a-4210-82fe-c9e441965341",
   "metadata": {},
   "outputs": [
    {
     "name": "stdout",
     "output_type": "stream",
     "text": [
      "1\n"
     ]
    }
   ],
   "source": [
    "print(var1[\"A\"])\n"
   ]
  },
  {
   "cell_type": "code",
   "execution_count": 6,
   "id": "daafd508-d42e-458d-9d0c-b2e5e883bd15",
   "metadata": {},
   "outputs": [
    {
     "name": "stdout",
     "output_type": "stream",
     "text": [
      "mercedes    Germany\n",
      "tesla           USA\n",
      "toyota        japan\n",
      "dtype: object\n"
     ]
    }
   ],
   "source": [
    "\n",
    "car={\"mercedes\" : \"Germany\" , \"tesla\" : \"USA\", \"toyota\" : \"japan\" } \n",
    "var2=pd.Series(car) \n",
    "\n",
    "print(var2) "
   ]
  },
  {
   "cell_type": "code",
   "execution_count": 7,
   "id": "f1216bb3-0c4e-4982-ac85-2dd3613eeebd",
   "metadata": {},
   "outputs": [
    {
     "name": "stdout",
     "output_type": "stream",
     "text": [
      "USA\n"
     ]
    }
   ],
   "source": [
    "print(var2[\"tesla\"]) \n"
   ]
  },
  {
   "cell_type": "markdown",
   "id": "bb02e53a-f446-4d0e-8676-46d928b84dd6",
   "metadata": {},
   "source": [
    "***DataFrame** \n"
   ]
  },
  {
   "cell_type": "code",
   "execution_count": 9,
   "id": "da0948cd-156e-4fc4-9484-6b0865ece150",
   "metadata": {},
   "outputs": [
    {
     "data": {
      "text/html": [
       "<div>\n",
       "<style scoped>\n",
       "    .dataframe tbody tr th:only-of-type {\n",
       "        vertical-align: middle;\n",
       "    }\n",
       "\n",
       "    .dataframe tbody tr th {\n",
       "        vertical-align: top;\n",
       "    }\n",
       "\n",
       "    .dataframe thead th {\n",
       "        text-align: right;\n",
       "    }\n",
       "</style>\n",
       "<table border=\"1\" class=\"dataframe\">\n",
       "  <thead>\n",
       "    <tr style=\"text-align: right;\">\n",
       "      <th></th>\n",
       "      <th>Ram</th>\n",
       "      <th>Ravi</th>\n",
       "      <th>Sabin</th>\n",
       "      <th>Abhishek</th>\n",
       "    </tr>\n",
       "  </thead>\n",
       "  <tbody>\n",
       "    <tr>\n",
       "      <th>A</th>\n",
       "      <td>-1.239803</td>\n",
       "      <td>-0.669675</td>\n",
       "      <td>-2.148316</td>\n",
       "      <td>0.047856</td>\n",
       "    </tr>\n",
       "    <tr>\n",
       "      <th>B</th>\n",
       "      <td>0.249473</td>\n",
       "      <td>0.054509</td>\n",
       "      <td>2.158352</td>\n",
       "      <td>-0.832607</td>\n",
       "    </tr>\n",
       "    <tr>\n",
       "      <th>C</th>\n",
       "      <td>0.508351</td>\n",
       "      <td>-0.554333</td>\n",
       "      <td>0.151347</td>\n",
       "      <td>1.381818</td>\n",
       "    </tr>\n",
       "    <tr>\n",
       "      <th>D</th>\n",
       "      <td>-0.268159</td>\n",
       "      <td>1.160723</td>\n",
       "      <td>-0.514323</td>\n",
       "      <td>0.881597</td>\n",
       "    </tr>\n",
       "    <tr>\n",
       "      <th>E</th>\n",
       "      <td>-1.007155</td>\n",
       "      <td>0.937558</td>\n",
       "      <td>0.068013</td>\n",
       "      <td>0.188254</td>\n",
       "    </tr>\n",
       "  </tbody>\n",
       "</table>\n",
       "</div>"
      ],
      "text/plain": [
       "        Ram      Ravi     Sabin  Abhishek\n",
       "A -1.239803 -0.669675 -2.148316  0.047856\n",
       "B  0.249473  0.054509  2.158352 -0.832607\n",
       "C  0.508351 -0.554333  0.151347  1.381818\n",
       "D -0.268159  1.160723 -0.514323  0.881597\n",
       "E -1.007155  0.937558  0.068013  0.188254"
      ]
     },
     "execution_count": 9,
     "metadata": {},
     "output_type": "execute_result"
    }
   ],
   "source": [
    "#cretaing a dataframe using a random values\n",
    "my_data= np.random.randn(5,4) \n",
    "my_rows=[\"A\",\"B\",\"C\",\"D\",\"E\"]\n",
    "my_columns=[\"Ram\",\"Ravi\",\"Sabin\",\"Abhishek\"]\n",
    "new_var=pd.DataFrame(my_data,my_rows, my_columns)\n",
    "new_var"
   ]
  },
  {
   "cell_type": "code",
   "execution_count": 10,
   "id": "590461cb-b5ed-4999-88e4-a8dfbbbfe0da",
   "metadata": {},
   "outputs": [
    {
     "data": {
      "text/html": [
       "<div>\n",
       "<style scoped>\n",
       "    .dataframe tbody tr th:only-of-type {\n",
       "        vertical-align: middle;\n",
       "    }\n",
       "\n",
       "    .dataframe tbody tr th {\n",
       "        vertical-align: top;\n",
       "    }\n",
       "\n",
       "    .dataframe thead th {\n",
       "        text-align: right;\n",
       "    }\n",
       "</style>\n",
       "<table border=\"1\" class=\"dataframe\">\n",
       "  <thead>\n",
       "    <tr style=\"text-align: right;\">\n",
       "      <th></th>\n",
       "      <th>Name</th>\n",
       "      <th>age</th>\n",
       "      <th>marks</th>\n",
       "    </tr>\n",
       "  </thead>\n",
       "  <tbody>\n",
       "    <tr>\n",
       "      <th>0</th>\n",
       "      <td>Ravi</td>\n",
       "      <td>19</td>\n",
       "      <td>98</td>\n",
       "    </tr>\n",
       "    <tr>\n",
       "      <th>1</th>\n",
       "      <td>Kushal</td>\n",
       "      <td>19</td>\n",
       "      <td>98</td>\n",
       "    </tr>\n",
       "    <tr>\n",
       "      <th>2</th>\n",
       "      <td>sabin</td>\n",
       "      <td>20</td>\n",
       "      <td>90</td>\n",
       "    </tr>\n",
       "    <tr>\n",
       "      <th>3</th>\n",
       "      <td>rajesh</td>\n",
       "      <td>21</td>\n",
       "      <td>86</td>\n",
       "    </tr>\n",
       "    <tr>\n",
       "      <th>4</th>\n",
       "      <td>Nikesh</td>\n",
       "      <td>20</td>\n",
       "      <td>86</td>\n",
       "    </tr>\n",
       "    <tr>\n",
       "      <th>5</th>\n",
       "      <td>abhishek</td>\n",
       "      <td>23</td>\n",
       "      <td>90</td>\n",
       "    </tr>\n",
       "  </tbody>\n",
       "</table>\n",
       "</div>"
      ],
      "text/plain": [
       "       Name  age  marks\n",
       "0      Ravi   19     98\n",
       "1   Kushal    19     98\n",
       "2     sabin   20     90\n",
       "3   rajesh    21     86\n",
       "4    Nikesh   20     86\n",
       "5  abhishek   23     90"
      ]
     },
     "execution_count": 10,
     "metadata": {},
     "output_type": "execute_result"
    }
   ],
   "source": [
    "#reading a existing csv file\n",
    "my_Csv=pd.read_csv(r\"C:\\Users\\khare\\OneDrive\\Desktop\\Book1.csv\")\n",
    "my_Csv"
   ]
  },
  {
   "cell_type": "code",
   "execution_count": 11,
   "id": "27219eb9-d41d-464a-905f-66e8b0aee112",
   "metadata": {},
   "outputs": [
    {
     "data": {
      "text/plain": [
       "Name     Kushal \n",
       "age           19\n",
       "marks         98\n",
       "Name: 1, dtype: object"
      ]
     },
     "execution_count": 11,
     "metadata": {},
     "output_type": "execute_result"
    }
   ],
   "source": [
    "# pull out Data \n",
    "my_Csv.loc[1]"
   ]
  },
  {
   "cell_type": "code",
   "execution_count": 12,
   "id": "1fcb2327-c995-4acc-b3e8-621386a07f5b",
   "metadata": {},
   "outputs": [
    {
     "data": {
      "text/html": [
       "<div>\n",
       "<style scoped>\n",
       "    .dataframe tbody tr th:only-of-type {\n",
       "        vertical-align: middle;\n",
       "    }\n",
       "\n",
       "    .dataframe tbody tr th {\n",
       "        vertical-align: top;\n",
       "    }\n",
       "\n",
       "    .dataframe thead th {\n",
       "        text-align: right;\n",
       "    }\n",
       "</style>\n",
       "<table border=\"1\" class=\"dataframe\">\n",
       "  <thead>\n",
       "    <tr style=\"text-align: right;\">\n",
       "      <th></th>\n",
       "      <th>Name</th>\n",
       "      <th>age</th>\n",
       "      <th>marks</th>\n",
       "    </tr>\n",
       "  </thead>\n",
       "  <tbody>\n",
       "    <tr>\n",
       "      <th>0</th>\n",
       "      <td>Ravi</td>\n",
       "      <td>19</td>\n",
       "      <td>98</td>\n",
       "    </tr>\n",
       "    <tr>\n",
       "      <th>5</th>\n",
       "      <td>abhishek</td>\n",
       "      <td>23</td>\n",
       "      <td>90</td>\n",
       "    </tr>\n",
       "  </tbody>\n",
       "</table>\n",
       "</div>"
      ],
      "text/plain": [
       "       Name  age  marks\n",
       "0      Ravi   19     98\n",
       "5  abhishek   23     90"
      ]
     },
     "execution_count": 12,
     "metadata": {},
     "output_type": "execute_result"
    }
   ],
   "source": [
    "my_Csv.loc[[0,5]]\n"
   ]
  },
  {
   "cell_type": "code",
   "execution_count": 13,
   "id": "b27978bc-b634-48d1-ac77-eaf11e00a1e6",
   "metadata": {},
   "outputs": [
    {
     "data": {
      "text/html": [
       "<div>\n",
       "<style scoped>\n",
       "    .dataframe tbody tr th:only-of-type {\n",
       "        vertical-align: middle;\n",
       "    }\n",
       "\n",
       "    .dataframe tbody tr th {\n",
       "        vertical-align: top;\n",
       "    }\n",
       "\n",
       "    .dataframe thead th {\n",
       "        text-align: right;\n",
       "    }\n",
       "</style>\n",
       "<table border=\"1\" class=\"dataframe\">\n",
       "  <thead>\n",
       "    <tr style=\"text-align: right;\">\n",
       "      <th></th>\n",
       "      <th>Name</th>\n",
       "      <th>age</th>\n",
       "      <th>marks</th>\n",
       "    </tr>\n",
       "  </thead>\n",
       "  <tbody>\n",
       "    <tr>\n",
       "      <th>0</th>\n",
       "      <td>Ravi</td>\n",
       "      <td>19</td>\n",
       "      <td>98</td>\n",
       "    </tr>\n",
       "    <tr>\n",
       "      <th>1</th>\n",
       "      <td>Kushal</td>\n",
       "      <td>19</td>\n",
       "      <td>98</td>\n",
       "    </tr>\n",
       "    <tr>\n",
       "      <th>2</th>\n",
       "      <td>sabin</td>\n",
       "      <td>20</td>\n",
       "      <td>90</td>\n",
       "    </tr>\n",
       "    <tr>\n",
       "      <th>3</th>\n",
       "      <td>rajesh</td>\n",
       "      <td>21</td>\n",
       "      <td>86</td>\n",
       "    </tr>\n",
       "    <tr>\n",
       "      <th>4</th>\n",
       "      <td>Nikesh</td>\n",
       "      <td>20</td>\n",
       "      <td>86</td>\n",
       "    </tr>\n",
       "  </tbody>\n",
       "</table>\n",
       "</div>"
      ],
      "text/plain": [
       "      Name  age  marks\n",
       "0     Ravi   19     98\n",
       "1  Kushal    19     98\n",
       "2    sabin   20     90\n",
       "3  rajesh    21     86\n",
       "4   Nikesh   20     86"
      ]
     },
     "execution_count": 13,
     "metadata": {},
     "output_type": "execute_result"
    }
   ],
   "source": [
    "#grab first 5 row \n",
    "my_Csv.head() "
   ]
  },
  {
   "cell_type": "code",
   "execution_count": 14,
   "id": "22b375c5-d7b0-41ae-9c60-c6d5d51e9011",
   "metadata": {},
   "outputs": [
    {
     "data": {
      "text/html": [
       "<div>\n",
       "<style scoped>\n",
       "    .dataframe tbody tr th:only-of-type {\n",
       "        vertical-align: middle;\n",
       "    }\n",
       "\n",
       "    .dataframe tbody tr th {\n",
       "        vertical-align: top;\n",
       "    }\n",
       "\n",
       "    .dataframe thead th {\n",
       "        text-align: right;\n",
       "    }\n",
       "</style>\n",
       "<table border=\"1\" class=\"dataframe\">\n",
       "  <thead>\n",
       "    <tr style=\"text-align: right;\">\n",
       "      <th></th>\n",
       "      <th>Name</th>\n",
       "      <th>age</th>\n",
       "      <th>marks</th>\n",
       "    </tr>\n",
       "  </thead>\n",
       "  <tbody>\n",
       "    <tr>\n",
       "      <th>0</th>\n",
       "      <td>Ravi</td>\n",
       "      <td>19</td>\n",
       "      <td>98</td>\n",
       "    </tr>\n",
       "    <tr>\n",
       "      <th>1</th>\n",
       "      <td>Kushal</td>\n",
       "      <td>19</td>\n",
       "      <td>98</td>\n",
       "    </tr>\n",
       "    <tr>\n",
       "      <th>2</th>\n",
       "      <td>sabin</td>\n",
       "      <td>20</td>\n",
       "      <td>90</td>\n",
       "    </tr>\n",
       "    <tr>\n",
       "      <th>3</th>\n",
       "      <td>rajesh</td>\n",
       "      <td>21</td>\n",
       "      <td>86</td>\n",
       "    </tr>\n",
       "    <tr>\n",
       "      <th>4</th>\n",
       "      <td>Nikesh</td>\n",
       "      <td>20</td>\n",
       "      <td>86</td>\n",
       "    </tr>\n",
       "    <tr>\n",
       "      <th>5</th>\n",
       "      <td>abhishek</td>\n",
       "      <td>23</td>\n",
       "      <td>90</td>\n",
       "    </tr>\n",
       "  </tbody>\n",
       "</table>\n",
       "</div>"
      ],
      "text/plain": [
       "       Name  age  marks\n",
       "0      Ravi   19     98\n",
       "1   Kushal    19     98\n",
       "2     sabin   20     90\n",
       "3   rajesh    21     86\n",
       "4    Nikesh   20     86\n",
       "5  abhishek   23     90"
      ]
     },
     "execution_count": 14,
     "metadata": {},
     "output_type": "execute_result"
    }
   ],
   "source": [
    "#grab first 6 row\n",
    "my_Csv.head(6)"
   ]
  },
  {
   "cell_type": "code",
   "execution_count": 15,
   "id": "ca77381d-743a-4d2d-8e12-7157575e2d69",
   "metadata": {},
   "outputs": [
    {
     "data": {
      "text/html": [
       "<div>\n",
       "<style scoped>\n",
       "    .dataframe tbody tr th:only-of-type {\n",
       "        vertical-align: middle;\n",
       "    }\n",
       "\n",
       "    .dataframe tbody tr th {\n",
       "        vertical-align: top;\n",
       "    }\n",
       "\n",
       "    .dataframe thead th {\n",
       "        text-align: right;\n",
       "    }\n",
       "</style>\n",
       "<table border=\"1\" class=\"dataframe\">\n",
       "  <thead>\n",
       "    <tr style=\"text-align: right;\">\n",
       "      <th></th>\n",
       "      <th>Name</th>\n",
       "      <th>age</th>\n",
       "      <th>marks</th>\n",
       "    </tr>\n",
       "  </thead>\n",
       "  <tbody>\n",
       "    <tr>\n",
       "      <th>1</th>\n",
       "      <td>Kushal</td>\n",
       "      <td>19</td>\n",
       "      <td>98</td>\n",
       "    </tr>\n",
       "    <tr>\n",
       "      <th>2</th>\n",
       "      <td>sabin</td>\n",
       "      <td>20</td>\n",
       "      <td>90</td>\n",
       "    </tr>\n",
       "    <tr>\n",
       "      <th>3</th>\n",
       "      <td>rajesh</td>\n",
       "      <td>21</td>\n",
       "      <td>86</td>\n",
       "    </tr>\n",
       "    <tr>\n",
       "      <th>4</th>\n",
       "      <td>Nikesh</td>\n",
       "      <td>20</td>\n",
       "      <td>86</td>\n",
       "    </tr>\n",
       "    <tr>\n",
       "      <th>5</th>\n",
       "      <td>abhishek</td>\n",
       "      <td>23</td>\n",
       "      <td>90</td>\n",
       "    </tr>\n",
       "  </tbody>\n",
       "</table>\n",
       "</div>"
      ],
      "text/plain": [
       "       Name  age  marks\n",
       "1   Kushal    19     98\n",
       "2     sabin   20     90\n",
       "3   rajesh    21     86\n",
       "4    Nikesh   20     86\n",
       "5  abhishek   23     90"
      ]
     },
     "execution_count": 15,
     "metadata": {},
     "output_type": "execute_result"
    }
   ],
   "source": [
    "#grab last five rows\n",
    "my_Csv.tail() "
   ]
  },
  {
   "cell_type": "code",
   "execution_count": 16,
   "id": "4a49e587-824a-441b-a8bf-65a00a4b863d",
   "metadata": {},
   "outputs": [
    {
     "name": "stdout",
     "output_type": "stream",
     "text": [
      "<class 'pandas.core.frame.DataFrame'>\n",
      "RangeIndex: 6 entries, 0 to 5\n",
      "Data columns (total 3 columns):\n",
      " #   Column  Non-Null Count  Dtype \n",
      "---  ------  --------------  ----- \n",
      " 0   Name    6 non-null      object\n",
      " 1   age     6 non-null      int64 \n",
      " 2   marks   6 non-null      int64 \n",
      "dtypes: int64(2), object(1)\n",
      "memory usage: 276.0+ bytes\n"
     ]
    }
   ],
   "source": [
    "\n",
    "my_Csv.info() "
   ]
  },
  {
   "cell_type": "code",
   "execution_count": 17,
   "id": "801c0be7-2fad-41b7-9632-2fed94005655",
   "metadata": {},
   "outputs": [
    {
     "data": {
      "text/plain": [
       "(6, 3)"
      ]
     },
     "execution_count": 17,
     "metadata": {},
     "output_type": "execute_result"
    }
   ],
   "source": [
    "#To find shape of series\n",
    "my_Csv.shape"
   ]
  },
  {
   "cell_type": "code",
   "execution_count": 18,
   "id": "43aff72a-1c63-4b21-be30-7fa838c1a30d",
   "metadata": {},
   "outputs": [
    {
     "data": {
      "text/plain": [
       "2"
      ]
     },
     "execution_count": 18,
     "metadata": {},
     "output_type": "execute_result"
    }
   ],
   "source": [
    "#dimension of series\n",
    "my_Csv.ndim"
   ]
  },
  {
   "cell_type": "code",
   "execution_count": 19,
   "id": "2aa4466e-67a2-4901-bb5f-858693a63554",
   "metadata": {},
   "outputs": [
    {
     "data": {
      "text/plain": [
       "Name     object\n",
       "age       int64\n",
       "marks     int64\n",
       "dtype: object"
      ]
     },
     "execution_count": 19,
     "metadata": {},
     "output_type": "execute_result"
    }
   ],
   "source": [
    "my_Csv.dtypes"
   ]
  },
  {
   "cell_type": "code",
   "execution_count": 20,
   "id": "7fc0fe22-728d-4179-b065-1af167854059",
   "metadata": {},
   "outputs": [
    {
     "data": {
      "text/html": [
       "<div>\n",
       "<style scoped>\n",
       "    .dataframe tbody tr th:only-of-type {\n",
       "        vertical-align: middle;\n",
       "    }\n",
       "\n",
       "    .dataframe tbody tr th {\n",
       "        vertical-align: top;\n",
       "    }\n",
       "\n",
       "    .dataframe thead th {\n",
       "        text-align: right;\n",
       "    }\n",
       "</style>\n",
       "<table border=\"1\" class=\"dataframe\">\n",
       "  <thead>\n",
       "    <tr style=\"text-align: right;\">\n",
       "      <th></th>\n",
       "      <th>age</th>\n",
       "      <th>marks</th>\n",
       "    </tr>\n",
       "  </thead>\n",
       "  <tbody>\n",
       "    <tr>\n",
       "      <th>count</th>\n",
       "      <td>6.000000</td>\n",
       "      <td>6.000000</td>\n",
       "    </tr>\n",
       "    <tr>\n",
       "      <th>mean</th>\n",
       "      <td>20.333333</td>\n",
       "      <td>91.333333</td>\n",
       "    </tr>\n",
       "    <tr>\n",
       "      <th>std</th>\n",
       "      <td>1.505545</td>\n",
       "      <td>5.465040</td>\n",
       "    </tr>\n",
       "    <tr>\n",
       "      <th>min</th>\n",
       "      <td>19.000000</td>\n",
       "      <td>86.000000</td>\n",
       "    </tr>\n",
       "    <tr>\n",
       "      <th>25%</th>\n",
       "      <td>19.250000</td>\n",
       "      <td>87.000000</td>\n",
       "    </tr>\n",
       "    <tr>\n",
       "      <th>50%</th>\n",
       "      <td>20.000000</td>\n",
       "      <td>90.000000</td>\n",
       "    </tr>\n",
       "    <tr>\n",
       "      <th>75%</th>\n",
       "      <td>20.750000</td>\n",
       "      <td>96.000000</td>\n",
       "    </tr>\n",
       "    <tr>\n",
       "      <th>max</th>\n",
       "      <td>23.000000</td>\n",
       "      <td>98.000000</td>\n",
       "    </tr>\n",
       "  </tbody>\n",
       "</table>\n",
       "</div>"
      ],
      "text/plain": [
       "             age      marks\n",
       "count   6.000000   6.000000\n",
       "mean   20.333333  91.333333\n",
       "std     1.505545   5.465040\n",
       "min    19.000000  86.000000\n",
       "25%    19.250000  87.000000\n",
       "50%    20.000000  90.000000\n",
       "75%    20.750000  96.000000\n",
       "max    23.000000  98.000000"
      ]
     },
     "execution_count": 20,
     "metadata": {},
     "output_type": "execute_result"
    }
   ],
   "source": [
    "#statistisc of csv file\n",
    "my_Csv.describe() "
   ]
  },
  {
   "cell_type": "code",
   "execution_count": 21,
   "id": "f74a7129-d768-4cb9-b0be-0366f8268311",
   "metadata": {},
   "outputs": [
    {
     "data": {
      "text/plain": [
       "count     6.000000\n",
       "mean     91.333333\n",
       "std       5.465040\n",
       "min      86.000000\n",
       "25%      87.000000\n",
       "50%      90.000000\n",
       "75%      96.000000\n",
       "max      98.000000\n",
       "Name: marks, dtype: float64"
      ]
     },
     "execution_count": 21,
     "metadata": {},
     "output_type": "execute_result"
    }
   ],
   "source": [
    "#statistics of specific value\n",
    "my_Csv[\"marks\"].describe() "
   ]
  },
  {
   "cell_type": "code",
   "execution_count": 22,
   "id": "90d7a3b4-4185-42e2-a254-e8ca216ba22e",
   "metadata": {},
   "outputs": [
    {
     "data": {
      "text/plain": [
       "0    19\n",
       "1    19\n",
       "2    20\n",
       "3    21\n",
       "4    20\n",
       "5    23\n",
       "Name: age, dtype: int64"
      ]
     },
     "execution_count": 22,
     "metadata": {},
     "output_type": "execute_result"
    }
   ],
   "source": [
    "my_Csv[\"age\"]"
   ]
  },
  {
   "cell_type": "code",
   "execution_count": 23,
   "id": "649a432b-4492-44cb-abfd-a548708d9f7a",
   "metadata": {},
   "outputs": [
    {
     "data": {
      "text/plain": [
       "0    98\n",
       "1    98\n",
       "2    90\n",
       "3    86\n",
       "4    86\n",
       "5    90\n",
       "Name: marks, dtype: int64"
      ]
     },
     "execution_count": 23,
     "metadata": {},
     "output_type": "execute_result"
    }
   ],
   "source": [
    "my_Csv.marks"
   ]
  },
  {
   "cell_type": "code",
   "execution_count": 24,
   "id": "3f45c510-87e1-41ff-becf-b814bad78fe2",
   "metadata": {},
   "outputs": [
    {
     "data": {
      "text/plain": [
       "0        Ravi\n",
       "1     Kushal \n",
       "2       sabin\n",
       "3     rajesh \n",
       "4      Nikesh\n",
       "5    abhishek\n",
       "Name: Name, dtype: object"
      ]
     },
     "execution_count": 24,
     "metadata": {},
     "output_type": "execute_result"
    }
   ],
   "source": [
    "#printing a Specific Column\n",
    "my_Csv.iloc[:,0]"
   ]
  },
  {
   "cell_type": "code",
   "execution_count": 25,
   "id": "d4ccf3a1-1ec9-4545-9394-c379dd06fc02",
   "metadata": {},
   "outputs": [
    {
     "data": {
      "text/plain": [
       "marks\n",
       "98    2\n",
       "90    2\n",
       "86    2\n",
       "Name: count, dtype: int64"
      ]
     },
     "execution_count": 25,
     "metadata": {},
     "output_type": "execute_result"
    }
   ],
   "source": [
    "#count\n",
    "#Descending count\n",
    "my_Csv[\"marks\"].value_counts()"
   ]
  },
  {
   "cell_type": "code",
   "execution_count": 26,
   "id": "eb33c6fb-9773-482c-aee3-6fb76cc4045e",
   "metadata": {},
   "outputs": [
    {
     "data": {
      "text/plain": [
       "marks\n",
       "98    2\n",
       "90    2\n",
       "86    2\n",
       "Name: count, dtype: int64"
      ]
     },
     "execution_count": 26,
     "metadata": {},
     "output_type": "execute_result"
    }
   ],
   "source": [
    "#count\n",
    "#Descending count\n",
    "my_Csv[\"marks\"].value_counts(ascending=True)"
   ]
  },
  {
   "cell_type": "code",
   "execution_count": 27,
   "id": "aaa9720c-bd40-44b9-a9e6-bee4451b0139",
   "metadata": {},
   "outputs": [
    {
     "data": {
      "text/plain": [
       "marks\n",
       "98    2\n",
       "90    2\n",
       "86    2\n",
       "Name: count, dtype: int64"
      ]
     },
     "execution_count": 27,
     "metadata": {},
     "output_type": "execute_result"
    }
   ],
   "source": [
    "#names with nan\n",
    "my_Csv[\"marks\"].value_counts(dropna=False) \n"
   ]
  },
  {
   "cell_type": "code",
   "execution_count": 28,
   "id": "d7d9d953-3527-4bc9-a7be-4d639f36b6c5",
   "metadata": {},
   "outputs": [
    {
     "data": {
      "text/plain": [
       "marks\n",
       "98    0.333333\n",
       "90    0.333333\n",
       "86    0.333333\n",
       "Name: proportion, dtype: float64"
      ]
     },
     "execution_count": 28,
     "metadata": {},
     "output_type": "execute_result"
    }
   ],
   "source": [
    "#finds The percentage \n",
    "my_Csv[\"marks\"].value_counts(normalize=True)"
   ]
  },
  {
   "cell_type": "code",
   "execution_count": 29,
   "id": "e1d512da-af02-4029-8385-b2d2fd44ed94",
   "metadata": {},
   "outputs": [
    {
     "data": {
      "text/plain": [
       "2"
      ]
     },
     "execution_count": 29,
     "metadata": {},
     "output_type": "execute_result"
    }
   ],
   "source": [
    "#Specific Values \n",
    "my_Csv[\"marks\"].value_counts()[90]"
   ]
  },
  {
   "cell_type": "code",
   "execution_count": 30,
   "id": "c24687fa-099f-4986-9c01-b6d2df6d26ab",
   "metadata": {},
   "outputs": [
    {
     "data": {
      "text/plain": [
       "marks\n",
       "86    2\n",
       "90    2\n",
       "98    2\n",
       "dtype: int64"
      ]
     },
     "execution_count": 30,
     "metadata": {},
     "output_type": "execute_result"
    }
   ],
   "source": [
    "#number of repeated values \n",
    "my_Csv.groupby(\"marks\").size() "
   ]
  },
  {
   "cell_type": "code",
   "execution_count": 31,
   "id": "471e8165-a013-4d27-a7c7-bf766e276754",
   "metadata": {},
   "outputs": [
    {
     "data": {
      "text/html": [
       "<div>\n",
       "<style scoped>\n",
       "    .dataframe tbody tr th:only-of-type {\n",
       "        vertical-align: middle;\n",
       "    }\n",
       "\n",
       "    .dataframe tbody tr th {\n",
       "        vertical-align: top;\n",
       "    }\n",
       "\n",
       "    .dataframe thead th {\n",
       "        text-align: right;\n",
       "    }\n",
       "</style>\n",
       "<table border=\"1\" class=\"dataframe\">\n",
       "  <thead>\n",
       "    <tr style=\"text-align: right;\">\n",
       "      <th></th>\n",
       "      <th>age</th>\n",
       "      <th>marks</th>\n",
       "    </tr>\n",
       "    <tr>\n",
       "      <th>Name</th>\n",
       "      <th></th>\n",
       "      <th></th>\n",
       "    </tr>\n",
       "  </thead>\n",
       "  <tbody>\n",
       "    <tr>\n",
       "      <th>Kushal</th>\n",
       "      <td>1</td>\n",
       "      <td>1</td>\n",
       "    </tr>\n",
       "    <tr>\n",
       "      <th>Nikesh</th>\n",
       "      <td>1</td>\n",
       "      <td>1</td>\n",
       "    </tr>\n",
       "    <tr>\n",
       "      <th>Ravi</th>\n",
       "      <td>1</td>\n",
       "      <td>1</td>\n",
       "    </tr>\n",
       "    <tr>\n",
       "      <th>abhishek</th>\n",
       "      <td>1</td>\n",
       "      <td>1</td>\n",
       "    </tr>\n",
       "    <tr>\n",
       "      <th>rajesh</th>\n",
       "      <td>1</td>\n",
       "      <td>1</td>\n",
       "    </tr>\n",
       "    <tr>\n",
       "      <th>sabin</th>\n",
       "      <td>1</td>\n",
       "      <td>1</td>\n",
       "    </tr>\n",
       "  </tbody>\n",
       "</table>\n",
       "</div>"
      ],
      "text/plain": [
       "          age  marks\n",
       "Name                \n",
       "Kushal      1      1\n",
       "Nikesh      1      1\n",
       "Ravi        1      1\n",
       "abhishek    1      1\n",
       "rajesh      1      1\n",
       "sabin       1      1"
      ]
     },
     "execution_count": 31,
     "metadata": {},
     "output_type": "execute_result"
    }
   ],
   "source": [
    "my_Csv.groupby(\"Name\").count() "
   ]
  },
  {
   "cell_type": "code",
   "execution_count": 32,
   "id": "022f41af-99c6-4b34-bd4e-6f28486cd9e8",
   "metadata": {},
   "outputs": [],
   "source": [
    "# my_Csv.apply(pd.value_counts) "
   ]
  },
  {
   "cell_type": "code",
   "execution_count": 33,
   "id": "2294c42f-501e-46be-83d4-9dfb2c835152",
   "metadata": {},
   "outputs": [],
   "source": [
    "#add new Column "
   ]
  },
  {
   "cell_type": "code",
   "execution_count": 34,
   "id": "c210d527-d394-41cb-865a-8ddb080b37ac",
   "metadata": {},
   "outputs": [
    {
     "data": {
      "text/html": [
       "<div>\n",
       "<style scoped>\n",
       "    .dataframe tbody tr th:only-of-type {\n",
       "        vertical-align: middle;\n",
       "    }\n",
       "\n",
       "    .dataframe tbody tr th {\n",
       "        vertical-align: top;\n",
       "    }\n",
       "\n",
       "    .dataframe thead th {\n",
       "        text-align: right;\n",
       "    }\n",
       "</style>\n",
       "<table border=\"1\" class=\"dataframe\">\n",
       "  <thead>\n",
       "    <tr style=\"text-align: right;\">\n",
       "      <th></th>\n",
       "      <th>Name</th>\n",
       "      <th>age</th>\n",
       "      <th>marks</th>\n",
       "      <th>Measure</th>\n",
       "    </tr>\n",
       "  </thead>\n",
       "  <tbody>\n",
       "    <tr>\n",
       "      <th>0</th>\n",
       "      <td>Ravi</td>\n",
       "      <td>19</td>\n",
       "      <td>98</td>\n",
       "      <td>Good</td>\n",
       "    </tr>\n",
       "    <tr>\n",
       "      <th>1</th>\n",
       "      <td>Kushal</td>\n",
       "      <td>19</td>\n",
       "      <td>98</td>\n",
       "      <td>average</td>\n",
       "    </tr>\n",
       "    <tr>\n",
       "      <th>2</th>\n",
       "      <td>sabin</td>\n",
       "      <td>20</td>\n",
       "      <td>90</td>\n",
       "      <td>good</td>\n",
       "    </tr>\n",
       "    <tr>\n",
       "      <th>3</th>\n",
       "      <td>rajesh</td>\n",
       "      <td>21</td>\n",
       "      <td>86</td>\n",
       "      <td>also Good</td>\n",
       "    </tr>\n",
       "    <tr>\n",
       "      <th>4</th>\n",
       "      <td>Nikesh</td>\n",
       "      <td>20</td>\n",
       "      <td>86</td>\n",
       "      <td>Bad</td>\n",
       "    </tr>\n",
       "    <tr>\n",
       "      <th>5</th>\n",
       "      <td>abhishek</td>\n",
       "      <td>23</td>\n",
       "      <td>90</td>\n",
       "      <td>Average</td>\n",
       "    </tr>\n",
       "  </tbody>\n",
       "</table>\n",
       "</div>"
      ],
      "text/plain": [
       "       Name  age  marks    Measure\n",
       "0      Ravi   19     98       Good\n",
       "1   Kushal    19     98    average\n",
       "2     sabin   20     90       good\n",
       "3   rajesh    21     86  also Good\n",
       "4    Nikesh   20     86        Bad\n",
       "5  abhishek   23     90    Average"
      ]
     },
     "execution_count": 34,
     "metadata": {},
     "output_type": "execute_result"
    }
   ],
   "source": [
    "#add column from list \n",
    "Names=[\"Good\",\"average\",\"good\",\"also Good\" ,\"Bad\",\"Average\"]\n",
    "my_Csv[\"Measure\"]=Names\n",
    "\n",
    "my_Csv"
   ]
  },
  {
   "cell_type": "code",
   "execution_count": 35,
   "id": "7737bf1b-3493-497d-9412-e8e60d908b73",
   "metadata": {},
   "outputs": [],
   "source": [
    "#add default values"
   ]
  },
  {
   "cell_type": "code",
   "execution_count": 36,
   "id": "d8668d0c-ce46-4938-bd8a-d3ea9f85f173",
   "metadata": {},
   "outputs": [
    {
     "data": {
      "text/html": [
       "<div>\n",
       "<style scoped>\n",
       "    .dataframe tbody tr th:only-of-type {\n",
       "        vertical-align: middle;\n",
       "    }\n",
       "\n",
       "    .dataframe tbody tr th {\n",
       "        vertical-align: top;\n",
       "    }\n",
       "\n",
       "    .dataframe thead th {\n",
       "        text-align: right;\n",
       "    }\n",
       "</style>\n",
       "<table border=\"1\" class=\"dataframe\">\n",
       "  <thead>\n",
       "    <tr style=\"text-align: right;\">\n",
       "      <th></th>\n",
       "      <th>Name</th>\n",
       "      <th>age</th>\n",
       "      <th>marks</th>\n",
       "      <th>Measure</th>\n",
       "      <th>Pass/fail</th>\n",
       "    </tr>\n",
       "  </thead>\n",
       "  <tbody>\n",
       "    <tr>\n",
       "      <th>0</th>\n",
       "      <td>Ravi</td>\n",
       "      <td>19</td>\n",
       "      <td>98</td>\n",
       "      <td>Good</td>\n",
       "      <td>True</td>\n",
       "    </tr>\n",
       "    <tr>\n",
       "      <th>1</th>\n",
       "      <td>Kushal</td>\n",
       "      <td>19</td>\n",
       "      <td>98</td>\n",
       "      <td>average</td>\n",
       "      <td>True</td>\n",
       "    </tr>\n",
       "    <tr>\n",
       "      <th>2</th>\n",
       "      <td>sabin</td>\n",
       "      <td>20</td>\n",
       "      <td>90</td>\n",
       "      <td>good</td>\n",
       "      <td>True</td>\n",
       "    </tr>\n",
       "    <tr>\n",
       "      <th>3</th>\n",
       "      <td>rajesh</td>\n",
       "      <td>21</td>\n",
       "      <td>86</td>\n",
       "      <td>also Good</td>\n",
       "      <td>True</td>\n",
       "    </tr>\n",
       "    <tr>\n",
       "      <th>4</th>\n",
       "      <td>Nikesh</td>\n",
       "      <td>20</td>\n",
       "      <td>86</td>\n",
       "      <td>Bad</td>\n",
       "      <td>True</td>\n",
       "    </tr>\n",
       "    <tr>\n",
       "      <th>5</th>\n",
       "      <td>abhishek</td>\n",
       "      <td>23</td>\n",
       "      <td>90</td>\n",
       "      <td>Average</td>\n",
       "      <td>True</td>\n",
       "    </tr>\n",
       "  </tbody>\n",
       "</table>\n",
       "</div>"
      ],
      "text/plain": [
       "       Name  age  marks    Measure  Pass/fail\n",
       "0      Ravi   19     98       Good       True\n",
       "1   Kushal    19     98    average       True\n",
       "2     sabin   20     90       good       True\n",
       "3   rajesh    21     86  also Good       True\n",
       "4    Nikesh   20     86        Bad       True\n",
       "5  abhishek   23     90    Average       True"
      ]
     },
     "execution_count": 36,
     "metadata": {},
     "output_type": "execute_result"
    }
   ],
   "source": [
    "my_Csv[\"Pass/fail\"]=[True]*len(my_Csv)\n",
    "my_Csv"
   ]
  },
  {
   "cell_type": "code",
   "execution_count": 37,
   "id": "61dae9d0-7655-4059-ad9d-a4ae9c305079",
   "metadata": {},
   "outputs": [],
   "source": [
    "#Add nan values"
   ]
  },
  {
   "cell_type": "code",
   "execution_count": 38,
   "id": "77fbfa72-72dc-449f-8424-ac4fe91c7dad",
   "metadata": {},
   "outputs": [
    {
     "data": {
      "text/html": [
       "<div>\n",
       "<style scoped>\n",
       "    .dataframe tbody tr th:only-of-type {\n",
       "        vertical-align: middle;\n",
       "    }\n",
       "\n",
       "    .dataframe tbody tr th {\n",
       "        vertical-align: top;\n",
       "    }\n",
       "\n",
       "    .dataframe thead th {\n",
       "        text-align: right;\n",
       "    }\n",
       "</style>\n",
       "<table border=\"1\" class=\"dataframe\">\n",
       "  <thead>\n",
       "    <tr style=\"text-align: right;\">\n",
       "      <th></th>\n",
       "      <th>Name</th>\n",
       "      <th>age</th>\n",
       "      <th>marks</th>\n",
       "      <th>Measure</th>\n",
       "      <th>Pass/fail</th>\n",
       "      <th>hooby</th>\n",
       "    </tr>\n",
       "  </thead>\n",
       "  <tbody>\n",
       "    <tr>\n",
       "      <th>0</th>\n",
       "      <td>Ravi</td>\n",
       "      <td>19</td>\n",
       "      <td>98</td>\n",
       "      <td>Good</td>\n",
       "      <td>True</td>\n",
       "      <td>NaN</td>\n",
       "    </tr>\n",
       "    <tr>\n",
       "      <th>1</th>\n",
       "      <td>Kushal</td>\n",
       "      <td>19</td>\n",
       "      <td>98</td>\n",
       "      <td>average</td>\n",
       "      <td>True</td>\n",
       "      <td>NaN</td>\n",
       "    </tr>\n",
       "    <tr>\n",
       "      <th>2</th>\n",
       "      <td>sabin</td>\n",
       "      <td>20</td>\n",
       "      <td>90</td>\n",
       "      <td>good</td>\n",
       "      <td>True</td>\n",
       "      <td>NaN</td>\n",
       "    </tr>\n",
       "    <tr>\n",
       "      <th>3</th>\n",
       "      <td>rajesh</td>\n",
       "      <td>21</td>\n",
       "      <td>86</td>\n",
       "      <td>also Good</td>\n",
       "      <td>True</td>\n",
       "      <td>NaN</td>\n",
       "    </tr>\n",
       "    <tr>\n",
       "      <th>4</th>\n",
       "      <td>Nikesh</td>\n",
       "      <td>20</td>\n",
       "      <td>86</td>\n",
       "      <td>Bad</td>\n",
       "      <td>True</td>\n",
       "      <td>NaN</td>\n",
       "    </tr>\n",
       "    <tr>\n",
       "      <th>5</th>\n",
       "      <td>abhishek</td>\n",
       "      <td>23</td>\n",
       "      <td>90</td>\n",
       "      <td>Average</td>\n",
       "      <td>True</td>\n",
       "      <td>NaN</td>\n",
       "    </tr>\n",
       "  </tbody>\n",
       "</table>\n",
       "</div>"
      ],
      "text/plain": [
       "       Name  age  marks    Measure  Pass/fail  hooby\n",
       "0      Ravi   19     98       Good       True    NaN\n",
       "1   Kushal    19     98    average       True    NaN\n",
       "2     sabin   20     90       good       True    NaN\n",
       "3   rajesh    21     86  also Good       True    NaN\n",
       "4    Nikesh   20     86        Bad       True    NaN\n",
       "5  abhishek   23     90    Average       True    NaN"
      ]
     },
     "execution_count": 38,
     "metadata": {},
     "output_type": "execute_result"
    }
   ],
   "source": [
    "my_Csv[\"hooby\"]=[np.nan]*len(my_Csv) \n",
    "my_Csv"
   ]
  },
  {
   "cell_type": "code",
   "execution_count": 39,
   "id": "671eea02-161d-40e6-a322-b7095aa76ec9",
   "metadata": {},
   "outputs": [
    {
     "data": {
      "text/html": [
       "<div>\n",
       "<style scoped>\n",
       "    .dataframe tbody tr th:only-of-type {\n",
       "        vertical-align: middle;\n",
       "    }\n",
       "\n",
       "    .dataframe tbody tr th {\n",
       "        vertical-align: top;\n",
       "    }\n",
       "\n",
       "    .dataframe thead th {\n",
       "        text-align: right;\n",
       "    }\n",
       "</style>\n",
       "<table border=\"1\" class=\"dataframe\">\n",
       "  <thead>\n",
       "    <tr style=\"text-align: right;\">\n",
       "      <th></th>\n",
       "      <th>Name</th>\n",
       "      <th>age</th>\n",
       "      <th>marks</th>\n",
       "      <th>Measure</th>\n",
       "      <th>Nothing</th>\n",
       "      <th>Pass/fail</th>\n",
       "      <th>hooby</th>\n",
       "    </tr>\n",
       "  </thead>\n",
       "  <tbody>\n",
       "    <tr>\n",
       "      <th>0</th>\n",
       "      <td>Ravi</td>\n",
       "      <td>19</td>\n",
       "      <td>98</td>\n",
       "      <td>Good</td>\n",
       "      <td>True</td>\n",
       "      <td>True</td>\n",
       "      <td>NaN</td>\n",
       "    </tr>\n",
       "    <tr>\n",
       "      <th>1</th>\n",
       "      <td>Kushal</td>\n",
       "      <td>19</td>\n",
       "      <td>98</td>\n",
       "      <td>average</td>\n",
       "      <td>True</td>\n",
       "      <td>True</td>\n",
       "      <td>NaN</td>\n",
       "    </tr>\n",
       "    <tr>\n",
       "      <th>2</th>\n",
       "      <td>sabin</td>\n",
       "      <td>20</td>\n",
       "      <td>90</td>\n",
       "      <td>good</td>\n",
       "      <td>True</td>\n",
       "      <td>True</td>\n",
       "      <td>NaN</td>\n",
       "    </tr>\n",
       "    <tr>\n",
       "      <th>3</th>\n",
       "      <td>rajesh</td>\n",
       "      <td>21</td>\n",
       "      <td>86</td>\n",
       "      <td>also Good</td>\n",
       "      <td>True</td>\n",
       "      <td>True</td>\n",
       "      <td>NaN</td>\n",
       "    </tr>\n",
       "    <tr>\n",
       "      <th>4</th>\n",
       "      <td>Nikesh</td>\n",
       "      <td>20</td>\n",
       "      <td>86</td>\n",
       "      <td>Bad</td>\n",
       "      <td>True</td>\n",
       "      <td>True</td>\n",
       "      <td>NaN</td>\n",
       "    </tr>\n",
       "    <tr>\n",
       "      <th>5</th>\n",
       "      <td>abhishek</td>\n",
       "      <td>23</td>\n",
       "      <td>90</td>\n",
       "      <td>Average</td>\n",
       "      <td>True</td>\n",
       "      <td>True</td>\n",
       "      <td>NaN</td>\n",
       "    </tr>\n",
       "  </tbody>\n",
       "</table>\n",
       "</div>"
      ],
      "text/plain": [
       "       Name  age  marks    Measure  Nothing  Pass/fail  hooby\n",
       "0      Ravi   19     98       Good     True       True    NaN\n",
       "1   Kushal    19     98    average     True       True    NaN\n",
       "2     sabin   20     90       good     True       True    NaN\n",
       "3   rajesh    21     86  also Good     True       True    NaN\n",
       "4    Nikesh   20     86        Bad     True       True    NaN\n",
       "5  abhishek   23     90    Average     True       True    NaN"
      ]
     },
     "execution_count": 39,
     "metadata": {},
     "output_type": "execute_result"
    }
   ],
   "source": [
    "#add column with .insert() \n",
    "my_Csv.insert(4,\"Nothing\",[True]*len(my_Csv))\n",
    "my_Csv\n"
   ]
  },
  {
   "cell_type": "code",
   "execution_count": 40,
   "id": "dad568ea-ff6d-4a3e-9498-34210fef9744",
   "metadata": {},
   "outputs": [
    {
     "data": {
      "text/html": [
       "<div>\n",
       "<style scoped>\n",
       "    .dataframe tbody tr th:only-of-type {\n",
       "        vertical-align: middle;\n",
       "    }\n",
       "\n",
       "    .dataframe tbody tr th {\n",
       "        vertical-align: top;\n",
       "    }\n",
       "\n",
       "    .dataframe thead th {\n",
       "        text-align: right;\n",
       "    }\n",
       "</style>\n",
       "<table border=\"1\" class=\"dataframe\">\n",
       "  <thead>\n",
       "    <tr style=\"text-align: right;\">\n",
       "      <th></th>\n",
       "      <th>Name</th>\n",
       "      <th>age</th>\n",
       "      <th>marks</th>\n",
       "      <th>Measure</th>\n",
       "      <th>Nothing</th>\n",
       "      <th>Pass/fail</th>\n",
       "      <th>hooby</th>\n",
       "      <th>college</th>\n",
       "    </tr>\n",
       "  </thead>\n",
       "  <tbody>\n",
       "    <tr>\n",
       "      <th>0</th>\n",
       "      <td>Ravi</td>\n",
       "      <td>19</td>\n",
       "      <td>98</td>\n",
       "      <td>Good</td>\n",
       "      <td>True</td>\n",
       "      <td>True</td>\n",
       "      <td>NaN</td>\n",
       "      <td>don't know</td>\n",
       "    </tr>\n",
       "    <tr>\n",
       "      <th>1</th>\n",
       "      <td>Kushal</td>\n",
       "      <td>19</td>\n",
       "      <td>98</td>\n",
       "      <td>average</td>\n",
       "      <td>True</td>\n",
       "      <td>True</td>\n",
       "      <td>NaN</td>\n",
       "      <td>don't know</td>\n",
       "    </tr>\n",
       "    <tr>\n",
       "      <th>2</th>\n",
       "      <td>sabin</td>\n",
       "      <td>20</td>\n",
       "      <td>90</td>\n",
       "      <td>good</td>\n",
       "      <td>True</td>\n",
       "      <td>True</td>\n",
       "      <td>NaN</td>\n",
       "      <td>don't know</td>\n",
       "    </tr>\n",
       "    <tr>\n",
       "      <th>3</th>\n",
       "      <td>rajesh</td>\n",
       "      <td>21</td>\n",
       "      <td>86</td>\n",
       "      <td>also Good</td>\n",
       "      <td>True</td>\n",
       "      <td>True</td>\n",
       "      <td>NaN</td>\n",
       "      <td>don't know</td>\n",
       "    </tr>\n",
       "    <tr>\n",
       "      <th>4</th>\n",
       "      <td>Nikesh</td>\n",
       "      <td>20</td>\n",
       "      <td>86</td>\n",
       "      <td>Bad</td>\n",
       "      <td>True</td>\n",
       "      <td>True</td>\n",
       "      <td>NaN</td>\n",
       "      <td>don't know</td>\n",
       "    </tr>\n",
       "    <tr>\n",
       "      <th>5</th>\n",
       "      <td>abhishek</td>\n",
       "      <td>23</td>\n",
       "      <td>90</td>\n",
       "      <td>Average</td>\n",
       "      <td>True</td>\n",
       "      <td>True</td>\n",
       "      <td>NaN</td>\n",
       "      <td>don't know</td>\n",
       "    </tr>\n",
       "  </tbody>\n",
       "</table>\n",
       "</div>"
      ],
      "text/plain": [
       "       Name  age  marks    Measure  Nothing  Pass/fail  hooby     college\n",
       "0      Ravi   19     98       Good     True       True    NaN  don't know\n",
       "1   Kushal    19     98    average     True       True    NaN  don't know\n",
       "2     sabin   20     90       good     True       True    NaN  don't know\n",
       "3   rajesh    21     86  also Good     True       True    NaN  don't know\n",
       "4    Nikesh   20     86        Bad     True       True    NaN  don't know\n",
       "5  abhishek   23     90    Average     True       True    NaN  don't know"
      ]
     },
     "execution_count": 40,
     "metadata": {},
     "output_type": "execute_result"
    }
   ],
   "source": [
    "#Add column with .assign() #create a new variable and store the data\n",
    "new_var=my_Csv.assign(college=[\"don't know\"]*len(my_Csv))\n",
    "new_var"
   ]
  },
  {
   "cell_type": "code",
   "execution_count": 41,
   "id": "61c8d5e8-36cd-4195-956f-9f7d683d3d04",
   "metadata": {},
   "outputs": [],
   "source": [
    "#Delete colmn and row\n",
    "#Var_Name.drop( )\n"
   ]
  },
  {
   "cell_type": "code",
   "execution_count": 42,
   "id": "dbb5ac43-6c3a-4078-8ae7-9a7fe49a58b2",
   "metadata": {},
   "outputs": [],
   "source": [
    "# new_var.drop(\"hobby\",axis=1)\n",
    "\n"
   ]
  },
  {
   "cell_type": "code",
   "execution_count": 43,
   "id": "eaa6036f-5f3e-463f-9744-1853394ddf48",
   "metadata": {},
   "outputs": [
    {
     "data": {
      "text/html": [
       "<div>\n",
       "<style scoped>\n",
       "    .dataframe tbody tr th:only-of-type {\n",
       "        vertical-align: middle;\n",
       "    }\n",
       "\n",
       "    .dataframe tbody tr th {\n",
       "        vertical-align: top;\n",
       "    }\n",
       "\n",
       "    .dataframe thead th {\n",
       "        text-align: right;\n",
       "    }\n",
       "</style>\n",
       "<table border=\"1\" class=\"dataframe\">\n",
       "  <thead>\n",
       "    <tr style=\"text-align: right;\">\n",
       "      <th></th>\n",
       "      <th>Name</th>\n",
       "      <th>age</th>\n",
       "      <th>marks</th>\n",
       "      <th>Measure</th>\n",
       "      <th>Nothing</th>\n",
       "      <th>Pass/fail</th>\n",
       "      <th>hooby</th>\n",
       "      <th>college</th>\n",
       "    </tr>\n",
       "  </thead>\n",
       "  <tbody>\n",
       "    <tr>\n",
       "      <th>0</th>\n",
       "      <td>Ravi</td>\n",
       "      <td>19</td>\n",
       "      <td>98</td>\n",
       "      <td>Good</td>\n",
       "      <td>True</td>\n",
       "      <td>True</td>\n",
       "      <td>NaN</td>\n",
       "      <td>don't know</td>\n",
       "    </tr>\n",
       "    <tr>\n",
       "      <th>1</th>\n",
       "      <td>Kushal</td>\n",
       "      <td>19</td>\n",
       "      <td>98</td>\n",
       "      <td>average</td>\n",
       "      <td>True</td>\n",
       "      <td>True</td>\n",
       "      <td>NaN</td>\n",
       "      <td>don't know</td>\n",
       "    </tr>\n",
       "    <tr>\n",
       "      <th>2</th>\n",
       "      <td>sabin</td>\n",
       "      <td>20</td>\n",
       "      <td>90</td>\n",
       "      <td>good</td>\n",
       "      <td>True</td>\n",
       "      <td>True</td>\n",
       "      <td>NaN</td>\n",
       "      <td>don't know</td>\n",
       "    </tr>\n",
       "    <tr>\n",
       "      <th>3</th>\n",
       "      <td>rajesh</td>\n",
       "      <td>21</td>\n",
       "      <td>86</td>\n",
       "      <td>also Good</td>\n",
       "      <td>True</td>\n",
       "      <td>True</td>\n",
       "      <td>NaN</td>\n",
       "      <td>don't know</td>\n",
       "    </tr>\n",
       "    <tr>\n",
       "      <th>4</th>\n",
       "      <td>Nikesh</td>\n",
       "      <td>20</td>\n",
       "      <td>86</td>\n",
       "      <td>Bad</td>\n",
       "      <td>True</td>\n",
       "      <td>True</td>\n",
       "      <td>NaN</td>\n",
       "      <td>don't know</td>\n",
       "    </tr>\n",
       "    <tr>\n",
       "      <th>5</th>\n",
       "      <td>abhishek</td>\n",
       "      <td>23</td>\n",
       "      <td>90</td>\n",
       "      <td>Average</td>\n",
       "      <td>True</td>\n",
       "      <td>True</td>\n",
       "      <td>NaN</td>\n",
       "      <td>don't know</td>\n",
       "    </tr>\n",
       "  </tbody>\n",
       "</table>\n",
       "</div>"
      ],
      "text/plain": [
       "       Name  age  marks    Measure  Nothing  Pass/fail  hooby     college\n",
       "0      Ravi   19     98       Good     True       True    NaN  don't know\n",
       "1   Kushal    19     98    average     True       True    NaN  don't know\n",
       "2     sabin   20     90       good     True       True    NaN  don't know\n",
       "3   rajesh    21     86  also Good     True       True    NaN  don't know\n",
       "4    Nikesh   20     86        Bad     True       True    NaN  don't know\n",
       "5  abhishek   23     90    Average     True       True    NaN  don't know"
      ]
     },
     "execution_count": 43,
     "metadata": {},
     "output_type": "execute_result"
    }
   ],
   "source": [
    "new_var"
   ]
  },
  {
   "cell_type": "code",
   "execution_count": 44,
   "id": "fc930544-27c7-409c-9b54-fc605fdf600d",
   "metadata": {},
   "outputs": [
    {
     "data": {
      "text/html": [
       "<div>\n",
       "<style scoped>\n",
       "    .dataframe tbody tr th:only-of-type {\n",
       "        vertical-align: middle;\n",
       "    }\n",
       "\n",
       "    .dataframe tbody tr th {\n",
       "        vertical-align: top;\n",
       "    }\n",
       "\n",
       "    .dataframe thead th {\n",
       "        text-align: right;\n",
       "    }\n",
       "</style>\n",
       "<table border=\"1\" class=\"dataframe\">\n",
       "  <thead>\n",
       "    <tr style=\"text-align: right;\">\n",
       "      <th></th>\n",
       "      <th>Name</th>\n",
       "      <th>age</th>\n",
       "      <th>marks</th>\n",
       "      <th>Measure</th>\n",
       "      <th>Nothing</th>\n",
       "      <th>Pass/fail</th>\n",
       "      <th>hooby</th>\n",
       "      <th>college</th>\n",
       "    </tr>\n",
       "  </thead>\n",
       "  <tbody>\n",
       "    <tr>\n",
       "      <th>0</th>\n",
       "      <td>Ravi</td>\n",
       "      <td>19</td>\n",
       "      <td>98</td>\n",
       "      <td>Good</td>\n",
       "      <td>True</td>\n",
       "      <td>True</td>\n",
       "      <td>NaN</td>\n",
       "      <td>don't know</td>\n",
       "    </tr>\n",
       "    <tr>\n",
       "      <th>1</th>\n",
       "      <td>Kushal</td>\n",
       "      <td>19</td>\n",
       "      <td>98</td>\n",
       "      <td>average</td>\n",
       "      <td>True</td>\n",
       "      <td>True</td>\n",
       "      <td>NaN</td>\n",
       "      <td>don't know</td>\n",
       "    </tr>\n",
       "    <tr>\n",
       "      <th>2</th>\n",
       "      <td>sabin</td>\n",
       "      <td>20</td>\n",
       "      <td>90</td>\n",
       "      <td>good</td>\n",
       "      <td>True</td>\n",
       "      <td>True</td>\n",
       "      <td>NaN</td>\n",
       "      <td>don't know</td>\n",
       "    </tr>\n",
       "    <tr>\n",
       "      <th>3</th>\n",
       "      <td>rajesh</td>\n",
       "      <td>21</td>\n",
       "      <td>86</td>\n",
       "      <td>also Good</td>\n",
       "      <td>True</td>\n",
       "      <td>True</td>\n",
       "      <td>NaN</td>\n",
       "      <td>don't know</td>\n",
       "    </tr>\n",
       "    <tr>\n",
       "      <th>5</th>\n",
       "      <td>abhishek</td>\n",
       "      <td>23</td>\n",
       "      <td>90</td>\n",
       "      <td>Average</td>\n",
       "      <td>True</td>\n",
       "      <td>True</td>\n",
       "      <td>NaN</td>\n",
       "      <td>don't know</td>\n",
       "    </tr>\n",
       "  </tbody>\n",
       "</table>\n",
       "</div>"
      ],
      "text/plain": [
       "       Name  age  marks    Measure  Nothing  Pass/fail  hooby     college\n",
       "0      Ravi   19     98       Good     True       True    NaN  don't know\n",
       "1   Kushal    19     98    average     True       True    NaN  don't know\n",
       "2     sabin   20     90       good     True       True    NaN  don't know\n",
       "3   rajesh    21     86  also Good     True       True    NaN  don't know\n",
       "5  abhishek   23     90    Average     True       True    NaN  don't know"
      ]
     },
     "execution_count": 44,
     "metadata": {},
     "output_type": "execute_result"
    }
   ],
   "source": [
    "new_var.drop(4)"
   ]
  },
  {
   "cell_type": "code",
   "execution_count": 45,
   "id": "b2edb125-1436-4d93-b9ce-18c915884313",
   "metadata": {},
   "outputs": [],
   "source": [
    "#Grab Row, points, Subset"
   ]
  },
  {
   "cell_type": "code",
   "execution_count": 46,
   "id": "c665a6fa-29fd-4cea-b192-a4d66ac65b0a",
   "metadata": {},
   "outputs": [
    {
     "data": {
      "text/plain": [
       "Name               Ravi\n",
       "age                  19\n",
       "marks                98\n",
       "Measure            Good\n",
       "Nothing            True\n",
       "Pass/fail          True\n",
       "hooby               NaN\n",
       "college      don't know\n",
       "Name: 0, dtype: object"
      ]
     },
     "execution_count": 46,
     "metadata": {},
     "output_type": "execute_result"
    }
   ],
   "source": [
    "#Grab row method(1)\n",
    "new_var.loc[0]"
   ]
  },
  {
   "cell_type": "code",
   "execution_count": 47,
   "id": "206412f8-0d41-4bbb-981f-86d0604ad79f",
   "metadata": {},
   "outputs": [
    {
     "data": {
      "text/plain": [
       "Name            rajesh \n",
       "age                  21\n",
       "marks                86\n",
       "Measure       also Good\n",
       "Nothing            True\n",
       "Pass/fail          True\n",
       "hooby               NaN\n",
       "college      don't know\n",
       "Name: 3, dtype: object"
      ]
     },
     "execution_count": 47,
     "metadata": {},
     "output_type": "execute_result"
    }
   ],
   "source": [
    "#Grab row method(2)\n",
    "new_var.iloc[3]"
   ]
  },
  {
   "cell_type": "code",
   "execution_count": 48,
   "id": "e6ccdfa6-3e85-4bfc-97dd-a06aea651fb7",
   "metadata": {},
   "outputs": [
    {
     "data": {
      "text/plain": [
       "0    don't know\n",
       "1    don't know\n",
       "2    don't know\n",
       "3    don't know\n",
       "4    don't know\n",
       "5    don't know\n",
       "Name: college, dtype: object"
      ]
     },
     "execution_count": 48,
     "metadata": {},
     "output_type": "execute_result"
    }
   ],
   "source": [
    "#Grab column method \n",
    "new_var[\"college\"]"
   ]
  },
  {
   "cell_type": "code",
   "execution_count": 49,
   "id": "cf26b5a4-9b88-43ad-8a84-fb0cbd61a992",
   "metadata": {},
   "outputs": [
    {
     "data": {
      "text/plain": [
       "0        Ravi\n",
       "1     Kushal \n",
       "2       sabin\n",
       "3     rajesh \n",
       "4      Nikesh\n",
       "5    abhishek\n",
       "Name: Name, dtype: object"
      ]
     },
     "execution_count": 49,
     "metadata": {},
     "output_type": "execute_result"
    }
   ],
   "source": [
    "#Grab column 2 method\n",
    "new_var.iloc[:,0]"
   ]
  },
  {
   "cell_type": "code",
   "execution_count": 50,
   "id": "408f7a65-6e4a-4649-942e-7242d2df258e",
   "metadata": {},
   "outputs": [],
   "source": [
    "#Grab a specific points"
   ]
  },
  {
   "cell_type": "code",
   "execution_count": 51,
   "id": "9e0a7542-3169-45e9-b228-181a8bb13c9c",
   "metadata": {},
   "outputs": [
    {
     "data": {
      "text/plain": [
       "90"
      ]
     },
     "execution_count": 51,
     "metadata": {},
     "output_type": "execute_result"
    }
   ],
   "source": [
    "new_var.loc[2,\"marks\"]"
   ]
  },
  {
   "cell_type": "code",
   "execution_count": 52,
   "id": "5f8deaad-1b7a-4b99-bf69-f607a94102e0",
   "metadata": {},
   "outputs": [
    {
     "data": {
      "text/html": [
       "<div>\n",
       "<style scoped>\n",
       "    .dataframe tbody tr th:only-of-type {\n",
       "        vertical-align: middle;\n",
       "    }\n",
       "\n",
       "    .dataframe tbody tr th {\n",
       "        vertical-align: top;\n",
       "    }\n",
       "\n",
       "    .dataframe thead th {\n",
       "        text-align: right;\n",
       "    }\n",
       "</style>\n",
       "<table border=\"1\" class=\"dataframe\">\n",
       "  <thead>\n",
       "    <tr style=\"text-align: right;\">\n",
       "      <th></th>\n",
       "      <th>Name</th>\n",
       "      <th>marks</th>\n",
       "    </tr>\n",
       "  </thead>\n",
       "  <tbody>\n",
       "    <tr>\n",
       "      <th>0</th>\n",
       "      <td>Ravi</td>\n",
       "      <td>98</td>\n",
       "    </tr>\n",
       "    <tr>\n",
       "      <th>4</th>\n",
       "      <td>Nikesh</td>\n",
       "      <td>86</td>\n",
       "    </tr>\n",
       "  </tbody>\n",
       "</table>\n",
       "</div>"
      ],
      "text/plain": [
       "     Name  marks\n",
       "0    Ravi     98\n",
       "4  Nikesh     86"
      ]
     },
     "execution_count": 52,
     "metadata": {},
     "output_type": "execute_result"
    }
   ],
   "source": [
    "#Subset\n",
    "new_var.loc[[0,4],[\"Name\",\"marks\"]]"
   ]
  },
  {
   "cell_type": "code",
   "execution_count": 53,
   "id": "bf12ed7f-b74d-4e5c-9221-cb991abb111b",
   "metadata": {},
   "outputs": [
    {
     "data": {
      "text/html": [
       "<div>\n",
       "<style scoped>\n",
       "    .dataframe tbody tr th:only-of-type {\n",
       "        vertical-align: middle;\n",
       "    }\n",
       "\n",
       "    .dataframe tbody tr th {\n",
       "        vertical-align: top;\n",
       "    }\n",
       "\n",
       "    .dataframe thead th {\n",
       "        text-align: right;\n",
       "    }\n",
       "</style>\n",
       "<table border=\"1\" class=\"dataframe\">\n",
       "  <thead>\n",
       "    <tr style=\"text-align: right;\">\n",
       "      <th></th>\n",
       "      <th>Name</th>\n",
       "      <th>age</th>\n",
       "      <th>marks</th>\n",
       "      <th>Measure</th>\n",
       "      <th>Nothing</th>\n",
       "      <th>Pass/fail</th>\n",
       "      <th>hooby</th>\n",
       "      <th>college</th>\n",
       "    </tr>\n",
       "  </thead>\n",
       "  <tbody>\n",
       "    <tr>\n",
       "      <th>0</th>\n",
       "      <td>False</td>\n",
       "      <td>False</td>\n",
       "      <td>False</td>\n",
       "      <td>False</td>\n",
       "      <td>False</td>\n",
       "      <td>False</td>\n",
       "      <td>False</td>\n",
       "      <td>False</td>\n",
       "    </tr>\n",
       "    <tr>\n",
       "      <th>1</th>\n",
       "      <td>False</td>\n",
       "      <td>False</td>\n",
       "      <td>False</td>\n",
       "      <td>False</td>\n",
       "      <td>False</td>\n",
       "      <td>False</td>\n",
       "      <td>False</td>\n",
       "      <td>False</td>\n",
       "    </tr>\n",
       "    <tr>\n",
       "      <th>2</th>\n",
       "      <td>False</td>\n",
       "      <td>False</td>\n",
       "      <td>True</td>\n",
       "      <td>False</td>\n",
       "      <td>False</td>\n",
       "      <td>False</td>\n",
       "      <td>False</td>\n",
       "      <td>False</td>\n",
       "    </tr>\n",
       "    <tr>\n",
       "      <th>3</th>\n",
       "      <td>False</td>\n",
       "      <td>False</td>\n",
       "      <td>False</td>\n",
       "      <td>False</td>\n",
       "      <td>False</td>\n",
       "      <td>False</td>\n",
       "      <td>False</td>\n",
       "      <td>False</td>\n",
       "    </tr>\n",
       "    <tr>\n",
       "      <th>4</th>\n",
       "      <td>False</td>\n",
       "      <td>False</td>\n",
       "      <td>False</td>\n",
       "      <td>False</td>\n",
       "      <td>False</td>\n",
       "      <td>False</td>\n",
       "      <td>False</td>\n",
       "      <td>False</td>\n",
       "    </tr>\n",
       "    <tr>\n",
       "      <th>5</th>\n",
       "      <td>False</td>\n",
       "      <td>False</td>\n",
       "      <td>True</td>\n",
       "      <td>False</td>\n",
       "      <td>False</td>\n",
       "      <td>False</td>\n",
       "      <td>False</td>\n",
       "      <td>False</td>\n",
       "    </tr>\n",
       "  </tbody>\n",
       "</table>\n",
       "</div>"
      ],
      "text/plain": [
       "    Name    age  marks  Measure  Nothing  Pass/fail  hooby  college\n",
       "0  False  False  False    False    False      False  False    False\n",
       "1  False  False  False    False    False      False  False    False\n",
       "2  False  False   True    False    False      False  False    False\n",
       "3  False  False  False    False    False      False  False    False\n",
       "4  False  False  False    False    False      False  False    False\n",
       "5  False  False   True    False    False      False  False    False"
      ]
     },
     "execution_count": 53,
     "metadata": {},
     "output_type": "execute_result"
    }
   ],
   "source": [
    "#Conditional Selections\n",
    "new_var== 90"
   ]
  },
  {
   "cell_type": "code",
   "execution_count": 54,
   "id": "ab075ec6-4025-4e69-aad4-ee9c56dd32ee",
   "metadata": {},
   "outputs": [
    {
     "data": {
      "text/html": [
       "<div>\n",
       "<style scoped>\n",
       "    .dataframe tbody tr th:only-of-type {\n",
       "        vertical-align: middle;\n",
       "    }\n",
       "\n",
       "    .dataframe tbody tr th {\n",
       "        vertical-align: top;\n",
       "    }\n",
       "\n",
       "    .dataframe thead th {\n",
       "        text-align: right;\n",
       "    }\n",
       "</style>\n",
       "<table border=\"1\" class=\"dataframe\">\n",
       "  <thead>\n",
       "    <tr style=\"text-align: right;\">\n",
       "      <th></th>\n",
       "      <th>Name</th>\n",
       "      <th>age</th>\n",
       "      <th>marks</th>\n",
       "      <th>Measure</th>\n",
       "      <th>Nothing</th>\n",
       "      <th>Pass/fail</th>\n",
       "      <th>hooby</th>\n",
       "      <th>college</th>\n",
       "    </tr>\n",
       "  </thead>\n",
       "  <tbody>\n",
       "    <tr>\n",
       "      <th>0</th>\n",
       "      <td>Ravi</td>\n",
       "      <td>19</td>\n",
       "      <td>98</td>\n",
       "      <td>Good</td>\n",
       "      <td>True</td>\n",
       "      <td>True</td>\n",
       "      <td>NaN</td>\n",
       "      <td>don't know</td>\n",
       "    </tr>\n",
       "    <tr>\n",
       "      <th>1</th>\n",
       "      <td>Kushal</td>\n",
       "      <td>19</td>\n",
       "      <td>98</td>\n",
       "      <td>average</td>\n",
       "      <td>True</td>\n",
       "      <td>True</td>\n",
       "      <td>NaN</td>\n",
       "      <td>don't know</td>\n",
       "    </tr>\n",
       "  </tbody>\n",
       "</table>\n",
       "</div>"
      ],
      "text/plain": [
       "      Name  age  marks  Measure  Nothing  Pass/fail  hooby     college\n",
       "0     Ravi   19     98     Good     True       True    NaN  don't know\n",
       "1  Kushal    19     98  average     True       True    NaN  don't know"
      ]
     },
     "execution_count": 54,
     "metadata": {},
     "output_type": "execute_result"
    }
   ],
   "source": [
    "#Returns DataFrame with Data\n",
    "new_var[new_var[\"marks\"]> 90]"
   ]
  },
  {
   "cell_type": "code",
   "execution_count": 55,
   "id": "9ee885c4-8195-4f34-b381-b62da8abe552",
   "metadata": {},
   "outputs": [
    {
     "data": {
      "text/plain": [
       "2       sabin\n",
       "5    abhishek\n",
       "Name: Name, dtype: object"
      ]
     },
     "execution_count": 55,
     "metadata": {},
     "output_type": "execute_result"
    }
   ],
   "source": [
    "#Return Them on column \n",
    "new_var[new_var[\"marks\"] == 90][\"Name\"]"
   ]
  },
  {
   "cell_type": "code",
   "execution_count": 56,
   "id": "30825407-d16f-47b8-bfdf-92e51237cc18",
   "metadata": {},
   "outputs": [
    {
     "data": {
      "text/html": [
       "<div>\n",
       "<style scoped>\n",
       "    .dataframe tbody tr th:only-of-type {\n",
       "        vertical-align: middle;\n",
       "    }\n",
       "\n",
       "    .dataframe tbody tr th {\n",
       "        vertical-align: top;\n",
       "    }\n",
       "\n",
       "    .dataframe thead th {\n",
       "        text-align: right;\n",
       "    }\n",
       "</style>\n",
       "<table border=\"1\" class=\"dataframe\">\n",
       "  <thead>\n",
       "    <tr style=\"text-align: right;\">\n",
       "      <th></th>\n",
       "      <th>Name</th>\n",
       "      <th>marks</th>\n",
       "    </tr>\n",
       "  </thead>\n",
       "  <tbody>\n",
       "    <tr>\n",
       "      <th>2</th>\n",
       "      <td>sabin</td>\n",
       "      <td>90</td>\n",
       "    </tr>\n",
       "    <tr>\n",
       "      <th>5</th>\n",
       "      <td>abhishek</td>\n",
       "      <td>90</td>\n",
       "    </tr>\n",
       "  </tbody>\n",
       "</table>\n",
       "</div>"
      ],
      "text/plain": [
       "       Name  marks\n",
       "2     sabin     90\n",
       "5  abhishek     90"
      ]
     },
     "execution_count": 56,
     "metadata": {},
     "output_type": "execute_result"
    }
   ],
   "source": [
    "#return Multiple Column\n",
    "new_var[new_var[\"marks\"] == 90][[\"Name\", \"marks\"]]"
   ]
  },
  {
   "cell_type": "code",
   "execution_count": 57,
   "id": "e77860ee-d071-43e8-b4d3-f3787bb74e38",
   "metadata": {},
   "outputs": [
    {
     "data": {
      "text/html": [
       "<div>\n",
       "<style scoped>\n",
       "    .dataframe tbody tr th:only-of-type {\n",
       "        vertical-align: middle;\n",
       "    }\n",
       "\n",
       "    .dataframe tbody tr th {\n",
       "        vertical-align: top;\n",
       "    }\n",
       "\n",
       "    .dataframe thead th {\n",
       "        text-align: right;\n",
       "    }\n",
       "</style>\n",
       "<table border=\"1\" class=\"dataframe\">\n",
       "  <thead>\n",
       "    <tr style=\"text-align: right;\">\n",
       "      <th></th>\n",
       "      <th>Name</th>\n",
       "      <th>age</th>\n",
       "      <th>marks</th>\n",
       "      <th>Measure</th>\n",
       "      <th>Nothing</th>\n",
       "      <th>Pass/fail</th>\n",
       "      <th>hooby</th>\n",
       "      <th>college</th>\n",
       "    </tr>\n",
       "  </thead>\n",
       "  <tbody>\n",
       "    <tr>\n",
       "      <th>2</th>\n",
       "      <td>sabin</td>\n",
       "      <td>20</td>\n",
       "      <td>90</td>\n",
       "      <td>good</td>\n",
       "      <td>True</td>\n",
       "      <td>True</td>\n",
       "      <td>NaN</td>\n",
       "      <td>don't know</td>\n",
       "    </tr>\n",
       "  </tbody>\n",
       "</table>\n",
       "</div>"
      ],
      "text/plain": [
       "    Name  age  marks Measure  Nothing  Pass/fail  hooby     college\n",
       "2  sabin   20     90    good     True       True    NaN  don't know"
      ]
     },
     "execution_count": 57,
     "metadata": {},
     "output_type": "execute_result"
    }
   ],
   "source": [
    "# Multiple Conditions\n",
    "new_var[(new_var[\"marks\"] >= 90) & (new_var[\"age\"] ==20)]\n"
   ]
  },
  {
   "cell_type": "code",
   "execution_count": 58,
   "id": "3960c498-2d98-44ca-9b38-9790da897271",
   "metadata": {},
   "outputs": [
    {
     "data": {
      "text/plain": [
       "1"
      ]
     },
     "execution_count": 58,
     "metadata": {},
     "output_type": "execute_result"
    }
   ],
   "source": [
    "#len\n",
    "len(new_var[(new_var[\"marks\"] >= 90) & (new_var[\"age\"] ==20)])"
   ]
  },
  {
   "cell_type": "code",
   "execution_count": 59,
   "id": "362902c7-aab0-4837-a4fc-efe410e5f647",
   "metadata": {},
   "outputs": [
    {
     "data": {
      "text/plain": [
       "0        Ravi\n",
       "1     Kushal \n",
       "2       sabin\n",
       "4      Nikesh\n",
       "5    abhishek\n",
       "Name: Name, dtype: object"
      ]
     },
     "execution_count": 59,
     "metadata": {},
     "output_type": "execute_result"
    }
   ],
   "source": [
    "#Multiple Condition OR\n",
    "new_var[(new_var[\"marks\"] >= 90) | (new_var[\"age\"] ==20)][\"Name\"]"
   ]
  },
  {
   "cell_type": "code",
   "execution_count": 60,
   "id": "16958e38-1632-420e-bc92-fc49bcacff24",
   "metadata": {},
   "outputs": [
    {
     "data": {
      "text/plain": [
       "5"
      ]
     },
     "execution_count": 60,
     "metadata": {},
     "output_type": "execute_result"
    }
   ],
   "source": [
    "len(new_var[(new_var[\"marks\"] >= 90) | (new_var[\"age\"] ==20)])"
   ]
  },
  {
   "cell_type": "code",
   "execution_count": 61,
   "id": "93611848-c0f4-40e9-a0f2-9c6b1e33c541",
   "metadata": {},
   "outputs": [],
   "source": [
    "# #Reset ,Change index\n",
    "# new_var.drop(\"college\",axis=1,inplace=True)"
   ]
  },
  {
   "cell_type": "code",
   "execution_count": 62,
   "id": "1da8a8d6-ec18-4599-a46b-d6bdf3d40bbd",
   "metadata": {},
   "outputs": [
    {
     "data": {
      "text/html": [
       "<div>\n",
       "<style scoped>\n",
       "    .dataframe tbody tr th:only-of-type {\n",
       "        vertical-align: middle;\n",
       "    }\n",
       "\n",
       "    .dataframe tbody tr th {\n",
       "        vertical-align: top;\n",
       "    }\n",
       "\n",
       "    .dataframe thead th {\n",
       "        text-align: right;\n",
       "    }\n",
       "</style>\n",
       "<table border=\"1\" class=\"dataframe\">\n",
       "  <thead>\n",
       "    <tr style=\"text-align: right;\">\n",
       "      <th></th>\n",
       "      <th>Name</th>\n",
       "      <th>age</th>\n",
       "      <th>marks</th>\n",
       "      <th>Measure</th>\n",
       "      <th>Nothing</th>\n",
       "      <th>Pass/fail</th>\n",
       "      <th>hooby</th>\n",
       "      <th>college</th>\n",
       "    </tr>\n",
       "  </thead>\n",
       "  <tbody>\n",
       "    <tr>\n",
       "      <th>0</th>\n",
       "      <td>Ravi</td>\n",
       "      <td>19</td>\n",
       "      <td>98</td>\n",
       "      <td>Good</td>\n",
       "      <td>True</td>\n",
       "      <td>True</td>\n",
       "      <td>NaN</td>\n",
       "      <td>don't know</td>\n",
       "    </tr>\n",
       "    <tr>\n",
       "      <th>1</th>\n",
       "      <td>Kushal</td>\n",
       "      <td>19</td>\n",
       "      <td>98</td>\n",
       "      <td>average</td>\n",
       "      <td>True</td>\n",
       "      <td>True</td>\n",
       "      <td>NaN</td>\n",
       "      <td>don't know</td>\n",
       "    </tr>\n",
       "    <tr>\n",
       "      <th>2</th>\n",
       "      <td>sabin</td>\n",
       "      <td>20</td>\n",
       "      <td>90</td>\n",
       "      <td>good</td>\n",
       "      <td>True</td>\n",
       "      <td>True</td>\n",
       "      <td>NaN</td>\n",
       "      <td>don't know</td>\n",
       "    </tr>\n",
       "    <tr>\n",
       "      <th>3</th>\n",
       "      <td>rajesh</td>\n",
       "      <td>21</td>\n",
       "      <td>86</td>\n",
       "      <td>also Good</td>\n",
       "      <td>True</td>\n",
       "      <td>True</td>\n",
       "      <td>NaN</td>\n",
       "      <td>don't know</td>\n",
       "    </tr>\n",
       "    <tr>\n",
       "      <th>4</th>\n",
       "      <td>Nikesh</td>\n",
       "      <td>20</td>\n",
       "      <td>86</td>\n",
       "      <td>Bad</td>\n",
       "      <td>True</td>\n",
       "      <td>True</td>\n",
       "      <td>NaN</td>\n",
       "      <td>don't know</td>\n",
       "    </tr>\n",
       "    <tr>\n",
       "      <th>5</th>\n",
       "      <td>abhishek</td>\n",
       "      <td>23</td>\n",
       "      <td>90</td>\n",
       "      <td>Average</td>\n",
       "      <td>True</td>\n",
       "      <td>True</td>\n",
       "      <td>NaN</td>\n",
       "      <td>don't know</td>\n",
       "    </tr>\n",
       "  </tbody>\n",
       "</table>\n",
       "</div>"
      ],
      "text/plain": [
       "       Name  age  marks    Measure  Nothing  Pass/fail  hooby     college\n",
       "0      Ravi   19     98       Good     True       True    NaN  don't know\n",
       "1   Kushal    19     98    average     True       True    NaN  don't know\n",
       "2     sabin   20     90       good     True       True    NaN  don't know\n",
       "3   rajesh    21     86  also Good     True       True    NaN  don't know\n",
       "4    Nikesh   20     86        Bad     True       True    NaN  don't know\n",
       "5  abhishek   23     90    Average     True       True    NaN  don't know"
      ]
     },
     "execution_count": 62,
     "metadata": {},
     "output_type": "execute_result"
    }
   ],
   "source": [
    "new_var"
   ]
  },
  {
   "cell_type": "code",
   "execution_count": 63,
   "id": "bdd0950e-ce7f-4578-ab44-8bdc50c5ff3e",
   "metadata": {},
   "outputs": [],
   "source": [
    "new_var.drop(\"Pass/fail\", axis=1 , inplace=True)"
   ]
  },
  {
   "cell_type": "code",
   "execution_count": 64,
   "id": "09301f80-07fd-4000-9fcc-dd4b6a040102",
   "metadata": {},
   "outputs": [
    {
     "data": {
      "text/html": [
       "<div>\n",
       "<style scoped>\n",
       "    .dataframe tbody tr th:only-of-type {\n",
       "        vertical-align: middle;\n",
       "    }\n",
       "\n",
       "    .dataframe tbody tr th {\n",
       "        vertical-align: top;\n",
       "    }\n",
       "\n",
       "    .dataframe thead th {\n",
       "        text-align: right;\n",
       "    }\n",
       "</style>\n",
       "<table border=\"1\" class=\"dataframe\">\n",
       "  <thead>\n",
       "    <tr style=\"text-align: right;\">\n",
       "      <th></th>\n",
       "      <th>Name</th>\n",
       "      <th>age</th>\n",
       "      <th>marks</th>\n",
       "      <th>Measure</th>\n",
       "      <th>Nothing</th>\n",
       "      <th>hooby</th>\n",
       "      <th>college</th>\n",
       "    </tr>\n",
       "  </thead>\n",
       "  <tbody>\n",
       "    <tr>\n",
       "      <th>0</th>\n",
       "      <td>Ravi</td>\n",
       "      <td>19</td>\n",
       "      <td>98</td>\n",
       "      <td>Good</td>\n",
       "      <td>True</td>\n",
       "      <td>NaN</td>\n",
       "      <td>don't know</td>\n",
       "    </tr>\n",
       "    <tr>\n",
       "      <th>1</th>\n",
       "      <td>Kushal</td>\n",
       "      <td>19</td>\n",
       "      <td>98</td>\n",
       "      <td>average</td>\n",
       "      <td>True</td>\n",
       "      <td>NaN</td>\n",
       "      <td>don't know</td>\n",
       "    </tr>\n",
       "    <tr>\n",
       "      <th>2</th>\n",
       "      <td>sabin</td>\n",
       "      <td>20</td>\n",
       "      <td>90</td>\n",
       "      <td>good</td>\n",
       "      <td>True</td>\n",
       "      <td>NaN</td>\n",
       "      <td>don't know</td>\n",
       "    </tr>\n",
       "    <tr>\n",
       "      <th>3</th>\n",
       "      <td>rajesh</td>\n",
       "      <td>21</td>\n",
       "      <td>86</td>\n",
       "      <td>also Good</td>\n",
       "      <td>True</td>\n",
       "      <td>NaN</td>\n",
       "      <td>don't know</td>\n",
       "    </tr>\n",
       "    <tr>\n",
       "      <th>4</th>\n",
       "      <td>Nikesh</td>\n",
       "      <td>20</td>\n",
       "      <td>86</td>\n",
       "      <td>Bad</td>\n",
       "      <td>True</td>\n",
       "      <td>NaN</td>\n",
       "      <td>don't know</td>\n",
       "    </tr>\n",
       "    <tr>\n",
       "      <th>5</th>\n",
       "      <td>abhishek</td>\n",
       "      <td>23</td>\n",
       "      <td>90</td>\n",
       "      <td>Average</td>\n",
       "      <td>True</td>\n",
       "      <td>NaN</td>\n",
       "      <td>don't know</td>\n",
       "    </tr>\n",
       "  </tbody>\n",
       "</table>\n",
       "</div>"
      ],
      "text/plain": [
       "       Name  age  marks    Measure  Nothing  hooby     college\n",
       "0      Ravi   19     98       Good     True    NaN  don't know\n",
       "1   Kushal    19     98    average     True    NaN  don't know\n",
       "2     sabin   20     90       good     True    NaN  don't know\n",
       "3   rajesh    21     86  also Good     True    NaN  don't know\n",
       "4    Nikesh   20     86        Bad     True    NaN  don't know\n",
       "5  abhishek   23     90    Average     True    NaN  don't know"
      ]
     },
     "execution_count": 64,
     "metadata": {},
     "output_type": "execute_result"
    }
   ],
   "source": [
    "new_var"
   ]
  },
  {
   "cell_type": "code",
   "execution_count": 65,
   "id": "33f14128-6c9e-42df-b4d7-c61e11d87cac",
   "metadata": {},
   "outputs": [],
   "source": [
    "new_var.drop(\"hooby\", axis=1 , inplace=True)"
   ]
  },
  {
   "cell_type": "code",
   "execution_count": 66,
   "id": "f0390dce-ed6f-46b4-a569-0fab672eb58a",
   "metadata": {},
   "outputs": [
    {
     "data": {
      "text/html": [
       "<div>\n",
       "<style scoped>\n",
       "    .dataframe tbody tr th:only-of-type {\n",
       "        vertical-align: middle;\n",
       "    }\n",
       "\n",
       "    .dataframe tbody tr th {\n",
       "        vertical-align: top;\n",
       "    }\n",
       "\n",
       "    .dataframe thead th {\n",
       "        text-align: right;\n",
       "    }\n",
       "</style>\n",
       "<table border=\"1\" class=\"dataframe\">\n",
       "  <thead>\n",
       "    <tr style=\"text-align: right;\">\n",
       "      <th></th>\n",
       "      <th>Name</th>\n",
       "      <th>age</th>\n",
       "      <th>marks</th>\n",
       "      <th>Measure</th>\n",
       "      <th>Nothing</th>\n",
       "      <th>college</th>\n",
       "    </tr>\n",
       "  </thead>\n",
       "  <tbody>\n",
       "    <tr>\n",
       "      <th>0</th>\n",
       "      <td>Ravi</td>\n",
       "      <td>19</td>\n",
       "      <td>98</td>\n",
       "      <td>Good</td>\n",
       "      <td>True</td>\n",
       "      <td>don't know</td>\n",
       "    </tr>\n",
       "    <tr>\n",
       "      <th>1</th>\n",
       "      <td>Kushal</td>\n",
       "      <td>19</td>\n",
       "      <td>98</td>\n",
       "      <td>average</td>\n",
       "      <td>True</td>\n",
       "      <td>don't know</td>\n",
       "    </tr>\n",
       "    <tr>\n",
       "      <th>2</th>\n",
       "      <td>sabin</td>\n",
       "      <td>20</td>\n",
       "      <td>90</td>\n",
       "      <td>good</td>\n",
       "      <td>True</td>\n",
       "      <td>don't know</td>\n",
       "    </tr>\n",
       "    <tr>\n",
       "      <th>3</th>\n",
       "      <td>rajesh</td>\n",
       "      <td>21</td>\n",
       "      <td>86</td>\n",
       "      <td>also Good</td>\n",
       "      <td>True</td>\n",
       "      <td>don't know</td>\n",
       "    </tr>\n",
       "    <tr>\n",
       "      <th>4</th>\n",
       "      <td>Nikesh</td>\n",
       "      <td>20</td>\n",
       "      <td>86</td>\n",
       "      <td>Bad</td>\n",
       "      <td>True</td>\n",
       "      <td>don't know</td>\n",
       "    </tr>\n",
       "    <tr>\n",
       "      <th>5</th>\n",
       "      <td>abhishek</td>\n",
       "      <td>23</td>\n",
       "      <td>90</td>\n",
       "      <td>Average</td>\n",
       "      <td>True</td>\n",
       "      <td>don't know</td>\n",
       "    </tr>\n",
       "  </tbody>\n",
       "</table>\n",
       "</div>"
      ],
      "text/plain": [
       "       Name  age  marks    Measure  Nothing     college\n",
       "0      Ravi   19     98       Good     True  don't know\n",
       "1   Kushal    19     98    average     True  don't know\n",
       "2     sabin   20     90       good     True  don't know\n",
       "3   rajesh    21     86  also Good     True  don't know\n",
       "4    Nikesh   20     86        Bad     True  don't know\n",
       "5  abhishek   23     90    Average     True  don't know"
      ]
     },
     "execution_count": 66,
     "metadata": {},
     "output_type": "execute_result"
    }
   ],
   "source": [
    "new_var"
   ]
  },
  {
   "cell_type": "code",
   "execution_count": 67,
   "id": "fee34bfb-560e-4849-be0d-362a3b9668f8",
   "metadata": {},
   "outputs": [],
   "source": [
    "new_var[\"Country\"]=[\"USA\",\"Canda\",\"USA\",\"Dubai\",\"australia\",\"Japan\"]"
   ]
  },
  {
   "cell_type": "code",
   "execution_count": 68,
   "id": "b1ba6ba7-6cd5-4896-9f19-0216771f5f36",
   "metadata": {},
   "outputs": [
    {
     "data": {
      "text/html": [
       "<div>\n",
       "<style scoped>\n",
       "    .dataframe tbody tr th:only-of-type {\n",
       "        vertical-align: middle;\n",
       "    }\n",
       "\n",
       "    .dataframe tbody tr th {\n",
       "        vertical-align: top;\n",
       "    }\n",
       "\n",
       "    .dataframe thead th {\n",
       "        text-align: right;\n",
       "    }\n",
       "</style>\n",
       "<table border=\"1\" class=\"dataframe\">\n",
       "  <thead>\n",
       "    <tr style=\"text-align: right;\">\n",
       "      <th></th>\n",
       "      <th>Name</th>\n",
       "      <th>age</th>\n",
       "      <th>marks</th>\n",
       "      <th>Measure</th>\n",
       "      <th>Nothing</th>\n",
       "      <th>college</th>\n",
       "      <th>Country</th>\n",
       "    </tr>\n",
       "  </thead>\n",
       "  <tbody>\n",
       "    <tr>\n",
       "      <th>0</th>\n",
       "      <td>Ravi</td>\n",
       "      <td>19</td>\n",
       "      <td>98</td>\n",
       "      <td>Good</td>\n",
       "      <td>True</td>\n",
       "      <td>don't know</td>\n",
       "      <td>USA</td>\n",
       "    </tr>\n",
       "    <tr>\n",
       "      <th>1</th>\n",
       "      <td>Kushal</td>\n",
       "      <td>19</td>\n",
       "      <td>98</td>\n",
       "      <td>average</td>\n",
       "      <td>True</td>\n",
       "      <td>don't know</td>\n",
       "      <td>Canda</td>\n",
       "    </tr>\n",
       "    <tr>\n",
       "      <th>2</th>\n",
       "      <td>sabin</td>\n",
       "      <td>20</td>\n",
       "      <td>90</td>\n",
       "      <td>good</td>\n",
       "      <td>True</td>\n",
       "      <td>don't know</td>\n",
       "      <td>USA</td>\n",
       "    </tr>\n",
       "    <tr>\n",
       "      <th>3</th>\n",
       "      <td>rajesh</td>\n",
       "      <td>21</td>\n",
       "      <td>86</td>\n",
       "      <td>also Good</td>\n",
       "      <td>True</td>\n",
       "      <td>don't know</td>\n",
       "      <td>Dubai</td>\n",
       "    </tr>\n",
       "    <tr>\n",
       "      <th>4</th>\n",
       "      <td>Nikesh</td>\n",
       "      <td>20</td>\n",
       "      <td>86</td>\n",
       "      <td>Bad</td>\n",
       "      <td>True</td>\n",
       "      <td>don't know</td>\n",
       "      <td>australia</td>\n",
       "    </tr>\n",
       "    <tr>\n",
       "      <th>5</th>\n",
       "      <td>abhishek</td>\n",
       "      <td>23</td>\n",
       "      <td>90</td>\n",
       "      <td>Average</td>\n",
       "      <td>True</td>\n",
       "      <td>don't know</td>\n",
       "      <td>Japan</td>\n",
       "    </tr>\n",
       "  </tbody>\n",
       "</table>\n",
       "</div>"
      ],
      "text/plain": [
       "       Name  age  marks    Measure  Nothing     college    Country\n",
       "0      Ravi   19     98       Good     True  don't know        USA\n",
       "1   Kushal    19     98    average     True  don't know      Canda\n",
       "2     sabin   20     90       good     True  don't know        USA\n",
       "3   rajesh    21     86  also Good     True  don't know      Dubai\n",
       "4    Nikesh   20     86        Bad     True  don't know  australia\n",
       "5  abhishek   23     90    Average     True  don't know      Japan"
      ]
     },
     "execution_count": 68,
     "metadata": {},
     "output_type": "execute_result"
    }
   ],
   "source": [
    "new_var"
   ]
  },
  {
   "cell_type": "code",
   "execution_count": 69,
   "id": "d7e92c7b-860e-4386-8aba-3ce82cd5e182",
   "metadata": {},
   "outputs": [
    {
     "data": {
      "text/html": [
       "<div>\n",
       "<style scoped>\n",
       "    .dataframe tbody tr th:only-of-type {\n",
       "        vertical-align: middle;\n",
       "    }\n",
       "\n",
       "    .dataframe tbody tr th {\n",
       "        vertical-align: top;\n",
       "    }\n",
       "\n",
       "    .dataframe thead th {\n",
       "        text-align: right;\n",
       "    }\n",
       "</style>\n",
       "<table border=\"1\" class=\"dataframe\">\n",
       "  <thead>\n",
       "    <tr style=\"text-align: right;\">\n",
       "      <th></th>\n",
       "      <th>age</th>\n",
       "      <th>marks</th>\n",
       "      <th>Measure</th>\n",
       "      <th>Nothing</th>\n",
       "      <th>college</th>\n",
       "      <th>Country</th>\n",
       "    </tr>\n",
       "    <tr>\n",
       "      <th>Name</th>\n",
       "      <th></th>\n",
       "      <th></th>\n",
       "      <th></th>\n",
       "      <th></th>\n",
       "      <th></th>\n",
       "      <th></th>\n",
       "    </tr>\n",
       "  </thead>\n",
       "  <tbody>\n",
       "    <tr>\n",
       "      <th>Ravi</th>\n",
       "      <td>19</td>\n",
       "      <td>98</td>\n",
       "      <td>Good</td>\n",
       "      <td>True</td>\n",
       "      <td>don't know</td>\n",
       "      <td>USA</td>\n",
       "    </tr>\n",
       "    <tr>\n",
       "      <th>Kushal</th>\n",
       "      <td>19</td>\n",
       "      <td>98</td>\n",
       "      <td>average</td>\n",
       "      <td>True</td>\n",
       "      <td>don't know</td>\n",
       "      <td>Canda</td>\n",
       "    </tr>\n",
       "    <tr>\n",
       "      <th>sabin</th>\n",
       "      <td>20</td>\n",
       "      <td>90</td>\n",
       "      <td>good</td>\n",
       "      <td>True</td>\n",
       "      <td>don't know</td>\n",
       "      <td>USA</td>\n",
       "    </tr>\n",
       "    <tr>\n",
       "      <th>rajesh</th>\n",
       "      <td>21</td>\n",
       "      <td>86</td>\n",
       "      <td>also Good</td>\n",
       "      <td>True</td>\n",
       "      <td>don't know</td>\n",
       "      <td>Dubai</td>\n",
       "    </tr>\n",
       "    <tr>\n",
       "      <th>Nikesh</th>\n",
       "      <td>20</td>\n",
       "      <td>86</td>\n",
       "      <td>Bad</td>\n",
       "      <td>True</td>\n",
       "      <td>don't know</td>\n",
       "      <td>australia</td>\n",
       "    </tr>\n",
       "    <tr>\n",
       "      <th>abhishek</th>\n",
       "      <td>23</td>\n",
       "      <td>90</td>\n",
       "      <td>Average</td>\n",
       "      <td>True</td>\n",
       "      <td>don't know</td>\n",
       "      <td>Japan</td>\n",
       "    </tr>\n",
       "  </tbody>\n",
       "</table>\n",
       "</div>"
      ],
      "text/plain": [
       "          age  marks    Measure  Nothing     college    Country\n",
       "Name                                                           \n",
       "Ravi       19     98       Good     True  don't know        USA\n",
       "Kushal     19     98    average     True  don't know      Canda\n",
       "sabin      20     90       good     True  don't know        USA\n",
       "rajesh     21     86  also Good     True  don't know      Dubai\n",
       "Nikesh     20     86        Bad     True  don't know  australia\n",
       "abhishek   23     90    Average     True  don't know      Japan"
      ]
     },
     "execution_count": 69,
     "metadata": {},
     "output_type": "execute_result"
    }
   ],
   "source": [
    "new_var.set_index(\"Name\") "
   ]
  },
  {
   "cell_type": "code",
   "execution_count": 70,
   "id": "304ac12f-fe76-456b-b176-ecb6108aad30",
   "metadata": {},
   "outputs": [
    {
     "data": {
      "text/html": [
       "<div>\n",
       "<style scoped>\n",
       "    .dataframe tbody tr th:only-of-type {\n",
       "        vertical-align: middle;\n",
       "    }\n",
       "\n",
       "    .dataframe tbody tr th {\n",
       "        vertical-align: top;\n",
       "    }\n",
       "\n",
       "    .dataframe thead th {\n",
       "        text-align: right;\n",
       "    }\n",
       "</style>\n",
       "<table border=\"1\" class=\"dataframe\">\n",
       "  <thead>\n",
       "    <tr style=\"text-align: right;\">\n",
       "      <th></th>\n",
       "      <th>index</th>\n",
       "      <th>Name</th>\n",
       "      <th>age</th>\n",
       "      <th>marks</th>\n",
       "      <th>Measure</th>\n",
       "      <th>Nothing</th>\n",
       "      <th>college</th>\n",
       "      <th>Country</th>\n",
       "    </tr>\n",
       "  </thead>\n",
       "  <tbody>\n",
       "    <tr>\n",
       "      <th>0</th>\n",
       "      <td>0</td>\n",
       "      <td>Ravi</td>\n",
       "      <td>19</td>\n",
       "      <td>98</td>\n",
       "      <td>Good</td>\n",
       "      <td>True</td>\n",
       "      <td>don't know</td>\n",
       "      <td>USA</td>\n",
       "    </tr>\n",
       "    <tr>\n",
       "      <th>1</th>\n",
       "      <td>1</td>\n",
       "      <td>Kushal</td>\n",
       "      <td>19</td>\n",
       "      <td>98</td>\n",
       "      <td>average</td>\n",
       "      <td>True</td>\n",
       "      <td>don't know</td>\n",
       "      <td>Canda</td>\n",
       "    </tr>\n",
       "    <tr>\n",
       "      <th>2</th>\n",
       "      <td>2</td>\n",
       "      <td>sabin</td>\n",
       "      <td>20</td>\n",
       "      <td>90</td>\n",
       "      <td>good</td>\n",
       "      <td>True</td>\n",
       "      <td>don't know</td>\n",
       "      <td>USA</td>\n",
       "    </tr>\n",
       "    <tr>\n",
       "      <th>3</th>\n",
       "      <td>3</td>\n",
       "      <td>rajesh</td>\n",
       "      <td>21</td>\n",
       "      <td>86</td>\n",
       "      <td>also Good</td>\n",
       "      <td>True</td>\n",
       "      <td>don't know</td>\n",
       "      <td>Dubai</td>\n",
       "    </tr>\n",
       "    <tr>\n",
       "      <th>4</th>\n",
       "      <td>4</td>\n",
       "      <td>Nikesh</td>\n",
       "      <td>20</td>\n",
       "      <td>86</td>\n",
       "      <td>Bad</td>\n",
       "      <td>True</td>\n",
       "      <td>don't know</td>\n",
       "      <td>australia</td>\n",
       "    </tr>\n",
       "    <tr>\n",
       "      <th>5</th>\n",
       "      <td>5</td>\n",
       "      <td>abhishek</td>\n",
       "      <td>23</td>\n",
       "      <td>90</td>\n",
       "      <td>Average</td>\n",
       "      <td>True</td>\n",
       "      <td>don't know</td>\n",
       "      <td>Japan</td>\n",
       "    </tr>\n",
       "  </tbody>\n",
       "</table>\n",
       "</div>"
      ],
      "text/plain": [
       "   index      Name  age  marks    Measure  Nothing     college    Country\n",
       "0      0      Ravi   19     98       Good     True  don't know        USA\n",
       "1      1   Kushal    19     98    average     True  don't know      Canda\n",
       "2      2     sabin   20     90       good     True  don't know        USA\n",
       "3      3   rajesh    21     86  also Good     True  don't know      Dubai\n",
       "4      4    Nikesh   20     86        Bad     True  don't know  australia\n",
       "5      5  abhishek   23     90    Average     True  don't know      Japan"
      ]
     },
     "execution_count": 70,
     "metadata": {},
     "output_type": "execute_result"
    }
   ],
   "source": [
    "new_var.reset_index()"
   ]
  },
  {
   "cell_type": "code",
   "execution_count": 71,
   "id": "1f80d54e-e6ea-4cbb-8c47-a35b4f81724f",
   "metadata": {},
   "outputs": [],
   "source": [
    "new_var.drop(\"Nothing\" ,axis=1, inplace=True)"
   ]
  },
  {
   "cell_type": "code",
   "execution_count": 72,
   "id": "85add7c3-2d0d-4943-816d-47f07b6a1208",
   "metadata": {},
   "outputs": [
    {
     "data": {
      "text/html": [
       "<div>\n",
       "<style scoped>\n",
       "    .dataframe tbody tr th:only-of-type {\n",
       "        vertical-align: middle;\n",
       "    }\n",
       "\n",
       "    .dataframe tbody tr th {\n",
       "        vertical-align: top;\n",
       "    }\n",
       "\n",
       "    .dataframe thead th {\n",
       "        text-align: right;\n",
       "    }\n",
       "</style>\n",
       "<table border=\"1\" class=\"dataframe\">\n",
       "  <thead>\n",
       "    <tr style=\"text-align: right;\">\n",
       "      <th></th>\n",
       "      <th>Name</th>\n",
       "      <th>age</th>\n",
       "      <th>marks</th>\n",
       "      <th>Measure</th>\n",
       "      <th>college</th>\n",
       "      <th>Country</th>\n",
       "    </tr>\n",
       "  </thead>\n",
       "  <tbody>\n",
       "    <tr>\n",
       "      <th>0</th>\n",
       "      <td>Ravi</td>\n",
       "      <td>19</td>\n",
       "      <td>98</td>\n",
       "      <td>Good</td>\n",
       "      <td>don't know</td>\n",
       "      <td>USA</td>\n",
       "    </tr>\n",
       "    <tr>\n",
       "      <th>1</th>\n",
       "      <td>Kushal</td>\n",
       "      <td>19</td>\n",
       "      <td>98</td>\n",
       "      <td>average</td>\n",
       "      <td>don't know</td>\n",
       "      <td>Canda</td>\n",
       "    </tr>\n",
       "    <tr>\n",
       "      <th>2</th>\n",
       "      <td>sabin</td>\n",
       "      <td>20</td>\n",
       "      <td>90</td>\n",
       "      <td>good</td>\n",
       "      <td>don't know</td>\n",
       "      <td>USA</td>\n",
       "    </tr>\n",
       "    <tr>\n",
       "      <th>3</th>\n",
       "      <td>rajesh</td>\n",
       "      <td>21</td>\n",
       "      <td>86</td>\n",
       "      <td>also Good</td>\n",
       "      <td>don't know</td>\n",
       "      <td>Dubai</td>\n",
       "    </tr>\n",
       "    <tr>\n",
       "      <th>4</th>\n",
       "      <td>Nikesh</td>\n",
       "      <td>20</td>\n",
       "      <td>86</td>\n",
       "      <td>Bad</td>\n",
       "      <td>don't know</td>\n",
       "      <td>australia</td>\n",
       "    </tr>\n",
       "    <tr>\n",
       "      <th>5</th>\n",
       "      <td>abhishek</td>\n",
       "      <td>23</td>\n",
       "      <td>90</td>\n",
       "      <td>Average</td>\n",
       "      <td>don't know</td>\n",
       "      <td>Japan</td>\n",
       "    </tr>\n",
       "  </tbody>\n",
       "</table>\n",
       "</div>"
      ],
      "text/plain": [
       "       Name  age  marks    Measure     college    Country\n",
       "0      Ravi   19     98       Good  don't know        USA\n",
       "1   Kushal    19     98    average  don't know      Canda\n",
       "2     sabin   20     90       good  don't know        USA\n",
       "3   rajesh    21     86  also Good  don't know      Dubai\n",
       "4    Nikesh   20     86        Bad  don't know  australia\n",
       "5  abhishek   23     90    Average  don't know      Japan"
      ]
     },
     "execution_count": 72,
     "metadata": {},
     "output_type": "execute_result"
    }
   ],
   "source": [
    "new_var "
   ]
  },
  {
   "cell_type": "code",
   "execution_count": 73,
   "id": "0737aaec-6463-4182-96e6-b160cf3c1463",
   "metadata": {},
   "outputs": [],
   "source": [
    "#fixing a  incomplete data\n",
    "#first creating a rnadom series\n",
    "dic={\"A\":[1,2,3],\"B\":[4,np.nan,6],\"C\":[7,np.nan,9]}\n",
    "S=pd.DataFrame(dic)"
   ]
  },
  {
   "cell_type": "code",
   "execution_count": 74,
   "id": "5215691b-7eb9-453c-a579-2dc507e9754c",
   "metadata": {},
   "outputs": [
    {
     "data": {
      "text/html": [
       "<div>\n",
       "<style scoped>\n",
       "    .dataframe tbody tr th:only-of-type {\n",
       "        vertical-align: middle;\n",
       "    }\n",
       "\n",
       "    .dataframe tbody tr th {\n",
       "        vertical-align: top;\n",
       "    }\n",
       "\n",
       "    .dataframe thead th {\n",
       "        text-align: right;\n",
       "    }\n",
       "</style>\n",
       "<table border=\"1\" class=\"dataframe\">\n",
       "  <thead>\n",
       "    <tr style=\"text-align: right;\">\n",
       "      <th></th>\n",
       "      <th>A</th>\n",
       "      <th>B</th>\n",
       "      <th>C</th>\n",
       "    </tr>\n",
       "  </thead>\n",
       "  <tbody>\n",
       "    <tr>\n",
       "      <th>0</th>\n",
       "      <td>1</td>\n",
       "      <td>4.0</td>\n",
       "      <td>7.0</td>\n",
       "    </tr>\n",
       "    <tr>\n",
       "      <th>1</th>\n",
       "      <td>2</td>\n",
       "      <td>NaN</td>\n",
       "      <td>NaN</td>\n",
       "    </tr>\n",
       "    <tr>\n",
       "      <th>2</th>\n",
       "      <td>3</td>\n",
       "      <td>6.0</td>\n",
       "      <td>9.0</td>\n",
       "    </tr>\n",
       "  </tbody>\n",
       "</table>\n",
       "</div>"
      ],
      "text/plain": [
       "   A    B    C\n",
       "0  1  4.0  7.0\n",
       "1  2  NaN  NaN\n",
       "2  3  6.0  9.0"
      ]
     },
     "execution_count": 74,
     "metadata": {},
     "output_type": "execute_result"
    }
   ],
   "source": [
    "S"
   ]
  },
  {
   "cell_type": "code",
   "execution_count": 75,
   "id": "9d321c1f-88b7-49f9-a0cc-415d1214df3f",
   "metadata": {},
   "outputs": [
    {
     "data": {
      "text/html": [
       "<div>\n",
       "<style scoped>\n",
       "    .dataframe tbody tr th:only-of-type {\n",
       "        vertical-align: middle;\n",
       "    }\n",
       "\n",
       "    .dataframe tbody tr th {\n",
       "        vertical-align: top;\n",
       "    }\n",
       "\n",
       "    .dataframe thead th {\n",
       "        text-align: right;\n",
       "    }\n",
       "</style>\n",
       "<table border=\"1\" class=\"dataframe\">\n",
       "  <thead>\n",
       "    <tr style=\"text-align: right;\">\n",
       "      <th></th>\n",
       "      <th>A</th>\n",
       "      <th>B</th>\n",
       "      <th>C</th>\n",
       "    </tr>\n",
       "  </thead>\n",
       "  <tbody>\n",
       "    <tr>\n",
       "      <th>0</th>\n",
       "      <td>1</td>\n",
       "      <td>4.0</td>\n",
       "      <td>7.0</td>\n",
       "    </tr>\n",
       "    <tr>\n",
       "      <th>2</th>\n",
       "      <td>3</td>\n",
       "      <td>6.0</td>\n",
       "      <td>9.0</td>\n",
       "    </tr>\n",
       "  </tbody>\n",
       "</table>\n",
       "</div>"
      ],
      "text/plain": [
       "   A    B    C\n",
       "0  1  4.0  7.0\n",
       "2  3  6.0  9.0"
      ]
     },
     "execution_count": 75,
     "metadata": {},
     "output_type": "execute_result"
    }
   ],
   "source": [
    "#dropping nan row\n",
    "S.dropna()"
   ]
  },
  {
   "cell_type": "code",
   "execution_count": 76,
   "id": "3b2e2a7b-7ffb-4d91-a49d-3cf9be18511a",
   "metadata": {},
   "outputs": [
    {
     "data": {
      "text/html": [
       "<div>\n",
       "<style scoped>\n",
       "    .dataframe tbody tr th:only-of-type {\n",
       "        vertical-align: middle;\n",
       "    }\n",
       "\n",
       "    .dataframe tbody tr th {\n",
       "        vertical-align: top;\n",
       "    }\n",
       "\n",
       "    .dataframe thead th {\n",
       "        text-align: right;\n",
       "    }\n",
       "</style>\n",
       "<table border=\"1\" class=\"dataframe\">\n",
       "  <thead>\n",
       "    <tr style=\"text-align: right;\">\n",
       "      <th></th>\n",
       "      <th>A</th>\n",
       "    </tr>\n",
       "  </thead>\n",
       "  <tbody>\n",
       "    <tr>\n",
       "      <th>0</th>\n",
       "      <td>1</td>\n",
       "    </tr>\n",
       "    <tr>\n",
       "      <th>1</th>\n",
       "      <td>2</td>\n",
       "    </tr>\n",
       "    <tr>\n",
       "      <th>2</th>\n",
       "      <td>3</td>\n",
       "    </tr>\n",
       "  </tbody>\n",
       "</table>\n",
       "</div>"
      ],
      "text/plain": [
       "   A\n",
       "0  1\n",
       "1  2\n",
       "2  3"
      ]
     },
     "execution_count": 76,
     "metadata": {},
     "output_type": "execute_result"
    }
   ],
   "source": [
    "#dropping a column \n",
    "S.dropna(axis=1)"
   ]
  },
  {
   "cell_type": "code",
   "execution_count": 77,
   "id": "7aa46696-a9e7-4a85-bf3f-886c0d9e7fec",
   "metadata": {},
   "outputs": [
    {
     "data": {
      "text/html": [
       "<div>\n",
       "<style scoped>\n",
       "    .dataframe tbody tr th:only-of-type {\n",
       "        vertical-align: middle;\n",
       "    }\n",
       "\n",
       "    .dataframe tbody tr th {\n",
       "        vertical-align: top;\n",
       "    }\n",
       "\n",
       "    .dataframe thead th {\n",
       "        text-align: right;\n",
       "    }\n",
       "</style>\n",
       "<table border=\"1\" class=\"dataframe\">\n",
       "  <thead>\n",
       "    <tr style=\"text-align: right;\">\n",
       "      <th></th>\n",
       "      <th>A</th>\n",
       "      <th>B</th>\n",
       "      <th>C</th>\n",
       "    </tr>\n",
       "  </thead>\n",
       "  <tbody>\n",
       "    <tr>\n",
       "      <th>0</th>\n",
       "      <td>1</td>\n",
       "      <td>4.0</td>\n",
       "      <td>7.0</td>\n",
       "    </tr>\n",
       "    <tr>\n",
       "      <th>2</th>\n",
       "      <td>3</td>\n",
       "      <td>6.0</td>\n",
       "      <td>9.0</td>\n",
       "    </tr>\n",
       "  </tbody>\n",
       "</table>\n",
       "</div>"
      ],
      "text/plain": [
       "   A    B    C\n",
       "0  1  4.0  7.0\n",
       "2  3  6.0  9.0"
      ]
     },
     "execution_count": 77,
     "metadata": {},
     "output_type": "execute_result"
    }
   ],
   "source": [
    "#Set Threshold\n",
    "S.dropna(thresh=2,axis=0)"
   ]
  },
  {
   "cell_type": "code",
   "execution_count": 78,
   "id": "e0ceec35-eee1-4d76-ab4c-17225b9e0b0a",
   "metadata": {},
   "outputs": [
    {
     "data": {
      "text/html": [
       "<div>\n",
       "<style scoped>\n",
       "    .dataframe tbody tr th:only-of-type {\n",
       "        vertical-align: middle;\n",
       "    }\n",
       "\n",
       "    .dataframe tbody tr th {\n",
       "        vertical-align: top;\n",
       "    }\n",
       "\n",
       "    .dataframe thead th {\n",
       "        text-align: right;\n",
       "    }\n",
       "</style>\n",
       "<table border=\"1\" class=\"dataframe\">\n",
       "  <thead>\n",
       "    <tr style=\"text-align: right;\">\n",
       "      <th></th>\n",
       "      <th>A</th>\n",
       "      <th>B</th>\n",
       "      <th>C</th>\n",
       "    </tr>\n",
       "  </thead>\n",
       "  <tbody>\n",
       "    <tr>\n",
       "      <th>0</th>\n",
       "      <td>1</td>\n",
       "      <td>4.0</td>\n",
       "      <td>7.0</td>\n",
       "    </tr>\n",
       "    <tr>\n",
       "      <th>1</th>\n",
       "      <td>2</td>\n",
       "      <td>9.0</td>\n",
       "      <td>9.0</td>\n",
       "    </tr>\n",
       "    <tr>\n",
       "      <th>2</th>\n",
       "      <td>3</td>\n",
       "      <td>6.0</td>\n",
       "      <td>9.0</td>\n",
       "    </tr>\n",
       "  </tbody>\n",
       "</table>\n",
       "</div>"
      ],
      "text/plain": [
       "   A    B    C\n",
       "0  1  4.0  7.0\n",
       "1  2  9.0  9.0\n",
       "2  3  6.0  9.0"
      ]
     },
     "execution_count": 78,
     "metadata": {},
     "output_type": "execute_result"
    }
   ],
   "source": [
    "#replace with values\n",
    "S.fillna(value=9)"
   ]
  },
  {
   "cell_type": "code",
   "execution_count": 79,
   "id": "c4863d2c-6203-495f-a955-d3f7315846ad",
   "metadata": {},
   "outputs": [
    {
     "data": {
      "text/html": [
       "<div>\n",
       "<style scoped>\n",
       "    .dataframe tbody tr th:only-of-type {\n",
       "        vertical-align: middle;\n",
       "    }\n",
       "\n",
       "    .dataframe tbody tr th {\n",
       "        vertical-align: top;\n",
       "    }\n",
       "\n",
       "    .dataframe thead th {\n",
       "        text-align: right;\n",
       "    }\n",
       "</style>\n",
       "<table border=\"1\" class=\"dataframe\">\n",
       "  <thead>\n",
       "    <tr style=\"text-align: right;\">\n",
       "      <th></th>\n",
       "      <th>A</th>\n",
       "      <th>B</th>\n",
       "      <th>C</th>\n",
       "    </tr>\n",
       "  </thead>\n",
       "  <tbody>\n",
       "    <tr>\n",
       "      <th>0</th>\n",
       "      <td>1</td>\n",
       "      <td>4.0</td>\n",
       "      <td>7.0</td>\n",
       "    </tr>\n",
       "    <tr>\n",
       "      <th>1</th>\n",
       "      <td>2</td>\n",
       "      <td>NaN</td>\n",
       "      <td>NaN</td>\n",
       "    </tr>\n",
       "    <tr>\n",
       "      <th>2</th>\n",
       "      <td>3</td>\n",
       "      <td>6.0</td>\n",
       "      <td>9.0</td>\n",
       "    </tr>\n",
       "  </tbody>\n",
       "</table>\n",
       "</div>"
      ],
      "text/plain": [
       "   A    B    C\n",
       "0  1  4.0  7.0\n",
       "1  2  NaN  NaN\n",
       "2  3  6.0  9.0"
      ]
     },
     "execution_count": 79,
     "metadata": {},
     "output_type": "execute_result"
    }
   ],
   "source": [
    "S"
   ]
  },
  {
   "cell_type": "code",
   "execution_count": 80,
   "id": "9eb61a09-9ce6-410d-993e-7832be3f1357",
   "metadata": {},
   "outputs": [
    {
     "data": {
      "text/html": [
       "<div>\n",
       "<style scoped>\n",
       "    .dataframe tbody tr th:only-of-type {\n",
       "        vertical-align: middle;\n",
       "    }\n",
       "\n",
       "    .dataframe tbody tr th {\n",
       "        vertical-align: top;\n",
       "    }\n",
       "\n",
       "    .dataframe thead th {\n",
       "        text-align: right;\n",
       "    }\n",
       "</style>\n",
       "<table border=\"1\" class=\"dataframe\">\n",
       "  <thead>\n",
       "    <tr style=\"text-align: right;\">\n",
       "      <th></th>\n",
       "      <th>A</th>\n",
       "      <th>B</th>\n",
       "      <th>C</th>\n",
       "    </tr>\n",
       "  </thead>\n",
       "  <tbody>\n",
       "    <tr>\n",
       "      <th>0</th>\n",
       "      <td>1</td>\n",
       "      <td>4.0</td>\n",
       "      <td>7.0</td>\n",
       "    </tr>\n",
       "    <tr>\n",
       "      <th>1</th>\n",
       "      <td>2</td>\n",
       "      <td>10.0</td>\n",
       "      <td>10.0</td>\n",
       "    </tr>\n",
       "    <tr>\n",
       "      <th>2</th>\n",
       "      <td>3</td>\n",
       "      <td>6.0</td>\n",
       "      <td>9.0</td>\n",
       "    </tr>\n",
       "  </tbody>\n",
       "</table>\n",
       "</div>"
      ],
      "text/plain": [
       "   A     B     C\n",
       "0  1   4.0   7.0\n",
       "1  2  10.0  10.0\n",
       "2  3   6.0   9.0"
      ]
     },
     "execution_count": 80,
     "metadata": {},
     "output_type": "execute_result"
    }
   ],
   "source": [
    "S.fillna(value=S[\"B\"].sum(),inplace=True)\n",
    "S"
   ]
  },
  {
   "cell_type": "code",
   "execution_count": 81,
   "id": "81d114ec-c612-49c7-a406-a746e3d07b37",
   "metadata": {},
   "outputs": [
    {
     "data": {
      "text/plain": [
       "B\n",
       "4.0     1\n",
       "6.0     1\n",
       "10.0    1\n",
       "dtype: int64"
      ]
     },
     "execution_count": 81,
     "metadata": {},
     "output_type": "execute_result"
    }
   ],
   "source": [
    "S.groupby(\"B\").size()"
   ]
  },
  {
   "cell_type": "code",
   "execution_count": 82,
   "id": "eb4aefbf-29ed-4ea1-b82a-0fcfc694a24a",
   "metadata": {},
   "outputs": [
    {
     "data": {
      "text/html": [
       "<div>\n",
       "<style scoped>\n",
       "    .dataframe tbody tr th:only-of-type {\n",
       "        vertical-align: middle;\n",
       "    }\n",
       "\n",
       "    .dataframe tbody tr th {\n",
       "        vertical-align: top;\n",
       "    }\n",
       "\n",
       "    .dataframe thead th {\n",
       "        text-align: right;\n",
       "    }\n",
       "</style>\n",
       "<table border=\"1\" class=\"dataframe\">\n",
       "  <thead>\n",
       "    <tr style=\"text-align: right;\">\n",
       "      <th></th>\n",
       "      <th>company_name</th>\n",
       "      <th>salary</th>\n",
       "      <th>employee_name</th>\n",
       "    </tr>\n",
       "  </thead>\n",
       "  <tbody>\n",
       "    <tr>\n",
       "      <th>0</th>\n",
       "      <td>Company A</td>\n",
       "      <td>50000</td>\n",
       "      <td>Alice</td>\n",
       "    </tr>\n",
       "    <tr>\n",
       "      <th>1</th>\n",
       "      <td>Company B</td>\n",
       "      <td>60000</td>\n",
       "      <td>Bob</td>\n",
       "    </tr>\n",
       "    <tr>\n",
       "      <th>2</th>\n",
       "      <td>Company C</td>\n",
       "      <td>55000</td>\n",
       "      <td>Charlie</td>\n",
       "    </tr>\n",
       "    <tr>\n",
       "      <th>3</th>\n",
       "      <td>Company D</td>\n",
       "      <td>70000</td>\n",
       "      <td>David</td>\n",
       "    </tr>\n",
       "    <tr>\n",
       "      <th>4</th>\n",
       "      <td>Company E</td>\n",
       "      <td>65000</td>\n",
       "      <td>Eve</td>\n",
       "    </tr>\n",
       "    <tr>\n",
       "      <th>5</th>\n",
       "      <td>Company F</td>\n",
       "      <td>60000</td>\n",
       "      <td>Frank</td>\n",
       "    </tr>\n",
       "    <tr>\n",
       "      <th>6</th>\n",
       "      <td>Company G</td>\n",
       "      <td>58000</td>\n",
       "      <td>Grace</td>\n",
       "    </tr>\n",
       "    <tr>\n",
       "      <th>7</th>\n",
       "      <td>Company H</td>\n",
       "      <td>62000</td>\n",
       "      <td>Hannah</td>\n",
       "    </tr>\n",
       "    <tr>\n",
       "      <th>8</th>\n",
       "      <td>Company I</td>\n",
       "      <td>72000</td>\n",
       "      <td>Ivy</td>\n",
       "    </tr>\n",
       "    <tr>\n",
       "      <th>9</th>\n",
       "      <td>Company J</td>\n",
       "      <td>68000</td>\n",
       "      <td>Jack</td>\n",
       "    </tr>\n",
       "  </tbody>\n",
       "</table>\n",
       "</div>"
      ],
      "text/plain": [
       "  company_name  salary employee_name\n",
       "0    Company A   50000         Alice\n",
       "1    Company B   60000           Bob\n",
       "2    Company C   55000       Charlie\n",
       "3    Company D   70000         David\n",
       "4    Company E   65000           Eve\n",
       "5    Company F   60000         Frank\n",
       "6    Company G   58000         Grace\n",
       "7    Company H   62000        Hannah\n",
       "8    Company I   72000           Ivy\n",
       "9    Company J   68000          Jack"
      ]
     },
     "execution_count": 82,
     "metadata": {},
     "output_type": "execute_result"
    }
   ],
   "source": [
    "data = {\n",
    "    \"company_name\": [\"Company A\", \"Company B\", \"Company C\", \"Company D\", \"Company E\", \n",
    "                     \"Company F\", \"Company G\", \"Company H\", \"Company I\", \"Company J\"],\n",
    "    \"salary\": [50000, 60000, 55000, 70000, 65000, 60000, 58000, 62000, 72000, 68000],\n",
    "    \"employee_name\": [\"Alice\", \"Bob\", \"Charlie\", \"David\", \"Eve\", \n",
    "                      \"Frank\", \"Grace\", \"Hannah\", \"Ivy\", \"Jack\"]\n",
    "}\n",
    "A=pd.DataFrame(data)\n",
    "A"
   ]
  },
  {
   "cell_type": "code",
   "execution_count": 89,
   "id": "93915133-1df9-4002-a595-5cd9a45b66be",
   "metadata": {},
   "outputs": [],
   "source": [
    "c=A.groupby(\"employee_name\")"
   ]
  },
  {
   "cell_type": "code",
   "execution_count": 91,
   "id": "79603715-7135-4f24-b18b-ea22f2cf4579",
   "metadata": {},
   "outputs": [
    {
     "data": {
      "text/plain": [
       "<pandas.core.groupby.generic.DataFrameGroupBy object at 0x00000298914B9750>"
      ]
     },
     "execution_count": 91,
     "metadata": {},
     "output_type": "execute_result"
    }
   ],
   "source": [
    "c"
   ]
  },
  {
   "cell_type": "code",
   "execution_count": 93,
   "id": "d646ef0b-1313-4cfa-9709-74b330aa14ea",
   "metadata": {},
   "outputs": [
    {
     "data": {
      "text/html": [
       "<div>\n",
       "<style scoped>\n",
       "    .dataframe tbody tr th:only-of-type {\n",
       "        vertical-align: middle;\n",
       "    }\n",
       "\n",
       "    .dataframe tbody tr th {\n",
       "        vertical-align: top;\n",
       "    }\n",
       "\n",
       "    .dataframe thead th {\n",
       "        text-align: right;\n",
       "    }\n",
       "</style>\n",
       "<table border=\"1\" class=\"dataframe\">\n",
       "  <thead>\n",
       "    <tr style=\"text-align: right;\">\n",
       "      <th></th>\n",
       "      <th>company_name</th>\n",
       "      <th>salary</th>\n",
       "    </tr>\n",
       "    <tr>\n",
       "      <th>employee_name</th>\n",
       "      <th></th>\n",
       "      <th></th>\n",
       "    </tr>\n",
       "  </thead>\n",
       "  <tbody>\n",
       "    <tr>\n",
       "      <th>Alice</th>\n",
       "      <td>Company A</td>\n",
       "      <td>50000</td>\n",
       "    </tr>\n",
       "    <tr>\n",
       "      <th>Bob</th>\n",
       "      <td>Company B</td>\n",
       "      <td>60000</td>\n",
       "    </tr>\n",
       "    <tr>\n",
       "      <th>Charlie</th>\n",
       "      <td>Company C</td>\n",
       "      <td>55000</td>\n",
       "    </tr>\n",
       "    <tr>\n",
       "      <th>David</th>\n",
       "      <td>Company D</td>\n",
       "      <td>70000</td>\n",
       "    </tr>\n",
       "    <tr>\n",
       "      <th>Eve</th>\n",
       "      <td>Company E</td>\n",
       "      <td>65000</td>\n",
       "    </tr>\n",
       "    <tr>\n",
       "      <th>Frank</th>\n",
       "      <td>Company F</td>\n",
       "      <td>60000</td>\n",
       "    </tr>\n",
       "    <tr>\n",
       "      <th>Grace</th>\n",
       "      <td>Company G</td>\n",
       "      <td>58000</td>\n",
       "    </tr>\n",
       "    <tr>\n",
       "      <th>Hannah</th>\n",
       "      <td>Company H</td>\n",
       "      <td>62000</td>\n",
       "    </tr>\n",
       "    <tr>\n",
       "      <th>Ivy</th>\n",
       "      <td>Company I</td>\n",
       "      <td>72000</td>\n",
       "    </tr>\n",
       "    <tr>\n",
       "      <th>Jack</th>\n",
       "      <td>Company J</td>\n",
       "      <td>68000</td>\n",
       "    </tr>\n",
       "  </tbody>\n",
       "</table>\n",
       "</div>"
      ],
      "text/plain": [
       "              company_name  salary\n",
       "employee_name                     \n",
       "Alice            Company A   50000\n",
       "Bob              Company B   60000\n",
       "Charlie          Company C   55000\n",
       "David            Company D   70000\n",
       "Eve              Company E   65000\n",
       "Frank            Company F   60000\n",
       "Grace            Company G   58000\n",
       "Hannah           Company H   62000\n",
       "Ivy              Company I   72000\n",
       "Jack             Company J   68000"
      ]
     },
     "execution_count": 93,
     "metadata": {},
     "output_type": "execute_result"
    }
   ],
   "source": [
    "c.sum()"
   ]
  },
  {
   "cell_type": "code",
   "execution_count": 97,
   "id": "a54e1e51-8b95-42a3-8fe5-99a2a25e84d2",
   "metadata": {},
   "outputs": [
    {
     "data": {
      "text/html": [
       "<div>\n",
       "<style scoped>\n",
       "    .dataframe tbody tr th:only-of-type {\n",
       "        vertical-align: middle;\n",
       "    }\n",
       "\n",
       "    .dataframe tbody tr th {\n",
       "        vertical-align: top;\n",
       "    }\n",
       "\n",
       "    .dataframe thead th {\n",
       "        text-align: right;\n",
       "    }\n",
       "</style>\n",
       "<table border=\"1\" class=\"dataframe\">\n",
       "  <thead>\n",
       "    <tr style=\"text-align: right;\">\n",
       "      <th></th>\n",
       "      <th>company_name</th>\n",
       "      <th>salary</th>\n",
       "    </tr>\n",
       "    <tr>\n",
       "      <th>employee_name</th>\n",
       "      <th></th>\n",
       "      <th></th>\n",
       "    </tr>\n",
       "  </thead>\n",
       "  <tbody>\n",
       "    <tr>\n",
       "      <th>Alice</th>\n",
       "      <td>Company A</td>\n",
       "      <td>50000</td>\n",
       "    </tr>\n",
       "    <tr>\n",
       "      <th>Bob</th>\n",
       "      <td>Company B</td>\n",
       "      <td>60000</td>\n",
       "    </tr>\n",
       "    <tr>\n",
       "      <th>Charlie</th>\n",
       "      <td>Company C</td>\n",
       "      <td>55000</td>\n",
       "    </tr>\n",
       "    <tr>\n",
       "      <th>David</th>\n",
       "      <td>Company D</td>\n",
       "      <td>70000</td>\n",
       "    </tr>\n",
       "    <tr>\n",
       "      <th>Eve</th>\n",
       "      <td>Company E</td>\n",
       "      <td>65000</td>\n",
       "    </tr>\n",
       "    <tr>\n",
       "      <th>Frank</th>\n",
       "      <td>Company F</td>\n",
       "      <td>60000</td>\n",
       "    </tr>\n",
       "    <tr>\n",
       "      <th>Grace</th>\n",
       "      <td>Company G</td>\n",
       "      <td>58000</td>\n",
       "    </tr>\n",
       "    <tr>\n",
       "      <th>Hannah</th>\n",
       "      <td>Company H</td>\n",
       "      <td>62000</td>\n",
       "    </tr>\n",
       "    <tr>\n",
       "      <th>Ivy</th>\n",
       "      <td>Company I</td>\n",
       "      <td>72000</td>\n",
       "    </tr>\n",
       "    <tr>\n",
       "      <th>Jack</th>\n",
       "      <td>Company J</td>\n",
       "      <td>68000</td>\n",
       "    </tr>\n",
       "  </tbody>\n",
       "</table>\n",
       "</div>"
      ],
      "text/plain": [
       "              company_name  salary\n",
       "employee_name                     \n",
       "Alice            Company A   50000\n",
       "Bob              Company B   60000\n",
       "Charlie          Company C   55000\n",
       "David            Company D   70000\n",
       "Eve              Company E   65000\n",
       "Frank            Company F   60000\n",
       "Grace            Company G   58000\n",
       "Hannah           Company H   62000\n",
       "Ivy              Company I   72000\n",
       "Jack             Company J   68000"
      ]
     },
     "execution_count": 97,
     "metadata": {},
     "output_type": "execute_result"
    }
   ],
   "source": [
    "c.max() "
   ]
  },
  {
   "cell_type": "code",
   "execution_count": 99,
   "id": "133a3abf-1692-4cb6-90a0-a93e49ffe9e5",
   "metadata": {},
   "outputs": [],
   "source": [
    "#Creating a DataFrame\n",
    "DIC= {\"Corporation\":[\"apple\",\"google\" ,\"Meta\", \"apple\",\"google\",\"Meta\"],\n",
    "      \"Employees\": [\"Alice\",\"bob\",\"Charlie\",\"david\",\"eve\",\"grace\"],\n",
    "      \"Salary\":[2000,1500,3500,4500,2000,1500]} \n",
    "df=pd.DataFrame(DIC)\n"
   ]
  },
  {
   "cell_type": "code",
   "execution_count": 101,
   "id": "61ba1a41-5dbe-4199-97b4-6e1b475f4382",
   "metadata": {},
   "outputs": [
    {
     "data": {
      "text/html": [
       "<div>\n",
       "<style scoped>\n",
       "    .dataframe tbody tr th:only-of-type {\n",
       "        vertical-align: middle;\n",
       "    }\n",
       "\n",
       "    .dataframe tbody tr th {\n",
       "        vertical-align: top;\n",
       "    }\n",
       "\n",
       "    .dataframe thead th {\n",
       "        text-align: right;\n",
       "    }\n",
       "</style>\n",
       "<table border=\"1\" class=\"dataframe\">\n",
       "  <thead>\n",
       "    <tr style=\"text-align: right;\">\n",
       "      <th></th>\n",
       "      <th>Corporation</th>\n",
       "      <th>Employees</th>\n",
       "      <th>Salary</th>\n",
       "    </tr>\n",
       "  </thead>\n",
       "  <tbody>\n",
       "    <tr>\n",
       "      <th>0</th>\n",
       "      <td>apple</td>\n",
       "      <td>Alice</td>\n",
       "      <td>2000</td>\n",
       "    </tr>\n",
       "    <tr>\n",
       "      <th>1</th>\n",
       "      <td>google</td>\n",
       "      <td>bob</td>\n",
       "      <td>1500</td>\n",
       "    </tr>\n",
       "    <tr>\n",
       "      <th>2</th>\n",
       "      <td>Meta</td>\n",
       "      <td>Charlie</td>\n",
       "      <td>3500</td>\n",
       "    </tr>\n",
       "    <tr>\n",
       "      <th>3</th>\n",
       "      <td>apple</td>\n",
       "      <td>david</td>\n",
       "      <td>4500</td>\n",
       "    </tr>\n",
       "    <tr>\n",
       "      <th>4</th>\n",
       "      <td>google</td>\n",
       "      <td>eve</td>\n",
       "      <td>2000</td>\n",
       "    </tr>\n",
       "    <tr>\n",
       "      <th>5</th>\n",
       "      <td>Meta</td>\n",
       "      <td>grace</td>\n",
       "      <td>1500</td>\n",
       "    </tr>\n",
       "  </tbody>\n",
       "</table>\n",
       "</div>"
      ],
      "text/plain": [
       "  Corporation Employees  Salary\n",
       "0       apple     Alice    2000\n",
       "1      google       bob    1500\n",
       "2        Meta   Charlie    3500\n",
       "3       apple     david    4500\n",
       "4      google       eve    2000\n",
       "5        Meta     grace    1500"
      ]
     },
     "execution_count": 101,
     "metadata": {},
     "output_type": "execute_result"
    }
   ],
   "source": [
    "df"
   ]
  },
  {
   "cell_type": "code",
   "execution_count": 106,
   "id": "cb3ffac1-9450-47d8-8080-c7e53f078ac4",
   "metadata": {},
   "outputs": [],
   "source": [
    "c=df.groupby(\"Corporation\")\n"
   ]
  },
  {
   "cell_type": "code",
   "execution_count": 108,
   "id": "c4f73f6d-7fc5-4b48-ba1b-65ab9b3f976f",
   "metadata": {},
   "outputs": [
    {
     "data": {
      "text/plain": [
       "<pandas.core.groupby.generic.DataFrameGroupBy object at 0x000002989972D310>"
      ]
     },
     "execution_count": 108,
     "metadata": {},
     "output_type": "execute_result"
    }
   ],
   "source": [
    "c"
   ]
  },
  {
   "cell_type": "code",
   "execution_count": 112,
   "id": "3bf28d5d-7797-4562-809b-08679cae7bfd",
   "metadata": {},
   "outputs": [
    {
     "data": {
      "text/html": [
       "<div>\n",
       "<style scoped>\n",
       "    .dataframe tbody tr th:only-of-type {\n",
       "        vertical-align: middle;\n",
       "    }\n",
       "\n",
       "    .dataframe tbody tr th {\n",
       "        vertical-align: top;\n",
       "    }\n",
       "\n",
       "    .dataframe thead th {\n",
       "        text-align: right;\n",
       "    }\n",
       "</style>\n",
       "<table border=\"1\" class=\"dataframe\">\n",
       "  <thead>\n",
       "    <tr style=\"text-align: right;\">\n",
       "      <th></th>\n",
       "      <th>Employees</th>\n",
       "      <th>Salary</th>\n",
       "    </tr>\n",
       "    <tr>\n",
       "      <th>Corporation</th>\n",
       "      <th></th>\n",
       "      <th></th>\n",
       "    </tr>\n",
       "  </thead>\n",
       "  <tbody>\n",
       "    <tr>\n",
       "      <th>Meta</th>\n",
       "      <td>Charliegrace</td>\n",
       "      <td>5000</td>\n",
       "    </tr>\n",
       "    <tr>\n",
       "      <th>apple</th>\n",
       "      <td>Alicedavid</td>\n",
       "      <td>6500</td>\n",
       "    </tr>\n",
       "    <tr>\n",
       "      <th>google</th>\n",
       "      <td>bobeve</td>\n",
       "      <td>3500</td>\n",
       "    </tr>\n",
       "  </tbody>\n",
       "</table>\n",
       "</div>"
      ],
      "text/plain": [
       "                Employees  Salary\n",
       "Corporation                      \n",
       "Meta         Charliegrace    5000\n",
       "apple          Alicedavid    6500\n",
       "google             bobeve    3500"
      ]
     },
     "execution_count": 112,
     "metadata": {},
     "output_type": "execute_result"
    }
   ],
   "source": [
    "c.sum()"
   ]
  },
  {
   "cell_type": "code",
   "execution_count": 114,
   "id": "112fcd88-4e18-46c6-ba55-8e9761ff1af6",
   "metadata": {},
   "outputs": [
    {
     "data": {
      "text/html": [
       "<div>\n",
       "<style scoped>\n",
       "    .dataframe tbody tr th:only-of-type {\n",
       "        vertical-align: middle;\n",
       "    }\n",
       "\n",
       "    .dataframe tbody tr th {\n",
       "        vertical-align: top;\n",
       "    }\n",
       "\n",
       "    .dataframe thead th {\n",
       "        text-align: right;\n",
       "    }\n",
       "</style>\n",
       "<table border=\"1\" class=\"dataframe\">\n",
       "  <thead>\n",
       "    <tr style=\"text-align: right;\">\n",
       "      <th></th>\n",
       "      <th>company_name</th>\n",
       "      <th>salary</th>\n",
       "      <th>employee_name</th>\n",
       "    </tr>\n",
       "  </thead>\n",
       "  <tbody>\n",
       "    <tr>\n",
       "      <th>0</th>\n",
       "      <td>Company A</td>\n",
       "      <td>50000</td>\n",
       "      <td>Alice</td>\n",
       "    </tr>\n",
       "    <tr>\n",
       "      <th>1</th>\n",
       "      <td>Company B</td>\n",
       "      <td>60000</td>\n",
       "      <td>Bob</td>\n",
       "    </tr>\n",
       "    <tr>\n",
       "      <th>2</th>\n",
       "      <td>Company C</td>\n",
       "      <td>55000</td>\n",
       "      <td>Charlie</td>\n",
       "    </tr>\n",
       "    <tr>\n",
       "      <th>3</th>\n",
       "      <td>Company D</td>\n",
       "      <td>70000</td>\n",
       "      <td>David</td>\n",
       "    </tr>\n",
       "    <tr>\n",
       "      <th>4</th>\n",
       "      <td>Company E</td>\n",
       "      <td>65000</td>\n",
       "      <td>Eve</td>\n",
       "    </tr>\n",
       "    <tr>\n",
       "      <th>5</th>\n",
       "      <td>Company F</td>\n",
       "      <td>60000</td>\n",
       "      <td>Frank</td>\n",
       "    </tr>\n",
       "    <tr>\n",
       "      <th>6</th>\n",
       "      <td>Company G</td>\n",
       "      <td>58000</td>\n",
       "      <td>Grace</td>\n",
       "    </tr>\n",
       "    <tr>\n",
       "      <th>7</th>\n",
       "      <td>Company H</td>\n",
       "      <td>62000</td>\n",
       "      <td>Hannah</td>\n",
       "    </tr>\n",
       "    <tr>\n",
       "      <th>8</th>\n",
       "      <td>Company I</td>\n",
       "      <td>72000</td>\n",
       "      <td>Ivy</td>\n",
       "    </tr>\n",
       "    <tr>\n",
       "      <th>9</th>\n",
       "      <td>Company J</td>\n",
       "      <td>68000</td>\n",
       "      <td>Jack</td>\n",
       "    </tr>\n",
       "  </tbody>\n",
       "</table>\n",
       "</div>"
      ],
      "text/plain": [
       "  company_name  salary employee_name\n",
       "0    Company A   50000         Alice\n",
       "1    Company B   60000           Bob\n",
       "2    Company C   55000       Charlie\n",
       "3    Company D   70000         David\n",
       "4    Company E   65000           Eve\n",
       "5    Company F   60000         Frank\n",
       "6    Company G   58000         Grace\n",
       "7    Company H   62000        Hannah\n",
       "8    Company I   72000           Ivy\n",
       "9    Company J   68000          Jack"
      ]
     },
     "execution_count": 114,
     "metadata": {},
     "output_type": "execute_result"
    }
   ],
   "source": [
    "A"
   ]
  },
  {
   "cell_type": "code",
   "execution_count": 116,
   "id": "5f48dc1f-ffe8-4e47-9ada-135399cc3282",
   "metadata": {},
   "outputs": [
    {
     "data": {
      "text/plain": [
       "0      Alice\n",
       "1        Bob\n",
       "2    Charlie\n",
       "3      David\n",
       "4        Eve\n",
       "5      Frank\n",
       "6      Grace\n",
       "7     Hannah\n",
       "8        Ivy\n",
       "9       Jack\n",
       "Name: employee_name, dtype: object"
      ]
     },
     "execution_count": 116,
     "metadata": {},
     "output_type": "execute_result"
    }
   ],
   "source": [
    "A[\"employee_name\"]"
   ]
  },
  {
   "cell_type": "code",
   "execution_count": 124,
   "id": "c257e12f-45a9-468d-8f6b-0dda086a567c",
   "metadata": {},
   "outputs": [
    {
     "data": {
      "text/html": [
       "<div>\n",
       "<style scoped>\n",
       "    .dataframe tbody tr th:only-of-type {\n",
       "        vertical-align: middle;\n",
       "    }\n",
       "\n",
       "    .dataframe tbody tr th {\n",
       "        vertical-align: top;\n",
       "    }\n",
       "\n",
       "    .dataframe thead th {\n",
       "        text-align: right;\n",
       "    }\n",
       "</style>\n",
       "<table border=\"1\" class=\"dataframe\">\n",
       "  <thead>\n",
       "    <tr style=\"text-align: right;\">\n",
       "      <th></th>\n",
       "      <th>count</th>\n",
       "    </tr>\n",
       "    <tr>\n",
       "      <th>salary</th>\n",
       "      <th></th>\n",
       "    </tr>\n",
       "  </thead>\n",
       "  <tbody>\n",
       "    <tr>\n",
       "      <th>60000</th>\n",
       "      <td>2</td>\n",
       "    </tr>\n",
       "    <tr>\n",
       "      <th>50000</th>\n",
       "      <td>1</td>\n",
       "    </tr>\n",
       "    <tr>\n",
       "      <th>55000</th>\n",
       "      <td>1</td>\n",
       "    </tr>\n",
       "    <tr>\n",
       "      <th>70000</th>\n",
       "      <td>1</td>\n",
       "    </tr>\n",
       "    <tr>\n",
       "      <th>65000</th>\n",
       "      <td>1</td>\n",
       "    </tr>\n",
       "    <tr>\n",
       "      <th>58000</th>\n",
       "      <td>1</td>\n",
       "    </tr>\n",
       "    <tr>\n",
       "      <th>62000</th>\n",
       "      <td>1</td>\n",
       "    </tr>\n",
       "    <tr>\n",
       "      <th>72000</th>\n",
       "      <td>1</td>\n",
       "    </tr>\n",
       "    <tr>\n",
       "      <th>68000</th>\n",
       "      <td>1</td>\n",
       "    </tr>\n",
       "  </tbody>\n",
       "</table>\n",
       "</div>"
      ],
      "text/plain": [
       "        count\n",
       "salary       \n",
       "60000       2\n",
       "50000       1\n",
       "55000       1\n",
       "70000       1\n",
       "65000       1\n",
       "58000       1\n",
       "62000       1\n",
       "72000       1\n",
       "68000       1"
      ]
     },
     "execution_count": 124,
     "metadata": {},
     "output_type": "execute_result"
    }
   ],
   "source": [
    "pd.DataFrame(A[\"salary\"].value_counts()) "
   ]
  },
  {
   "cell_type": "code",
   "execution_count": 134,
   "id": "64f84c17-5937-42c7-9fbc-2ce152561caf",
   "metadata": {},
   "outputs": [
    {
     "data": {
      "text/plain": [
       "array([50000, 60000, 55000, 70000, 65000, 58000, 62000, 72000, 68000],\n",
       "      dtype=int64)"
      ]
     },
     "execution_count": 134,
     "metadata": {},
     "output_type": "execute_result"
    }
   ],
   "source": [
    "A[\"salary\"].unique() "
   ]
  },
  {
   "cell_type": "code",
   "execution_count": 136,
   "id": "29c01e0b-6b0b-4666-8884-f48ae60bed5d",
   "metadata": {},
   "outputs": [
    {
     "data": {
      "text/html": [
       "<div>\n",
       "<style scoped>\n",
       "    .dataframe tbody tr th:only-of-type {\n",
       "        vertical-align: middle;\n",
       "    }\n",
       "\n",
       "    .dataframe tbody tr th {\n",
       "        vertical-align: top;\n",
       "    }\n",
       "\n",
       "    .dataframe thead th {\n",
       "        text-align: right;\n",
       "    }\n",
       "</style>\n",
       "<table border=\"1\" class=\"dataframe\">\n",
       "  <thead>\n",
       "    <tr style=\"text-align: right;\">\n",
       "      <th></th>\n",
       "      <th>0</th>\n",
       "    </tr>\n",
       "  </thead>\n",
       "  <tbody>\n",
       "    <tr>\n",
       "      <th>0</th>\n",
       "      <td>50000</td>\n",
       "    </tr>\n",
       "    <tr>\n",
       "      <th>1</th>\n",
       "      <td>60000</td>\n",
       "    </tr>\n",
       "    <tr>\n",
       "      <th>2</th>\n",
       "      <td>55000</td>\n",
       "    </tr>\n",
       "    <tr>\n",
       "      <th>3</th>\n",
       "      <td>70000</td>\n",
       "    </tr>\n",
       "    <tr>\n",
       "      <th>4</th>\n",
       "      <td>65000</td>\n",
       "    </tr>\n",
       "  </tbody>\n",
       "</table>\n",
       "</div>"
      ],
      "text/plain": [
       "       0\n",
       "0  50000\n",
       "1  60000\n",
       "2  55000\n",
       "3  70000\n",
       "4  65000"
      ]
     },
     "execution_count": 136,
     "metadata": {},
     "output_type": "execute_result"
    }
   ],
   "source": [
    "pd.DataFrame(A[\"salary\"].unique() ).head()"
   ]
  },
  {
   "cell_type": "code",
   "execution_count": 138,
   "id": "c69b04f5-f683-4b08-b09d-75defa9c08b1",
   "metadata": {},
   "outputs": [
    {
     "data": {
      "text/html": [
       "<div>\n",
       "<style scoped>\n",
       "    .dataframe tbody tr th:only-of-type {\n",
       "        vertical-align: middle;\n",
       "    }\n",
       "\n",
       "    .dataframe tbody tr th {\n",
       "        vertical-align: top;\n",
       "    }\n",
       "\n",
       "    .dataframe thead th {\n",
       "        text-align: right;\n",
       "    }\n",
       "</style>\n",
       "<table border=\"1\" class=\"dataframe\">\n",
       "  <thead>\n",
       "    <tr style=\"text-align: right;\">\n",
       "      <th></th>\n",
       "      <th>Corporation</th>\n",
       "      <th>Employees</th>\n",
       "      <th>Salary</th>\n",
       "    </tr>\n",
       "  </thead>\n",
       "  <tbody>\n",
       "    <tr>\n",
       "      <th>0</th>\n",
       "      <td>apple</td>\n",
       "      <td>Alice</td>\n",
       "      <td>2000</td>\n",
       "    </tr>\n",
       "    <tr>\n",
       "      <th>1</th>\n",
       "      <td>google</td>\n",
       "      <td>bob</td>\n",
       "      <td>1500</td>\n",
       "    </tr>\n",
       "    <tr>\n",
       "      <th>2</th>\n",
       "      <td>Meta</td>\n",
       "      <td>Charlie</td>\n",
       "      <td>3500</td>\n",
       "    </tr>\n",
       "    <tr>\n",
       "      <th>3</th>\n",
       "      <td>apple</td>\n",
       "      <td>david</td>\n",
       "      <td>4500</td>\n",
       "    </tr>\n",
       "    <tr>\n",
       "      <th>4</th>\n",
       "      <td>google</td>\n",
       "      <td>eve</td>\n",
       "      <td>2000</td>\n",
       "    </tr>\n",
       "    <tr>\n",
       "      <th>5</th>\n",
       "      <td>Meta</td>\n",
       "      <td>grace</td>\n",
       "      <td>1500</td>\n",
       "    </tr>\n",
       "  </tbody>\n",
       "</table>\n",
       "</div>"
      ],
      "text/plain": [
       "  Corporation Employees  Salary\n",
       "0       apple     Alice    2000\n",
       "1      google       bob    1500\n",
       "2        Meta   Charlie    3500\n",
       "3       apple     david    4500\n",
       "4      google       eve    2000\n",
       "5        Meta     grace    1500"
      ]
     },
     "execution_count": 138,
     "metadata": {},
     "output_type": "execute_result"
    }
   ],
   "source": [
    "df"
   ]
  },
  {
   "cell_type": "code",
   "execution_count": 142,
   "id": "4721346c-2899-4e82-9210-e55670950b8a",
   "metadata": {},
   "outputs": [
    {
     "data": {
      "text/html": [
       "<div>\n",
       "<style scoped>\n",
       "    .dataframe tbody tr th:only-of-type {\n",
       "        vertical-align: middle;\n",
       "    }\n",
       "\n",
       "    .dataframe tbody tr th {\n",
       "        vertical-align: top;\n",
       "    }\n",
       "\n",
       "    .dataframe thead th {\n",
       "        text-align: right;\n",
       "    }\n",
       "</style>\n",
       "<table border=\"1\" class=\"dataframe\">\n",
       "  <thead>\n",
       "    <tr style=\"text-align: right;\">\n",
       "      <th></th>\n",
       "      <th>Salary</th>\n",
       "    </tr>\n",
       "  </thead>\n",
       "  <tbody>\n",
       "    <tr>\n",
       "      <th>0</th>\n",
       "      <td>2,000,000</td>\n",
       "    </tr>\n",
       "    <tr>\n",
       "      <th>1</th>\n",
       "      <td>1,500,000</td>\n",
       "    </tr>\n",
       "    <tr>\n",
       "      <th>2</th>\n",
       "      <td>3,500,000</td>\n",
       "    </tr>\n",
       "    <tr>\n",
       "      <th>3</th>\n",
       "      <td>4,500,000</td>\n",
       "    </tr>\n",
       "    <tr>\n",
       "      <th>4</th>\n",
       "      <td>2,000,000</td>\n",
       "    </tr>\n",
       "    <tr>\n",
       "      <th>5</th>\n",
       "      <td>1,500,000</td>\n",
       "    </tr>\n",
       "  </tbody>\n",
       "</table>\n",
       "</div>"
      ],
      "text/plain": [
       "      Salary\n",
       "0  2,000,000\n",
       "1  1,500,000\n",
       "2  3,500,000\n",
       "3  4,500,000\n",
       "4  2,000,000\n",
       "5  1,500,000"
      ]
     },
     "execution_count": 142,
     "metadata": {},
     "output_type": "execute_result"
    }
   ],
   "source": [
    "#Creating A function\n",
    "def Times1000(n) :\n",
    "    return format(n*1000,\",d\")\n",
    "\n",
    "pd.DataFrame(df[\"Salary\"].apply(Times1000))\n",
    "             "
   ]
  },
  {
   "cell_type": "code",
   "execution_count": 148,
   "id": "a5b51c7e-dd94-4012-ac6e-713e3387179c",
   "metadata": {},
   "outputs": [
    {
     "data": {
      "text/html": [
       "<div>\n",
       "<style scoped>\n",
       "    .dataframe tbody tr th:only-of-type {\n",
       "        vertical-align: middle;\n",
       "    }\n",
       "\n",
       "    .dataframe tbody tr th {\n",
       "        vertical-align: top;\n",
       "    }\n",
       "\n",
       "    .dataframe thead th {\n",
       "        text-align: right;\n",
       "    }\n",
       "</style>\n",
       "<table border=\"1\" class=\"dataframe\">\n",
       "  <thead>\n",
       "    <tr style=\"text-align: right;\">\n",
       "      <th></th>\n",
       "      <th>Employees</th>\n",
       "    </tr>\n",
       "  </thead>\n",
       "  <tbody>\n",
       "    <tr>\n",
       "      <th>0</th>\n",
       "      <td>Alice Nepal</td>\n",
       "    </tr>\n",
       "    <tr>\n",
       "      <th>1</th>\n",
       "      <td>Not Important</td>\n",
       "    </tr>\n",
       "    <tr>\n",
       "      <th>2</th>\n",
       "      <td>Not Important</td>\n",
       "    </tr>\n",
       "    <tr>\n",
       "      <th>3</th>\n",
       "      <td>Not Important</td>\n",
       "    </tr>\n",
       "    <tr>\n",
       "      <th>4</th>\n",
       "      <td>Not Important</td>\n",
       "    </tr>\n",
       "    <tr>\n",
       "      <th>5</th>\n",
       "      <td>Not Important</td>\n",
       "    </tr>\n",
       "  </tbody>\n",
       "</table>\n",
       "</div>"
      ],
      "text/plain": [
       "       Employees\n",
       "0    Alice Nepal\n",
       "1  Not Important\n",
       "2  Not Important\n",
       "3  Not Important\n",
       "4  Not Important\n",
       "5  Not Important"
      ]
     },
     "execution_count": 148,
     "metadata": {},
     "output_type": "execute_result"
    }
   ],
   "source": [
    "#Creating a function That add a last name\n",
    "def add(name) :\n",
    "    if name == \"Alice\" :\n",
    "        return \"Alice Nepal\"\n",
    "    else: \n",
    "        return \"Not Important\" \n",
    "pd.DataFrame(df[\"Employees\"].apply(add))"
   ]
  },
  {
   "cell_type": "code",
   "execution_count": 152,
   "id": "3a1ac646-8e93-46a0-88f0-0e829439a7ae",
   "metadata": {},
   "outputs": [
    {
     "data": {
      "text/html": [
       "<div>\n",
       "<style scoped>\n",
       "    .dataframe tbody tr th:only-of-type {\n",
       "        vertical-align: middle;\n",
       "    }\n",
       "\n",
       "    .dataframe tbody tr th {\n",
       "        vertical-align: top;\n",
       "    }\n",
       "\n",
       "    .dataframe thead th {\n",
       "        text-align: right;\n",
       "    }\n",
       "</style>\n",
       "<table border=\"1\" class=\"dataframe\">\n",
       "  <thead>\n",
       "    <tr style=\"text-align: right;\">\n",
       "      <th></th>\n",
       "      <th>Salary</th>\n",
       "    </tr>\n",
       "  </thead>\n",
       "  <tbody>\n",
       "    <tr>\n",
       "      <th>0</th>\n",
       "      <td>2,000,000</td>\n",
       "    </tr>\n",
       "    <tr>\n",
       "      <th>1</th>\n",
       "      <td>1,500,000</td>\n",
       "    </tr>\n",
       "    <tr>\n",
       "      <th>2</th>\n",
       "      <td>3,500,000</td>\n",
       "    </tr>\n",
       "    <tr>\n",
       "      <th>3</th>\n",
       "      <td>4,500,000</td>\n",
       "    </tr>\n",
       "    <tr>\n",
       "      <th>4</th>\n",
       "      <td>2,000,000</td>\n",
       "    </tr>\n",
       "    <tr>\n",
       "      <th>5</th>\n",
       "      <td>1,500,000</td>\n",
       "    </tr>\n",
       "  </tbody>\n",
       "</table>\n",
       "</div>"
      ],
      "text/plain": [
       "      Salary\n",
       "0  2,000,000\n",
       "1  1,500,000\n",
       "2  3,500,000\n",
       "3  4,500,000\n",
       "4  2,000,000\n",
       "5  1,500,000"
      ]
     },
     "execution_count": 152,
     "metadata": {},
     "output_type": "execute_result"
    }
   ],
   "source": [
    "#use of lambda function \n",
    "pd.DataFrame(df[\"Salary\"].apply(lambda x: format(x*1000,\",d\")))"
   ]
  },
  {
   "cell_type": "code",
   "execution_count": 154,
   "id": "fb2942c7-a5fa-4fe2-8f23-cefda5e513d6",
   "metadata": {},
   "outputs": [],
   "source": [
    "#applying a function on multiple of column \n",
    "#Creating a function :: \n"
   ]
  },
  {
   "cell_type": "code",
   "execution_count": 156,
   "id": "5da532fa-da7b-4baa-81d3-435da9c8b437",
   "metadata": {},
   "outputs": [],
   "source": [
    "def namer(x) :\n",
    "    return \"Ravi:\" + x\n",
    "df[[\"Corporation\",\"Employees\"]]=pd.DataFrame(df[[\"Corporation\",\"Employees\"]].apply(namer))"
   ]
  },
  {
   "cell_type": "code",
   "execution_count": 158,
   "id": "c0f800dd-8aac-4c4d-a99b-fb0bdf5560de",
   "metadata": {},
   "outputs": [
    {
     "data": {
      "text/html": [
       "<div>\n",
       "<style scoped>\n",
       "    .dataframe tbody tr th:only-of-type {\n",
       "        vertical-align: middle;\n",
       "    }\n",
       "\n",
       "    .dataframe tbody tr th {\n",
       "        vertical-align: top;\n",
       "    }\n",
       "\n",
       "    .dataframe thead th {\n",
       "        text-align: right;\n",
       "    }\n",
       "</style>\n",
       "<table border=\"1\" class=\"dataframe\">\n",
       "  <thead>\n",
       "    <tr style=\"text-align: right;\">\n",
       "      <th></th>\n",
       "      <th>Corporation</th>\n",
       "      <th>Employees</th>\n",
       "      <th>Salary</th>\n",
       "    </tr>\n",
       "  </thead>\n",
       "  <tbody>\n",
       "    <tr>\n",
       "      <th>0</th>\n",
       "      <td>Ravi:apple</td>\n",
       "      <td>Ravi:Alice</td>\n",
       "      <td>2000</td>\n",
       "    </tr>\n",
       "    <tr>\n",
       "      <th>1</th>\n",
       "      <td>Ravi:google</td>\n",
       "      <td>Ravi:bob</td>\n",
       "      <td>1500</td>\n",
       "    </tr>\n",
       "    <tr>\n",
       "      <th>2</th>\n",
       "      <td>Ravi:Meta</td>\n",
       "      <td>Ravi:Charlie</td>\n",
       "      <td>3500</td>\n",
       "    </tr>\n",
       "    <tr>\n",
       "      <th>3</th>\n",
       "      <td>Ravi:apple</td>\n",
       "      <td>Ravi:david</td>\n",
       "      <td>4500</td>\n",
       "    </tr>\n",
       "    <tr>\n",
       "      <th>4</th>\n",
       "      <td>Ravi:google</td>\n",
       "      <td>Ravi:eve</td>\n",
       "      <td>2000</td>\n",
       "    </tr>\n",
       "    <tr>\n",
       "      <th>5</th>\n",
       "      <td>Ravi:Meta</td>\n",
       "      <td>Ravi:grace</td>\n",
       "      <td>1500</td>\n",
       "    </tr>\n",
       "  </tbody>\n",
       "</table>\n",
       "</div>"
      ],
      "text/plain": [
       "   Corporation     Employees  Salary\n",
       "0   Ravi:apple    Ravi:Alice    2000\n",
       "1  Ravi:google      Ravi:bob    1500\n",
       "2    Ravi:Meta  Ravi:Charlie    3500\n",
       "3   Ravi:apple    Ravi:david    4500\n",
       "4  Ravi:google      Ravi:eve    2000\n",
       "5    Ravi:Meta    Ravi:grace    1500"
      ]
     },
     "execution_count": 158,
     "metadata": {},
     "output_type": "execute_result"
    }
   ],
   "source": [
    "df"
   ]
  },
  {
   "cell_type": "code",
   "execution_count": 168,
   "id": "a90e437a-2ef1-45b1-8545-8441601a4dfa",
   "metadata": {},
   "outputs": [
    {
     "data": {
      "text/html": [
       "<div>\n",
       "<style scoped>\n",
       "    .dataframe tbody tr th:only-of-type {\n",
       "        vertical-align: middle;\n",
       "    }\n",
       "\n",
       "    .dataframe tbody tr th {\n",
       "        vertical-align: top;\n",
       "    }\n",
       "\n",
       "    .dataframe thead th {\n",
       "        text-align: right;\n",
       "    }\n",
       "</style>\n",
       "<table border=\"1\" class=\"dataframe\">\n",
       "  <thead>\n",
       "    <tr style=\"text-align: right;\">\n",
       "      <th></th>\n",
       "      <th>Corporation</th>\n",
       "      <th>Employees</th>\n",
       "      <th>Salary</th>\n",
       "    </tr>\n",
       "  </thead>\n",
       "  <tbody>\n",
       "    <tr>\n",
       "      <th>1</th>\n",
       "      <td>Ravi:google</td>\n",
       "      <td>Ravi:bob</td>\n",
       "      <td>1500</td>\n",
       "    </tr>\n",
       "    <tr>\n",
       "      <th>5</th>\n",
       "      <td>Ravi:Meta</td>\n",
       "      <td>Ravi:grace</td>\n",
       "      <td>1500</td>\n",
       "    </tr>\n",
       "    <tr>\n",
       "      <th>0</th>\n",
       "      <td>Ravi:apple</td>\n",
       "      <td>Ravi:Alice</td>\n",
       "      <td>2000</td>\n",
       "    </tr>\n",
       "    <tr>\n",
       "      <th>4</th>\n",
       "      <td>Ravi:google</td>\n",
       "      <td>Ravi:eve</td>\n",
       "      <td>2000</td>\n",
       "    </tr>\n",
       "    <tr>\n",
       "      <th>2</th>\n",
       "      <td>Ravi:Meta</td>\n",
       "      <td>Ravi:Charlie</td>\n",
       "      <td>3500</td>\n",
       "    </tr>\n",
       "    <tr>\n",
       "      <th>3</th>\n",
       "      <td>Ravi:apple</td>\n",
       "      <td>Ravi:david</td>\n",
       "      <td>4500</td>\n",
       "    </tr>\n",
       "  </tbody>\n",
       "</table>\n",
       "</div>"
      ],
      "text/plain": [
       "   Corporation     Employees  Salary\n",
       "1  Ravi:google      Ravi:bob    1500\n",
       "5    Ravi:Meta    Ravi:grace    1500\n",
       "0   Ravi:apple    Ravi:Alice    2000\n",
       "4  Ravi:google      Ravi:eve    2000\n",
       "2    Ravi:Meta  Ravi:Charlie    3500\n",
       "3   Ravi:apple    Ravi:david    4500"
      ]
     },
     "execution_count": 168,
     "metadata": {},
     "output_type": "execute_result"
    }
   ],
   "source": [
    "#Sorting and ordering data\n",
    "df.sort_values(\"Salary\",ascending=True)"
   ]
  },
  {
   "cell_type": "code",
   "execution_count": 174,
   "id": "ce33e311-64c6-4a18-99f8-b789c9132aa8",
   "metadata": {},
   "outputs": [],
   "source": [
    "df.sort_values(\"Salary\",ascending=False,inplace=True)"
   ]
  },
  {
   "cell_type": "code",
   "execution_count": 178,
   "id": "4fbcfcb9-80ff-4685-b1b3-54c73dee8c6f",
   "metadata": {},
   "outputs": [
    {
     "data": {
      "text/html": [
       "<div>\n",
       "<style scoped>\n",
       "    .dataframe tbody tr th:only-of-type {\n",
       "        vertical-align: middle;\n",
       "    }\n",
       "\n",
       "    .dataframe tbody tr th {\n",
       "        vertical-align: top;\n",
       "    }\n",
       "\n",
       "    .dataframe thead th {\n",
       "        text-align: right;\n",
       "    }\n",
       "</style>\n",
       "<table border=\"1\" class=\"dataframe\">\n",
       "  <thead>\n",
       "    <tr style=\"text-align: right;\">\n",
       "      <th></th>\n",
       "      <th>Corporation</th>\n",
       "      <th>Employees</th>\n",
       "      <th>Salary</th>\n",
       "    </tr>\n",
       "  </thead>\n",
       "  <tbody>\n",
       "    <tr>\n",
       "      <th>0</th>\n",
       "      <td>Ravi:apple</td>\n",
       "      <td>Ravi:Alice</td>\n",
       "      <td>2000</td>\n",
       "    </tr>\n",
       "    <tr>\n",
       "      <th>2</th>\n",
       "      <td>Ravi:Meta</td>\n",
       "      <td>Ravi:Charlie</td>\n",
       "      <td>3500</td>\n",
       "    </tr>\n",
       "    <tr>\n",
       "      <th>1</th>\n",
       "      <td>Ravi:google</td>\n",
       "      <td>Ravi:bob</td>\n",
       "      <td>1500</td>\n",
       "    </tr>\n",
       "    <tr>\n",
       "      <th>3</th>\n",
       "      <td>Ravi:apple</td>\n",
       "      <td>Ravi:david</td>\n",
       "      <td>4500</td>\n",
       "    </tr>\n",
       "    <tr>\n",
       "      <th>4</th>\n",
       "      <td>Ravi:google</td>\n",
       "      <td>Ravi:eve</td>\n",
       "      <td>2000</td>\n",
       "    </tr>\n",
       "    <tr>\n",
       "      <th>5</th>\n",
       "      <td>Ravi:Meta</td>\n",
       "      <td>Ravi:grace</td>\n",
       "      <td>1500</td>\n",
       "    </tr>\n",
       "  </tbody>\n",
       "</table>\n",
       "</div>"
      ],
      "text/plain": [
       "   Corporation     Employees  Salary\n",
       "0   Ravi:apple    Ravi:Alice    2000\n",
       "2    Ravi:Meta  Ravi:Charlie    3500\n",
       "1  Ravi:google      Ravi:bob    1500\n",
       "3   Ravi:apple    Ravi:david    4500\n",
       "4  Ravi:google      Ravi:eve    2000\n",
       "5    Ravi:Meta    Ravi:grace    1500"
      ]
     },
     "execution_count": 178,
     "metadata": {},
     "output_type": "execute_result"
    }
   ],
   "source": [
    "df.sort_values(\"Employees\",ascending=True)"
   ]
  },
  {
   "cell_type": "code",
   "execution_count": 180,
   "id": "b80988ce-9888-4bea-9f3e-b03158694622",
   "metadata": {},
   "outputs": [
    {
     "data": {
      "text/html": [
       "<div>\n",
       "<style scoped>\n",
       "    .dataframe tbody tr th:only-of-type {\n",
       "        vertical-align: middle;\n",
       "    }\n",
       "\n",
       "    .dataframe tbody tr th {\n",
       "        vertical-align: top;\n",
       "    }\n",
       "\n",
       "    .dataframe thead th {\n",
       "        text-align: right;\n",
       "    }\n",
       "</style>\n",
       "<table border=\"1\" class=\"dataframe\">\n",
       "  <thead>\n",
       "    <tr style=\"text-align: right;\">\n",
       "      <th></th>\n",
       "      <th>Corporation</th>\n",
       "      <th>Employees</th>\n",
       "      <th>Salary</th>\n",
       "    </tr>\n",
       "  </thead>\n",
       "  <tbody>\n",
       "    <tr>\n",
       "      <th>3</th>\n",
       "      <td>Ravi:apple</td>\n",
       "      <td>Ravi:david</td>\n",
       "      <td>4500</td>\n",
       "    </tr>\n",
       "    <tr>\n",
       "      <th>2</th>\n",
       "      <td>Ravi:Meta</td>\n",
       "      <td>Ravi:Charlie</td>\n",
       "      <td>3500</td>\n",
       "    </tr>\n",
       "    <tr>\n",
       "      <th>0</th>\n",
       "      <td>Ravi:apple</td>\n",
       "      <td>Ravi:Alice</td>\n",
       "      <td>2000</td>\n",
       "    </tr>\n",
       "    <tr>\n",
       "      <th>4</th>\n",
       "      <td>Ravi:google</td>\n",
       "      <td>Ravi:eve</td>\n",
       "      <td>2000</td>\n",
       "    </tr>\n",
       "    <tr>\n",
       "      <th>1</th>\n",
       "      <td>Ravi:google</td>\n",
       "      <td>Ravi:bob</td>\n",
       "      <td>1500</td>\n",
       "    </tr>\n",
       "    <tr>\n",
       "      <th>5</th>\n",
       "      <td>Ravi:Meta</td>\n",
       "      <td>Ravi:grace</td>\n",
       "      <td>1500</td>\n",
       "    </tr>\n",
       "  </tbody>\n",
       "</table>\n",
       "</div>"
      ],
      "text/plain": [
       "   Corporation     Employees  Salary\n",
       "3   Ravi:apple    Ravi:david    4500\n",
       "2    Ravi:Meta  Ravi:Charlie    3500\n",
       "0   Ravi:apple    Ravi:Alice    2000\n",
       "4  Ravi:google      Ravi:eve    2000\n",
       "1  Ravi:google      Ravi:bob    1500\n",
       "5    Ravi:Meta    Ravi:grace    1500"
      ]
     },
     "execution_count": 180,
     "metadata": {},
     "output_type": "execute_result"
    }
   ],
   "source": [
    "df"
   ]
  },
  {
   "cell_type": "code",
   "execution_count": null,
   "id": "0d55a159-d11e-45c1-a7d6-55d13e2bae03",
   "metadata": {},
   "outputs": [],
   "source": []
  }
 ],
 "metadata": {
  "kernelspec": {
   "display_name": "Python 3 (ipykernel)",
   "language": "python",
   "name": "python3"
  },
  "language_info": {
   "codemirror_mode": {
    "name": "ipython",
    "version": 3
   },
   "file_extension": ".py",
   "mimetype": "text/x-python",
   "name": "python",
   "nbconvert_exporter": "python",
   "pygments_lexer": "ipython3",
   "version": "3.11.7"
  }
 },
 "nbformat": 4,
 "nbformat_minor": 5
}
